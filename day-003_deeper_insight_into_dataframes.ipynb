{
 "cells": [
  {
   "cell_type": "markdown",
   "metadata": {},
   "source": [
    "# Day 3 - A Deeper Insight into DataFrames\n",
    "[pyspark Doc](https://spark.apache.org/docs/2.4.5/api/python/index.html)\n",
    "\n",
    "My mission for today is to get a better understandig of `DataFrame` objects, their structure and how to operate with them. Since handling data of different shapes was always a challange in my life as ETL developer so far, I start with the schema topic, which already came across yesterday.\n",
    "\n",
    "## Schemas\n",
    "\n",
    "So far, I've learned two things about schemas in Spark. First, they define the names and types of `DataFrame` `Columns`. However Spark is using internal types of its Catalyst language regardless of the API language I'm using. Second, I can ask Spark to derive the schema from a source file or I can explicitly define the schema of the data I want to process.\n",
    "\n",
    "Spark derives the schema by just reading a small sample of data in the file, which might not be representitive enough for the entire dataset. So maybe for production purposes it might be a better idea to express my expectation explicitly of how the data I want to process and analyse is actually shaped.\n",
    "\n",
    "How does schemas look like in Spark? The`printSchema()` function will help me."
   ]
  },
  {
   "cell_type": "code",
   "execution_count": 1,
   "metadata": {},
   "outputs": [
    {
     "name": "stdout",
     "output_type": "stream",
     "text": [
      "root\n",
      " |-- DEST_COUNTRY_NAME: string (nullable = true)\n",
      " |-- ORIGIN_COUNTRY_NAME: string (nullable = true)\n",
      " |-- count: integer (nullable = true)\n",
      "\n"
     ]
    }
   ],
   "source": [
    "import pyspark\n",
    "from pyspark.sql import SparkSession\n",
    "spark = SparkSession\\\n",
    "   .builder\\\n",
    "   .getOrCreate()\n",
    "\n",
    "csvData = spark.read\\\n",
    "   .option(\"header\", \"true\")\\\n",
    "   .option(\"inferSchema\", \"true\")\\\n",
    "   .format(\"csv\")\\\n",
    "   .load(\"./data/flight-data/2015-summary.csv\")\\\n",
    "   .printSchema()"
   ]
  },
  {
   "cell_type": "code",
   "execution_count": 2,
   "metadata": {},
   "outputs": [
    {
     "name": "stdout",
     "output_type": "stream",
     "text": [
      "root\n",
      " |-- DEST_COUNTRY_NAME: string (nullable = true)\n",
      " |-- ORIGIN_COUNTRY_NAME: string (nullable = true)\n",
      " |-- count: long (nullable = true)\n",
      "\n"
     ]
    }
   ],
   "source": [
    "jsonData = spark.read\\\n",
    "   .option(\"inferSchema\", \"true\")\\\n",
    "   .format(\"json\")\\\n",
    "   .load(\"./data/flight-data/2015-summary.json\")\\\n",
    "   .printSchema()"
   ]
  },
  {
   "cell_type": "markdown",
   "metadata": {},
   "source": [
    "Ok, the first thing I notice here is, even though both files have different format, CSV vs. JSON, they have nearly identical schema, i.e. having the same column names and types. The only difference is, that  Spark interprets values in the CSV file as strings and not as `long` numbers.\n",
    "\n",
    "\n",
    "\n",
    "To find out how to define a schema in Spark, I have look at, how Spark does it."
   ]
  },
  {
   "cell_type": "code",
   "execution_count": 3,
   "metadata": {},
   "outputs": [
    {
     "data": {
      "text/plain": [
       "StructType(List(StructField(DEST_COUNTRY_NAME,StringType,true),StructField(ORIGIN_COUNTRY_NAME,StringType,true),StructField(count,StringType,true)))"
      ]
     },
     "execution_count": 3,
     "metadata": {},
     "output_type": "execute_result"
    }
   ],
   "source": [
    "spark.read\\\n",
    "   .option(\"header\", \"true\")\\\n",
    "   .format(\"csv\")\\\n",
    "   .load(\"./data/flight-data/2015-summary.csv\")\\\n",
    "   .schema"
   ]
  },
  {
   "cell_type": "code",
   "execution_count": 4,
   "metadata": {},
   "outputs": [
    {
     "data": {
      "text/plain": [
       "StructType(List(StructField(DEST_COUNTRY_NAME,StringType,true),StructField(ORIGIN_COUNTRY_NAME,StringType,true),StructField(count,LongType,true)))"
      ]
     },
     "execution_count": 4,
     "metadata": {},
     "output_type": "execute_result"
    }
   ],
   "source": [
    "spark.read\\\n",
    "   .format(\"json\")\\\n",
    "   .load(\"./data/flight-data/2015-summary.json\")\\\n",
    "   .schema"
   ]
  },
  {
   "cell_type": "markdown",
   "metadata": {},
   "source": [
    "Now I have the blueprints to create similar schemas by myself, e.g. to define the \"count\" column as optional. One tricky aspect here is, that to define a schema I need to call the constructor methods of the Spark internal types, e.g. `StringType()`, just using the typename like `StringType` won't work."
   ]
  },
  {
   "cell_type": "code",
   "execution_count": 5,
   "metadata": {},
   "outputs": [],
   "source": [
    "from pyspark.sql.types import StructField, StructType, StringType, LongType\n",
    "\n",
    "myOwnCsv = StructType([\n",
    "    StructField(\"DEST_COUNTRY_NAME\",StringType(),True),\n",
    "    StructField(\"ORIGIN_COUNTRY_NAME\",StringType(),True),\n",
    "    StructField(\"count\",StringType(),False)\n",
    "])\n",
    "\n",
    "myOwnJson = StructType([\n",
    "    StructField(\"DEST_COUNTRY_NAME\",StringType(),True),\n",
    "    StructField(\"ORIGIN_COUNTRY_NAME\",StringType(),True),\n",
    "    StructField(\"count\",LongType(),False)\n",
    "])"
   ]
  },
  {
   "cell_type": "markdown",
   "metadata": {},
   "source": [
    "Since my schema definitions are less restrictive, the file load should also work when I enforce them explicitly by calling the `schema()` function. "
   ]
  },
  {
   "cell_type": "code",
   "execution_count": 6,
   "metadata": {},
   "outputs": [
    {
     "name": "stdout",
     "output_type": "stream",
     "text": [
      "+-----------------+-------------------+-----+\n",
      "|DEST_COUNTRY_NAME|ORIGIN_COUNTRY_NAME|count|\n",
      "+-----------------+-------------------+-----+\n",
      "|    United States|            Romania|   15|\n",
      "|    United States|            Croatia|    1|\n",
      "|    United States|            Ireland|  344|\n",
      "|            Egypt|      United States|   15|\n",
      "|    United States|              India|   62|\n",
      "+-----------------+-------------------+-----+\n",
      "only showing top 5 rows\n",
      "\n"
     ]
    }
   ],
   "source": [
    "spark.read\\\n",
    "   .option(\"header\", \"true\")\\\n",
    "   .format(\"csv\")\\\n",
    "   .schema(myOwnCsv)\\\n",
    "   .load(\"./data/flight-data/2015-summary.csv\")\\\n",
    "   .show(5)"
   ]
  },
  {
   "cell_type": "code",
   "execution_count": 7,
   "metadata": {},
   "outputs": [
    {
     "name": "stdout",
     "output_type": "stream",
     "text": [
      "+-----------------+-------------------+-----+\n",
      "|DEST_COUNTRY_NAME|ORIGIN_COUNTRY_NAME|count|\n",
      "+-----------------+-------------------+-----+\n",
      "|    United States|            Romania|   15|\n",
      "|    United States|            Croatia|    1|\n",
      "|    United States|            Ireland|  344|\n",
      "|            Egypt|      United States|   15|\n",
      "|    United States|              India|   62|\n",
      "+-----------------+-------------------+-----+\n",
      "only showing top 5 rows\n",
      "\n"
     ]
    }
   ],
   "source": [
    "spark.read\\\n",
    "   .format(\"json\")\\\n",
    "   .schema(myOwnJson)\\\n",
    "   .load(\"./data/flight-data/2015-summary.json\")\\\n",
    "   .show(5)"
   ]
  },
  {
   "cell_type": "markdown",
   "metadata": {},
   "source": [
    "And they do.\n",
    "## Columns and Expressions\n",
    "The `DataFrame` API provides two ways how to create `Column` objects using either the `col()` or the `expr()` function, which confuses me at first sight. If I apply both of them on the \"count\" column of my test data, I get exactly the same result."
   ]
  },
  {
   "cell_type": "code",
   "execution_count": 8,
   "metadata": {},
   "outputs": [],
   "source": [
    "from pyspark.sql.functions  import col, expr\n",
    "df = spark.read\\\n",
    "   .option(\"header\", \"true\")\\\n",
    "   .format(\"csv\")\\\n",
    "   .schema(myOwnCsv)\\\n",
    "   .load(\"./data/flight-data/2015-summary.csv\")"
   ]
  },
  {
   "cell_type": "code",
   "execution_count": 9,
   "metadata": {},
   "outputs": [
    {
     "name": "stdout",
     "output_type": "stream",
     "text": [
      "+-------------------+-----+------------+\n",
      "|ORIGIN_COUNTRY_NAME|count|(count - 10)|\n",
      "+-------------------+-----+------------+\n",
      "|            Romania|   15|         5.0|\n",
      "|            Croatia|    1|        -9.0|\n",
      "|            Ireland|  344|       334.0|\n",
      "|      United States|   15|         5.0|\n",
      "|              India|   62|        52.0|\n",
      "+-------------------+-----+------------+\n",
      "only showing top 5 rows\n",
      "\n"
     ]
    }
   ],
   "source": [
    "df.select(\"ORIGIN_COUNTRY_NAME\", \"count\", col(\"count\") -10).show(5)"
   ]
  },
  {
   "cell_type": "code",
   "execution_count": 10,
   "metadata": {},
   "outputs": [
    {
     "name": "stdout",
     "output_type": "stream",
     "text": [
      "+-------------------+-----+------------+\n",
      "|ORIGIN_COUNTRY_NAME|count|(count - 10)|\n",
      "+-------------------+-----+------------+\n",
      "|            Romania|   15|         5.0|\n",
      "|            Croatia|    1|        -9.0|\n",
      "|            Ireland|  344|       334.0|\n",
      "|      United States|   15|         5.0|\n",
      "|              India|   62|        52.0|\n",
      "+-------------------+-----+------------+\n",
      "only showing top 5 rows\n",
      "\n"
     ]
    }
   ],
   "source": [
    "df.select(\"ORIGIN_COUNTRY_NAME\", \"count\", expr(\"count - 10\")).show(5)"
   ]
  },
  {
   "cell_type": "markdown",
   "metadata": {},
   "source": [
    "Ok Spark, explain to me what's going on behind the scenes."
   ]
  },
  {
   "cell_type": "code",
   "execution_count": 11,
   "metadata": {},
   "outputs": [
    {
     "name": "stdout",
     "output_type": "stream",
     "text": [
      "== Physical Plan ==\n",
      "*(1) Project [ORIGIN_COUNTRY_NAME#95, count#96, (cast(count#96 as double) - 10.0) AS (count - 10)#132]\n",
      "+- *(1) FileScan csv [ORIGIN_COUNTRY_NAME#95,count#96] Batched: false, Format: CSV, Location: InMemoryFileIndex[file:/home/oli/github/pyspark-tutorial/data/flight-data/2015-summary.csv], PartitionFilters: [], PushedFilters: [], ReadSchema: struct<ORIGIN_COUNTRY_NAME:string,count:string>\n"
     ]
    }
   ],
   "source": [
    "df.select(\"ORIGIN_COUNTRY_NAME\", \"count\", col(\"count\") - 10).explain()"
   ]
  },
  {
   "cell_type": "code",
   "execution_count": 12,
   "metadata": {},
   "outputs": [
    {
     "name": "stdout",
     "output_type": "stream",
     "text": [
      "== Physical Plan ==\n",
      "*(1) Project [ORIGIN_COUNTRY_NAME#95, count#96, (cast(count#96 as double) - 10.0) AS (count - 10)#136]\n",
      "+- *(1) FileScan csv [ORIGIN_COUNTRY_NAME#95,count#96] Batched: false, Format: CSV, Location: InMemoryFileIndex[file:/home/oli/github/pyspark-tutorial/data/flight-data/2015-summary.csv], PartitionFilters: [], PushedFilters: [], ReadSchema: struct<ORIGIN_COUNTRY_NAME:string,count:string>\n"
     ]
    }
   ],
   "source": [
    "df.select(\"ORIGIN_COUNTRY_NAME\", \"count\", expr(\"count - 10\")).explain()"
   ]
  },
  {
   "cell_type": "code",
   "execution_count": 13,
   "metadata": {},
   "outputs": [
    {
     "name": "stdout",
     "output_type": "stream",
     "text": [
      "== Physical Plan ==\n",
      "*(1) Project [ORIGIN_COUNTRY_NAME#95, count#96, (cast(count#96 as double) - 10.0) AS (count - 10)#140]\n",
      "+- *(1) FileScan csv [ORIGIN_COUNTRY_NAME#95,count#96] Batched: false, Format: CSV, Location: InMemoryFileIndex[file:/home/oli/github/pyspark-tutorial/data/flight-data/2015-summary.csv], PartitionFilters: [], PushedFilters: [], ReadSchema: struct<ORIGIN_COUNTRY_NAME:string,count:string>\n"
     ]
    }
   ],
   "source": [
    "df.selectExpr(\"ORIGIN_COUNTRY_NAME\", \"count\", \"count - 10\").explain()"
   ]
  },
  {
   "cell_type": "code",
   "execution_count": 14,
   "metadata": {},
   "outputs": [
    {
     "name": "stdout",
     "output_type": "stream",
     "text": [
      "== Physical Plan ==\n",
      "*(1) Project [ORIGIN_COUNTRY_NAME#95, count#96, (cast(count#96 as double) - 10.0) AS (CAST(count AS DOUBLE) - CAST(10 AS DOUBLE))#144]\n",
      "+- *(1) FileScan csv [ORIGIN_COUNTRY_NAME#95,count#96] Batched: false, Format: CSV, Location: InMemoryFileIndex[file:/home/oli/github/pyspark-tutorial/data/flight-data/2015-summary.csv], PartitionFilters: [], PushedFilters: [], ReadSchema: struct<ORIGIN_COUNTRY_NAME:string,count:string>\n"
     ]
    }
   ],
   "source": [
    "df.createOrReplaceTempView(\"table\")\n",
    "spark.sql(\"\"\"SELECT ORIGIN_COUNTRY_NAME, count, count -10 FROM table\"\"\").explain()"
   ]
  },
  {
   "cell_type": "markdown",
   "metadata": {},
   "source": [
    "As I've learned on day 2, any functional transformation on `DataFrame` objects is equivalent to SQL queries on tables, so `col(\"columnName\")` is equivalent to the projection in relational algebra in terms of, take the third data element of each record (row). So finally there are three equivalent ways how to express transformations in Spark:\n",
    "* as a composition of funtion: `select(col(\"count\") - 10)`\n",
    "* as an expression String: `select(expr(\"count - 10\")* or *selectExpr(\"count - 10\"))`\n",
    "* as SQL query: `sql(\"\"\"SELECT count - 10 FROM\"\"\")`\n",
    "\n",
    "## DataFrame Metadata\n",
    "`DataFrame` objects have attributes describing their metadata. The attribute `column` provides a list of all column names of the given `DataFrame`. Python lists are iterable objects so I can use this attribute to iterate over all column names of a `DataFrame`."
   ]
  },
  {
   "cell_type": "code",
   "execution_count": 15,
   "metadata": {},
   "outputs": [
    {
     "data": {
      "text/plain": [
       "['DEST_COUNTRY_NAME', 'ORIGIN_COUNTRY_NAME', 'count']"
      ]
     },
     "execution_count": 15,
     "metadata": {},
     "output_type": "execute_result"
    }
   ],
   "source": [
    "df.columns"
   ]
  },
  {
   "cell_type": "markdown",
   "metadata": {},
   "source": [
    "If I need the data types as well, I can use the attribute `dtypes` instead."
   ]
  },
  {
   "cell_type": "code",
   "execution_count": 16,
   "metadata": {},
   "outputs": [
    {
     "data": {
      "text/plain": [
       "[('DEST_COUNTRY_NAME', 'string'),\n",
       " ('ORIGIN_COUNTRY_NAME', 'string'),\n",
       " ('count', 'string')]"
      ]
     },
     "execution_count": 16,
     "metadata": {},
     "output_type": "execute_result"
    }
   ],
   "source": [
    "df.dtypes"
   ]
  },
  {
   "cell_type": "markdown",
   "metadata": {},
   "source": [
    "The number of rows in the `DataFrame`."
   ]
  },
  {
   "cell_type": "code",
   "execution_count": 17,
   "metadata": {},
   "outputs": [
    {
     "data": {
      "text/plain": [
       "256"
      ]
     },
     "execution_count": 17,
     "metadata": {},
     "output_type": "execute_result"
    }
   ],
   "source": [
    "df.count()"
   ]
  },
  {
   "cell_type": "markdown",
   "metadata": {},
   "source": [
    "Some basic statistics about the column values are also available for data profiling"
   ]
  },
  {
   "cell_type": "code",
   "execution_count": 18,
   "metadata": {},
   "outputs": [
    {
     "name": "stdout",
     "output_type": "stream",
     "text": [
      "+-------+-----------------+-------------------+------------------+\n",
      "|summary|DEST_COUNTRY_NAME|ORIGIN_COUNTRY_NAME|             count|\n",
      "+-------+-----------------+-------------------+------------------+\n",
      "|  count|              256|                256|               256|\n",
      "|   mean|             null|               null|       1770.765625|\n",
      "| stddev|             null|               null|23126.516918551915|\n",
      "|    min|          Algeria|             Angola|                 1|\n",
      "|    max|           Zambia|            Vietnam|               986|\n",
      "+-------+-----------------+-------------------+------------------+\n",
      "\n"
     ]
    }
   ],
   "source": [
    "df.describe().show()"
   ]
  },
  {
   "cell_type": "code",
   "execution_count": 19,
   "metadata": {},
   "outputs": [
    {
     "name": "stdout",
     "output_type": "stream",
     "text": [
      "+-------+-----------------+-------------------+------------------+\n",
      "|summary|DEST_COUNTRY_NAME|ORIGIN_COUNTRY_NAME|             count|\n",
      "+-------+-----------------+-------------------+------------------+\n",
      "|  count|              256|                256|               256|\n",
      "|   mean|             null|               null|       1770.765625|\n",
      "| stddev|             null|               null|23126.516918551915|\n",
      "|    min|          Algeria|             Angola|                 1|\n",
      "|    25%|             null|               null|              14.0|\n",
      "|    50%|             null|               null|              63.0|\n",
      "|    75%|             null|               null|             268.0|\n",
      "|    max|           Zambia|            Vietnam|               986|\n",
      "+-------+-----------------+-------------------+------------------+\n",
      "\n"
     ]
    }
   ],
   "source": [
    "df.summary().show()"
   ]
  },
  {
   "cell_type": "markdown",
   "metadata": {},
   "source": [
    "## Records and Rows"
   ]
  },
  {
   "cell_type": "markdown",
   "metadata": {},
   "source": [
    "Records are logical sets of related data values. In Spark they are technically represented by `Row` objects.\n",
    "\n",
    "Spark `DataFrame` objects are collections of `Row` objects all having the same structure according to the schema of the `DataFrame`. I can create a `Row` object by myself, even independently from any schema or the existens of a `DataFrame`, which is not possible for `Column` objects.  "
   ]
  },
  {
   "cell_type": "code",
   "execution_count": 20,
   "metadata": {},
   "outputs": [
    {
     "data": {
      "text/plain": [
       "pyspark.sql.types.Row"
      ]
     },
     "execution_count": 20,
     "metadata": {},
     "output_type": "execute_result"
    }
   ],
   "source": [
    "from pyspark.sql import Row\n",
    "myOwnRow = Row(42, \"is the answer to all questions\", True)\n",
    "type(myOwnRow)"
   ]
  },
  {
   "cell_type": "markdown",
   "metadata": {},
   "source": [
    "There is now `DataFrame` so no schema yet, but I have a row now. Like with Python lists I can access the `Row` data elements by their positional index starting with 0 for the first element."
   ]
  },
  {
   "cell_type": "code",
   "execution_count": 21,
   "metadata": {},
   "outputs": [
    {
     "data": {
      "text/plain": [
       "'is the answer to all questions'"
      ]
     },
     "execution_count": 21,
     "metadata": {},
     "output_type": "execute_result"
    }
   ],
   "source": [
    "myOwnRow[1]"
   ]
  },
  {
   "cell_type": "markdown",
   "metadata": {},
   "source": [
    "Well, the schema comes back into place as soon as I want to collect multiple records into the same `DataFrame` because than, all records must comply with the same schema.\n",
    "\n",
    "Next to creating DataFrames on the fly from source files, like I did so far, I could also create my `DataFrame` by my own. This get's relevant to me, when there is no data source because I created the data by myself, e.g. simulated scenario data. All I need to is creating a schema, like I did on day 2 an some `Row` objects like I created just before and compile both into a `DataFrame`."
   ]
  },
  {
   "cell_type": "code",
   "execution_count": 22,
   "metadata": {},
   "outputs": [],
   "source": [
    "from pyspark.sql.types import LongType, StringType, BooleanType\n",
    "\n",
    "myOwnSchema = StructType([\n",
    "    StructField(\"ID\", LongType(), True),\n",
    "    StructField(\"Message\", StringType(), True),\n",
    "    StructField(\"is true or false\", BooleanType(), True),\n",
    "])"
   ]
  },
  {
   "cell_type": "code",
   "execution_count": 23,
   "metadata": {},
   "outputs": [],
   "source": [
    "mySecondRow = Row(73, \"is a prime number\", True)"
   ]
  },
  {
   "cell_type": "code",
   "execution_count": 24,
   "metadata": {},
   "outputs": [
    {
     "name": "stdout",
     "output_type": "stream",
     "text": [
      "+---+--------------------+----------------+\n",
      "| ID|             Message|is true or false|\n",
      "+---+--------------------+----------------+\n",
      "| 42|is the answer to ...|            true|\n",
      "| 73|   is a prime number|            true|\n",
      "+---+--------------------+----------------+\n",
      "\n"
     ]
    }
   ],
   "source": [
    "myDF = spark.createDataFrame([myOwnRow, mySecondRow], myOwnSchema)\n",
    "myDF.show()"
   ]
  },
  {
   "cell_type": "markdown",
   "metadata": {},
   "source": [
    "The `DataFrame` custructor `createDataFrame()` accepts a list of `Row` objects, so I don't have to insert rows manually one-by-one but can handover a list objects which I've maybe generated at another place in my code.\n",
    "\n",
    "> **Note:** \n",
    "> By default, `show()` truncates strings longer than 20 characters.  setting this paramter to FALS or I can \n",
    "> define another number of character limit"
   ]
  },
  {
   "cell_type": "code",
   "execution_count": 25,
   "metadata": {},
   "outputs": [
    {
     "name": "stdout",
     "output_type": "stream",
     "text": [
      "+---+------------------------------+----------------+\n",
      "|ID |Message                       |is true or false|\n",
      "+---+------------------------------+----------------+\n",
      "|42 |is the answer to all questions|true            |\n",
      "|73 |is a prime number             |true            |\n",
      "+---+------------------------------+----------------+\n",
      "\n"
     ]
    }
   ],
   "source": [
    "rowList = [myOwnRow, mySecondRow]\n",
    "myDF = spark.createDataFrame(rowList, myOwnSchema)\n",
    "myDF.show(truncate=False)"
   ]
  },
  {
   "cell_type": "code",
   "execution_count": 26,
   "metadata": {},
   "outputs": [
    {
     "name": "stdout",
     "output_type": "stream",
     "text": [
      "+---+-------------------------+----------------+\n",
      "| ID|                  Message|is true or false|\n",
      "+---+-------------------------+----------------+\n",
      "| 42|is the answer to all q...|            true|\n",
      "| 73|        is a prime number|            true|\n",
      "+---+-------------------------+----------------+\n",
      "\n"
     ]
    }
   ],
   "source": [
    "myDF.show(truncate=25)"
   ]
  },
  {
   "cell_type": "markdown",
   "metadata": {},
   "source": [
    "## DataFrame Transformations\n",
    "Eventhough rows are individual objects, Spark does not manipulate them individually. To keep mass data processing fast, `Row` objects are manipulated by column expressions applied on `DataFrame`, which in fact are collections of `Row` objects. Again this is equivalent to the relational algebra of SQL SELECT queries. Here are some common example, I'm familiar with in SQL, but how do they look like in the functional format?\n",
    "### Adding a Column with Literal Values"
   ]
  },
  {
   "cell_type": "code",
   "execution_count": 27,
   "metadata": {},
   "outputs": [
    {
     "name": "stdout",
     "output_type": "stream",
     "text": [
      "+---+------------------------------+-------+\n",
      "|ID |Message                       |literal|\n",
      "+---+------------------------------+-------+\n",
      "|42 |is the answer to all questions|23     |\n",
      "|73 |is a prime number             |23     |\n",
      "+---+------------------------------+-------+\n",
      "\n"
     ]
    }
   ],
   "source": [
    "from pyspark.sql.functions import lit\n",
    "\n",
    "myDF\\\n",
    "   .select(col(\"ID\"), col(\"Message\"))\\\n",
    "   .withColumn(\"literal\", lit(23))\\\n",
    "   .show(truncate=False)"
   ]
  },
  {
   "cell_type": "markdown",
   "metadata": {},
   "source": [
    "Alternatively, I could use `alias()` instead and create the new column inside of `select()`."
   ]
  },
  {
   "cell_type": "code",
   "execution_count": 28,
   "metadata": {},
   "outputs": [
    {
     "name": "stdout",
     "output_type": "stream",
     "text": [
      "+---+------------------------------+-------+\n",
      "|ID |Message                       |literal|\n",
      "+---+------------------------------+-------+\n",
      "|42 |is the answer to all questions|23     |\n",
      "|73 |is a prime number             |23     |\n",
      "+---+------------------------------+-------+\n",
      "\n"
     ]
    }
   ],
   "source": [
    "myDF\\\n",
    "   .select(col(\"ID\"), col(\"Message\"), lit(23).alias(\"literal\"))\\\n",
    "   .show(truncate=False)"
   ]
  },
  {
   "cell_type": "markdown",
   "metadata": {},
   "source": [
    "I appreaciate the readability when using `withColumn()`, especually in more complex queries. On the other hand it is less flexible because new columns get always appended to the right whereas with the second approach, using `alias()`, I can put the new `Column` at any position in the `DataFrame`."
   ]
  },
  {
   "cell_type": "code",
   "execution_count": 29,
   "metadata": {},
   "outputs": [
    {
     "name": "stdout",
     "output_type": "stream",
     "text": [
      "+---+-------+------------------------------+\n",
      "|ID |literal|Message                       |\n",
      "+---+-------+------------------------------+\n",
      "|42 |23     |is the answer to all questions|\n",
      "|73 |23     |is a prime number             |\n",
      "+---+-------+------------------------------+\n",
      "\n"
     ]
    }
   ],
   "source": [
    "myDF\\\n",
    "   .select(col(\"ID\"), lit(23).alias(\"literal\"), col(\"Message\"))\\\n",
    "   .show(truncate=False)"
   ]
  },
  {
   "cell_type": "markdown",
   "metadata": {},
   "source": [
    "### Adding a Calculated Column"
   ]
  },
  {
   "cell_type": "code",
   "execution_count": 30,
   "metadata": {},
   "outputs": [
    {
     "name": "stdout",
     "output_type": "stream",
     "text": [
      "+---+------------------------------+-------------+\n",
      "|ID |Message                       |Calculated ID|\n",
      "+---+------------------------------+-------------+\n",
      "|42 |is the answer to all questions|4200         |\n",
      "|73 |is a prime number             |7300         |\n",
      "+---+------------------------------+-------------+\n",
      "\n"
     ]
    }
   ],
   "source": [
    "myDF\\\n",
    "   .select(col(\"ID\"), col(\"Message\"))\\\n",
    "   .withColumn(\"Calculated ID\", col(\"ID\") * 100)\\\n",
    "   .show(truncate=False)"
   ]
  },
  {
   "cell_type": "code",
   "execution_count": 31,
   "metadata": {},
   "outputs": [
    {
     "name": "stdout",
     "output_type": "stream",
     "text": [
      "+---+------------------------------+-------------+\n",
      "|ID |Message                       |ID calculated|\n",
      "+---+------------------------------+-------------+\n",
      "|42 |is the answer to all questions|4200         |\n",
      "|73 |is a prime number             |7300         |\n",
      "+---+------------------------------+-------------+\n",
      "\n"
     ]
    }
   ],
   "source": [
    "myDF\\\n",
    "   .select(col(\"ID\"), col(\"Message\"), (col(\"ID\") * 100).alias(\"ID calculated\"))\\\n",
    "   .show(truncate=False)"
   ]
  },
  {
   "cell_type": "markdown",
   "metadata": {},
   "source": [
    "In both versions the new Column \"ID Calculated\" is the result of three consecutive expressions\n",
    "* `col(\"ID\")`, i.e. take first data element of each row in the input DataFrame\n",
    "* `* 100`, i.e. multiply each data value by 100\n",
    "* `alias(\"ID calculated\")` to rename the new column\n",
    "\n",
    "The first two are data manipulating whereas the third one manipulates the metadata of the `DataFrame`"
   ]
  },
  {
   "cell_type": "markdown",
   "metadata": {},
   "source": [
    "### Renaming Columns"
   ]
  },
  {
   "cell_type": "code",
   "execution_count": 32,
   "metadata": {},
   "outputs": [
    {
     "name": "stdout",
     "output_type": "stream",
     "text": [
      "+----------+------------------------------+\n",
      "|Identifier|Message                       |\n",
      "+----------+------------------------------+\n",
      "|42        |is the answer to all questions|\n",
      "|73        |is a prime number             |\n",
      "+----------+------------------------------+\n",
      "\n"
     ]
    }
   ],
   "source": [
    "myDF\\\n",
    "   .select(col(\"ID\"), col(\"Message\"))\\\n",
    "   .withColumnRenamed(\"ID\", \"Identifier\")\\\n",
    "   .show(truncate=False)"
   ]
  },
  {
   "cell_type": "code",
   "execution_count": 33,
   "metadata": {},
   "outputs": [
    {
     "name": "stdout",
     "output_type": "stream",
     "text": [
      "+----------+------------------------------+\n",
      "|Identifier|Message                       |\n",
      "+----------+------------------------------+\n",
      "|42        |is the answer to all questions|\n",
      "|73        |is a prime number             |\n",
      "+----------+------------------------------+\n",
      "\n"
     ]
    }
   ],
   "source": [
    "myDF\\\n",
    "   .select(col(\"ID\").alias(\"Identifier\"), col(\"Message\"))\\\n",
    "   .show(truncate=False)"
   ]
  },
  {
   "cell_type": "markdown",
   "metadata": {},
   "source": [
    "In my opinion, the Spark syntax regarding column names is quite misleading. Even though I have to put the column name argument in quotation marks and eventhough the output shows me the column name with exactly the same upper/lower cases, as I defined it, Spark is **NOT** case sensitive. "
   ]
  },
  {
   "cell_type": "code",
   "execution_count": 34,
   "metadata": {},
   "outputs": [
    {
     "name": "stdout",
     "output_type": "stream",
     "text": [
      "+------------------------------+------------------------------+\n",
      "|Message                       |MESSAGE                       |\n",
      "+------------------------------+------------------------------+\n",
      "|is the answer to all questions|is the answer to all questions|\n",
      "|is a prime number             |is a prime number             |\n",
      "+------------------------------+------------------------------+\n",
      "\n"
     ]
    }
   ],
   "source": [
    "myDF\\\n",
    "   .select(col(\"Message\"), col(\"MESSAGE\"))\\\n",
    "   .show(truncate=False)"
   ]
  },
  {
   "cell_type": "markdown",
   "metadata": {},
   "source": [
    "However, I can switch to case sensitivity by changing the `SparkSession` configuration."
   ]
  },
  {
   "cell_type": "code",
   "execution_count": 35,
   "metadata": {},
   "outputs": [],
   "source": [
    "spark.conf.set(\"spark.sql.caseSensitive\", \"true\")"
   ]
  },
  {
   "cell_type": "code",
   "execution_count": 36,
   "metadata": {},
   "outputs": [
    {
     "name": "stdout",
     "output_type": "stream",
     "text": [
      "+----+\n",
      "|  id|\n",
      "+----+\n",
      "|4200|\n",
      "|7300|\n",
      "+----+\n",
      "\n"
     ]
    }
   ],
   "source": [
    "myDF\\\n",
    "   .select(col(\"ID\"), (col(\"ID\") * 100).alias(\"id\"))\\\n",
    "   .select(col(\"id\"))\\\n",
    "   .show()"
   ]
  },
  {
   "cell_type": "markdown",
   "metadata": {},
   "source": [
    "Column names with reserved character or keywords can also be very tricky because, as I've seen befor, Spark does not interprete everything in quation marks literally as strings."
   ]
  },
  {
   "cell_type": "code",
   "execution_count": 37,
   "metadata": {},
   "outputs": [
    {
     "name": "stdout",
     "output_type": "stream",
     "text": [
      "+---+------------------------------+-----------+\n",
      "|ID |Message                       |ID * by 100|\n",
      "+---+------------------------------+-----------+\n",
      "|42 |is the answer to all questions|4200       |\n",
      "|73 |is a prime number             |7300       |\n",
      "+---+------------------------------+-----------+\n",
      "\n"
     ]
    }
   ],
   "source": [
    "dfWithSpecialNames = myDF\\\n",
    "   .select(col(\"ID\"), col(\"Message\"))\\\n",
    "   .withColumn(\"ID * by 100\", col(\"ID\") * 100)\n",
    "\n",
    "dfWithSpecialNames.show(truncate=False)"
   ]
  },
  {
   "cell_type": "markdown",
   "metadata": {},
   "source": [
    "The question is, how can I reference the third column without getting problems. First of all the direct string to column reference by using `col()` works fine."
   ]
  },
  {
   "cell_type": "code",
   "execution_count": 38,
   "metadata": {},
   "outputs": [
    {
     "name": "stdout",
     "output_type": "stream",
     "text": [
      "+-----------+\n",
      "|ID * by 100|\n",
      "+-----------+\n",
      "|       4200|\n",
      "|       7300|\n",
      "+-----------+\n",
      "\n"
     ]
    }
   ],
   "source": [
    "dfWithSpecialNames\\\n",
    "   .select(col(\"ID * by 100\"))\\\n",
    "   .show()"
   ]
  },
  {
   "cell_type": "code",
   "execution_count": 39,
   "metadata": {},
   "outputs": [
    {
     "name": "stdout",
     "output_type": "stream",
     "text": [
      "+-------------------+\n",
      "|(ID * by 100 * 100)|\n",
      "+-------------------+\n",
      "|             420000|\n",
      "|             730000|\n",
      "+-------------------+\n",
      "\n"
     ]
    }
   ],
   "source": [
    "dfWithSpecialNames\\\n",
    "   .select(col(\"ID * by 100\") * 100)\\\n",
    "   .show()"
   ]
  },
  {
   "cell_type": "markdown",
   "metadata": {},
   "source": [
    "Does this reference also work in expression strings?"
   ]
  },
  {
   "cell_type": "code",
   "execution_count": 40,
   "metadata": {},
   "outputs": [
    {
     "ename": "ParseException",
     "evalue": "\"\\nmismatched input '100' expecting <EOF>(line 1, pos 8)\\n\\n== SQL ==\\nID * by 100  * 100\\n--------^^^\\n\"",
     "output_type": "error",
     "traceback": [
      "\u001b[0;31m---------------------------------------------------------------------------\u001b[0m",
      "\u001b[0;31mPy4JJavaError\u001b[0m                             Traceback (most recent call last)",
      "\u001b[0;32m~/python/python3-7/pyspark-tutorial/lib/python3.7/site-packages/pyspark/sql/utils.py\u001b[0m in \u001b[0;36mdeco\u001b[0;34m(*a, **kw)\u001b[0m\n\u001b[1;32m     62\u001b[0m         \u001b[0;32mtry\u001b[0m\u001b[0;34m:\u001b[0m\u001b[0;34m\u001b[0m\u001b[0;34m\u001b[0m\u001b[0m\n\u001b[0;32m---> 63\u001b[0;31m             \u001b[0;32mreturn\u001b[0m \u001b[0mf\u001b[0m\u001b[0;34m(\u001b[0m\u001b[0;34m*\u001b[0m\u001b[0ma\u001b[0m\u001b[0;34m,\u001b[0m \u001b[0;34m**\u001b[0m\u001b[0mkw\u001b[0m\u001b[0;34m)\u001b[0m\u001b[0;34m\u001b[0m\u001b[0;34m\u001b[0m\u001b[0m\n\u001b[0m\u001b[1;32m     64\u001b[0m         \u001b[0;32mexcept\u001b[0m \u001b[0mpy4j\u001b[0m\u001b[0;34m.\u001b[0m\u001b[0mprotocol\u001b[0m\u001b[0;34m.\u001b[0m\u001b[0mPy4JJavaError\u001b[0m \u001b[0;32mas\u001b[0m \u001b[0me\u001b[0m\u001b[0;34m:\u001b[0m\u001b[0;34m\u001b[0m\u001b[0;34m\u001b[0m\u001b[0m\n",
      "\u001b[0;32m~/python/python3-7/pyspark-tutorial/lib/python3.7/site-packages/py4j/protocol.py\u001b[0m in \u001b[0;36mget_return_value\u001b[0;34m(answer, gateway_client, target_id, name)\u001b[0m\n\u001b[1;32m    327\u001b[0m                     \u001b[0;34m\"An error occurred while calling {0}{1}{2}.\\n\"\u001b[0m\u001b[0;34m.\u001b[0m\u001b[0;34m\u001b[0m\u001b[0;34m\u001b[0m\u001b[0m\n\u001b[0;32m--> 328\u001b[0;31m                     format(target_id, \".\", name), value)\n\u001b[0m\u001b[1;32m    329\u001b[0m             \u001b[0;32melse\u001b[0m\u001b[0;34m:\u001b[0m\u001b[0;34m\u001b[0m\u001b[0;34m\u001b[0m\u001b[0m\n",
      "\u001b[0;31mPy4JJavaError\u001b[0m: An error occurred while calling o201.selectExpr.\n: org.apache.spark.sql.catalyst.parser.ParseException: \nmismatched input '100' expecting <EOF>(line 1, pos 8)\n\n== SQL ==\nID * by 100  * 100\n--------^^^\n\n\tat org.apache.spark.sql.catalyst.parser.ParseException.withCommand(ParseDriver.scala:241)\n\tat org.apache.spark.sql.catalyst.parser.AbstractSqlParser.parse(ParseDriver.scala:117)\n\tat org.apache.spark.sql.execution.SparkSqlParser.parse(SparkSqlParser.scala:48)\n\tat org.apache.spark.sql.catalyst.parser.AbstractSqlParser.parseExpression(ParseDriver.scala:44)\n\tat org.apache.spark.sql.Dataset$$anonfun$selectExpr$1.apply(Dataset.scala:1376)\n\tat org.apache.spark.sql.Dataset$$anonfun$selectExpr$1.apply(Dataset.scala:1375)\n\tat scala.collection.TraversableLike$$anonfun$map$1.apply(TraversableLike.scala:234)\n\tat scala.collection.TraversableLike$$anonfun$map$1.apply(TraversableLike.scala:234)\n\tat scala.collection.Iterator$class.foreach(Iterator.scala:891)\n\tat scala.collection.AbstractIterator.foreach(Iterator.scala:1334)\n\tat scala.collection.IterableLike$class.foreach(IterableLike.scala:72)\n\tat scala.collection.AbstractIterable.foreach(Iterable.scala:54)\n\tat scala.collection.TraversableLike$class.map(TraversableLike.scala:234)\n\tat scala.collection.AbstractTraversable.map(Traversable.scala:104)\n\tat org.apache.spark.sql.Dataset.selectExpr(Dataset.scala:1375)\n\tat sun.reflect.NativeMethodAccessorImpl.invoke0(Native Method)\n\tat sun.reflect.NativeMethodAccessorImpl.invoke(NativeMethodAccessorImpl.java:62)\n\tat sun.reflect.DelegatingMethodAccessorImpl.invoke(DelegatingMethodAccessorImpl.java:43)\n\tat java.lang.reflect.Method.invoke(Method.java:498)\n\tat py4j.reflection.MethodInvoker.invoke(MethodInvoker.java:244)\n\tat py4j.reflection.ReflectionEngine.invoke(ReflectionEngine.java:357)\n\tat py4j.Gateway.invoke(Gateway.java:282)\n\tat py4j.commands.AbstractCommand.invokeMethod(AbstractCommand.java:132)\n\tat py4j.commands.CallCommand.execute(CallCommand.java:79)\n\tat py4j.GatewayConnection.run(GatewayConnection.java:238)\n\tat java.lang.Thread.run(Thread.java:748)\n",
      "\nDuring handling of the above exception, another exception occurred:\n",
      "\u001b[0;31mParseException\u001b[0m                            Traceback (most recent call last)",
      "\u001b[0;32m<ipython-input-40-a8fc81aa543d>\u001b[0m in \u001b[0;36m<module>\u001b[0;34m\u001b[0m\n\u001b[1;32m      1\u001b[0m \u001b[0mdfWithSpecialNames\u001b[0m\u001b[0;31m\\\u001b[0m\u001b[0;34m\u001b[0m\u001b[0;34m\u001b[0m\u001b[0m\n\u001b[0;32m----> 2\u001b[0;31m    \u001b[0;34m.\u001b[0m\u001b[0mselectExpr\u001b[0m\u001b[0;34m(\u001b[0m\u001b[0;34m\"ID * by 100  * 100\"\u001b[0m\u001b[0;34m)\u001b[0m\u001b[0;31m\\\u001b[0m\u001b[0;34m\u001b[0m\u001b[0;34m\u001b[0m\u001b[0m\n\u001b[0m\u001b[1;32m      3\u001b[0m    \u001b[0;34m.\u001b[0m\u001b[0mshow\u001b[0m\u001b[0;34m(\u001b[0m\u001b[0;34m)\u001b[0m\u001b[0;34m\u001b[0m\u001b[0;34m\u001b[0m\u001b[0m\n",
      "\u001b[0;32m~/python/python3-7/pyspark-tutorial/lib/python3.7/site-packages/pyspark/sql/dataframe.py\u001b[0m in \u001b[0;36mselectExpr\u001b[0;34m(self, *expr)\u001b[0m\n\u001b[1;32m   1336\u001b[0m         \u001b[0;32mif\u001b[0m \u001b[0mlen\u001b[0m\u001b[0;34m(\u001b[0m\u001b[0mexpr\u001b[0m\u001b[0;34m)\u001b[0m \u001b[0;34m==\u001b[0m \u001b[0;36m1\u001b[0m \u001b[0;32mand\u001b[0m \u001b[0misinstance\u001b[0m\u001b[0;34m(\u001b[0m\u001b[0mexpr\u001b[0m\u001b[0;34m[\u001b[0m\u001b[0;36m0\u001b[0m\u001b[0;34m]\u001b[0m\u001b[0;34m,\u001b[0m \u001b[0mlist\u001b[0m\u001b[0;34m)\u001b[0m\u001b[0;34m:\u001b[0m\u001b[0;34m\u001b[0m\u001b[0;34m\u001b[0m\u001b[0m\n\u001b[1;32m   1337\u001b[0m             \u001b[0mexpr\u001b[0m \u001b[0;34m=\u001b[0m \u001b[0mexpr\u001b[0m\u001b[0;34m[\u001b[0m\u001b[0;36m0\u001b[0m\u001b[0;34m]\u001b[0m\u001b[0;34m\u001b[0m\u001b[0;34m\u001b[0m\u001b[0m\n\u001b[0;32m-> 1338\u001b[0;31m         \u001b[0mjdf\u001b[0m \u001b[0;34m=\u001b[0m \u001b[0mself\u001b[0m\u001b[0;34m.\u001b[0m\u001b[0m_jdf\u001b[0m\u001b[0;34m.\u001b[0m\u001b[0mselectExpr\u001b[0m\u001b[0;34m(\u001b[0m\u001b[0mself\u001b[0m\u001b[0;34m.\u001b[0m\u001b[0m_jseq\u001b[0m\u001b[0;34m(\u001b[0m\u001b[0mexpr\u001b[0m\u001b[0;34m)\u001b[0m\u001b[0;34m)\u001b[0m\u001b[0;34m\u001b[0m\u001b[0;34m\u001b[0m\u001b[0m\n\u001b[0m\u001b[1;32m   1339\u001b[0m         \u001b[0;32mreturn\u001b[0m \u001b[0mDataFrame\u001b[0m\u001b[0;34m(\u001b[0m\u001b[0mjdf\u001b[0m\u001b[0;34m,\u001b[0m \u001b[0mself\u001b[0m\u001b[0;34m.\u001b[0m\u001b[0msql_ctx\u001b[0m\u001b[0;34m)\u001b[0m\u001b[0;34m\u001b[0m\u001b[0;34m\u001b[0m\u001b[0m\n\u001b[1;32m   1340\u001b[0m \u001b[0;34m\u001b[0m\u001b[0m\n",
      "\u001b[0;32m~/python/python3-7/pyspark-tutorial/lib/python3.7/site-packages/py4j/java_gateway.py\u001b[0m in \u001b[0;36m__call__\u001b[0;34m(self, *args)\u001b[0m\n\u001b[1;32m   1255\u001b[0m         \u001b[0manswer\u001b[0m \u001b[0;34m=\u001b[0m \u001b[0mself\u001b[0m\u001b[0;34m.\u001b[0m\u001b[0mgateway_client\u001b[0m\u001b[0;34m.\u001b[0m\u001b[0msend_command\u001b[0m\u001b[0;34m(\u001b[0m\u001b[0mcommand\u001b[0m\u001b[0;34m)\u001b[0m\u001b[0;34m\u001b[0m\u001b[0;34m\u001b[0m\u001b[0m\n\u001b[1;32m   1256\u001b[0m         return_value = get_return_value(\n\u001b[0;32m-> 1257\u001b[0;31m             answer, self.gateway_client, self.target_id, self.name)\n\u001b[0m\u001b[1;32m   1258\u001b[0m \u001b[0;34m\u001b[0m\u001b[0m\n\u001b[1;32m   1259\u001b[0m         \u001b[0;32mfor\u001b[0m \u001b[0mtemp_arg\u001b[0m \u001b[0;32min\u001b[0m \u001b[0mtemp_args\u001b[0m\u001b[0;34m:\u001b[0m\u001b[0;34m\u001b[0m\u001b[0;34m\u001b[0m\u001b[0m\n",
      "\u001b[0;32m~/python/python3-7/pyspark-tutorial/lib/python3.7/site-packages/pyspark/sql/utils.py\u001b[0m in \u001b[0;36mdeco\u001b[0;34m(*a, **kw)\u001b[0m\n\u001b[1;32m     71\u001b[0m                 \u001b[0;32mraise\u001b[0m \u001b[0mAnalysisException\u001b[0m\u001b[0;34m(\u001b[0m\u001b[0ms\u001b[0m\u001b[0;34m.\u001b[0m\u001b[0msplit\u001b[0m\u001b[0;34m(\u001b[0m\u001b[0;34m': '\u001b[0m\u001b[0;34m,\u001b[0m \u001b[0;36m1\u001b[0m\u001b[0;34m)\u001b[0m\u001b[0;34m[\u001b[0m\u001b[0;36m1\u001b[0m\u001b[0;34m]\u001b[0m\u001b[0;34m,\u001b[0m \u001b[0mstackTrace\u001b[0m\u001b[0;34m)\u001b[0m\u001b[0;34m\u001b[0m\u001b[0;34m\u001b[0m\u001b[0m\n\u001b[1;32m     72\u001b[0m             \u001b[0;32mif\u001b[0m \u001b[0ms\u001b[0m\u001b[0;34m.\u001b[0m\u001b[0mstartswith\u001b[0m\u001b[0;34m(\u001b[0m\u001b[0;34m'org.apache.spark.sql.catalyst.parser.ParseException: '\u001b[0m\u001b[0;34m)\u001b[0m\u001b[0;34m:\u001b[0m\u001b[0;34m\u001b[0m\u001b[0;34m\u001b[0m\u001b[0m\n\u001b[0;32m---> 73\u001b[0;31m                 \u001b[0;32mraise\u001b[0m \u001b[0mParseException\u001b[0m\u001b[0;34m(\u001b[0m\u001b[0ms\u001b[0m\u001b[0;34m.\u001b[0m\u001b[0msplit\u001b[0m\u001b[0;34m(\u001b[0m\u001b[0;34m': '\u001b[0m\u001b[0;34m,\u001b[0m \u001b[0;36m1\u001b[0m\u001b[0;34m)\u001b[0m\u001b[0;34m[\u001b[0m\u001b[0;36m1\u001b[0m\u001b[0;34m]\u001b[0m\u001b[0;34m,\u001b[0m \u001b[0mstackTrace\u001b[0m\u001b[0;34m)\u001b[0m\u001b[0;34m\u001b[0m\u001b[0;34m\u001b[0m\u001b[0m\n\u001b[0m\u001b[1;32m     74\u001b[0m             \u001b[0;32mif\u001b[0m \u001b[0ms\u001b[0m\u001b[0;34m.\u001b[0m\u001b[0mstartswith\u001b[0m\u001b[0;34m(\u001b[0m\u001b[0;34m'org.apache.spark.sql.streaming.StreamingQueryException: '\u001b[0m\u001b[0;34m)\u001b[0m\u001b[0;34m:\u001b[0m\u001b[0;34m\u001b[0m\u001b[0;34m\u001b[0m\u001b[0m\n\u001b[1;32m     75\u001b[0m                 \u001b[0;32mraise\u001b[0m \u001b[0mStreamingQueryException\u001b[0m\u001b[0;34m(\u001b[0m\u001b[0ms\u001b[0m\u001b[0;34m.\u001b[0m\u001b[0msplit\u001b[0m\u001b[0;34m(\u001b[0m\u001b[0;34m': '\u001b[0m\u001b[0;34m,\u001b[0m \u001b[0;36m1\u001b[0m\u001b[0;34m)\u001b[0m\u001b[0;34m[\u001b[0m\u001b[0;36m1\u001b[0m\u001b[0;34m]\u001b[0m\u001b[0;34m,\u001b[0m \u001b[0mstackTrace\u001b[0m\u001b[0;34m)\u001b[0m\u001b[0;34m\u001b[0m\u001b[0;34m\u001b[0m\u001b[0m\n",
      "\u001b[0;31mParseException\u001b[0m: \"\\nmismatched input '100' expecting <EOF>(line 1, pos 8)\\n\\n== SQL ==\\nID * by 100  * 100\\n--------^^^\\n\""
     ]
    }
   ],
   "source": [
    "dfWithSpecialNames\\\n",
    "   .selectExpr(\"ID * by 100  * 100\")\\\n",
    "   .show()"
   ]
  },
  {
   "cell_type": "markdown",
   "metadata": {},
   "source": [
    "Ups, something got broken. Now it is undefined, which parts of the expression string are operators and which are literal stings valus.  This problem will get very relevant when it comes to filter or join conditions, so I need a solution. Spark provides the back stick character to escape the column name strings."
   ]
  },
  {
   "cell_type": "code",
   "execution_count": 41,
   "metadata": {},
   "outputs": [
    {
     "name": "stdout",
     "output_type": "stream",
     "text": [
      "+-------------------+\n",
      "|(ID * by 100 * 100)|\n",
      "+-------------------+\n",
      "|             420000|\n",
      "|             730000|\n",
      "+-------------------+\n",
      "\n"
     ]
    }
   ],
   "source": [
    "dfWithSpecialNames\\\n",
    "   .selectExpr(\"`ID * by 100`  * 100\")\\\n",
    "   .show()"
   ]
  },
  {
   "cell_type": "markdown",
   "metadata": {},
   "source": [
    "Well, my lessons learned her is: avoid blanks, reserved characters or keywords in column names whenever possible.\n",
    "### Removing Columns\n",
    "In the SQL world, there is a shortcut to grep all columns using the wildcard, which is very comfortable querying a table with, e.g. 100 columns. What I'm realy missing, is the option to exclude just one or two columns and get the remaining 98 columns without having to list them all in the SELECT clause. So I'm very happy to see that Spark provides me this feature by the `drop()` function."
   ]
  },
  {
   "cell_type": "code",
   "execution_count": 42,
   "metadata": {},
   "outputs": [
    {
     "name": "stdout",
     "output_type": "stream",
     "text": [
      "+---+------------------------------+\n",
      "|ID |Message                       |\n",
      "+---+------------------------------+\n",
      "|42 |is the answer to all questions|\n",
      "|73 |is a prime number             |\n",
      "+---+------------------------------+\n",
      "\n"
     ]
    }
   ],
   "source": [
    "dfWithSpecialNames.drop(\"ID * by 100\").show(truncate=False)"
   ]
  },
  {
   "cell_type": "markdown",
   "metadata": {},
   "source": [
    "### Filtering Rows\n",
    "Spark provides in total four ways of filtering rows. First, the two methonds `filter()` and `where()` are synonyms in pyspark. Second, the filter condition can either be a boolean column created by column manipualtion or an expression string, which evaluates to True or False."
   ]
  },
  {
   "cell_type": "code",
   "execution_count": 43,
   "metadata": {},
   "outputs": [
    {
     "name": "stdout",
     "output_type": "stream",
     "text": [
      "+---+------------------------------+-----------+\n",
      "|ID |Message                       |ID * by 100|\n",
      "+---+------------------------------+-----------+\n",
      "|42 |is the answer to all questions|4200       |\n",
      "+---+------------------------------+-----------+\n",
      "\n"
     ]
    }
   ],
   "source": [
    "dfWithSpecialNames.filter(col(\"ID\") == 42).show(truncate=False)"
   ]
  },
  {
   "cell_type": "code",
   "execution_count": 44,
   "metadata": {},
   "outputs": [
    {
     "name": "stdout",
     "output_type": "stream",
     "text": [
      "+---+------------------------------+-----------+\n",
      "|ID |Message                       |ID * by 100|\n",
      "+---+------------------------------+-----------+\n",
      "|42 |is the answer to all questions|4200       |\n",
      "+---+------------------------------+-----------+\n",
      "\n"
     ]
    }
   ],
   "source": [
    "dfWithSpecialNames.filter(\"ID = 42\").show(truncate=False)"
   ]
  },
  {
   "cell_type": "code",
   "execution_count": 45,
   "metadata": {},
   "outputs": [
    {
     "name": "stdout",
     "output_type": "stream",
     "text": [
      "+---+------------------------------+-----------+\n",
      "|ID |Message                       |ID * by 100|\n",
      "+---+------------------------------+-----------+\n",
      "|42 |is the answer to all questions|4200       |\n",
      "+---+------------------------------+-----------+\n",
      "\n"
     ]
    }
   ],
   "source": [
    "dfWithSpecialNames.where(col(\"ID\") == 42).show(truncate=False)"
   ]
  },
  {
   "cell_type": "code",
   "execution_count": 46,
   "metadata": {},
   "outputs": [
    {
     "name": "stdout",
     "output_type": "stream",
     "text": [
      "+---+------------------------------+-----------+\n",
      "|ID |Message                       |ID * by 100|\n",
      "+---+------------------------------+-----------+\n",
      "|42 |is the answer to all questions|4200       |\n",
      "+---+------------------------------+-----------+\n",
      "\n"
     ]
    }
   ],
   "source": [
    "dfWithSpecialNames.where(\"ID == 42\").show(truncate=False)"
   ]
  },
  {
   "cell_type": "markdown",
   "metadata": {},
   "source": [
    "I think, the last version looks most familiar to me as an senior SQL user. A nice feature is, that I can chain up multiple AND filters, which is more readable than complex in-line expression."
   ]
  },
  {
   "cell_type": "code",
   "execution_count": 47,
   "metadata": {},
   "outputs": [
    {
     "name": "stdout",
     "output_type": "stream",
     "text": [
      "+---+------------------------------+-----------+\n",
      "|ID |Message                       |ID * by 100|\n",
      "+---+------------------------------+-----------+\n",
      "|42 |is the answer to all questions|4200       |\n",
      "+---+------------------------------+-----------+\n",
      "\n"
     ]
    }
   ],
   "source": [
    "dfWithSpecialNames\\\n",
    "    .where(\"ID == 42\")\\\n",
    "    .where(\"`ID * by 100`== 4200\")\\\n",
    "    .show(truncate=False)"
   ]
  },
  {
   "cell_type": "code",
   "execution_count": 48,
   "metadata": {},
   "outputs": [
    {
     "name": "stdout",
     "output_type": "stream",
     "text": [
      "+---+------------------------------+-----------+\n",
      "|ID |Message                       |ID * by 100|\n",
      "+---+------------------------------+-----------+\n",
      "|42 |is the answer to all questions|4200       |\n",
      "+---+------------------------------+-----------+\n",
      "\n"
     ]
    }
   ],
   "source": [
    "dfWithSpecialNames\\\n",
    "    .where(\"ID == 42 and `ID * by 100`== 4200\")\\\n",
    "    .show(truncate=False)"
   ]
  },
  {
   "cell_type": "markdown",
   "metadata": {},
   "source": [
    "Nevertheless, ass soon as OR comes into place, there is no choice anymore."
   ]
  },
  {
   "cell_type": "code",
   "execution_count": 49,
   "metadata": {},
   "outputs": [
    {
     "name": "stdout",
     "output_type": "stream",
     "text": [
      "+---+------------------------------+-----------+\n",
      "|ID |Message                       |ID * by 100|\n",
      "+---+------------------------------+-----------+\n",
      "|42 |is the answer to all questions|4200       |\n",
      "|73 |is a prime number             |7300       |\n",
      "+---+------------------------------+-----------+\n",
      "\n"
     ]
    }
   ],
   "source": [
    "dfWithSpecialNames\\\n",
    "    .where(\"ID == 42 or ID == 73\")\\\n",
    "    .show(truncate=False)"
   ]
  },
  {
   "cell_type": "markdown",
   "metadata": {},
   "source": [
    "Filter expressions can get quite complex and hard to read. Maybe I want to reuse them multiple times in my code and re-writing them all the times makes me pain. Fortunately I have the option to pre-define filter expressions and giving them more self-explaining names, from business point of view. Doing so I can reference these filters by their names in my queries, making them much more readable and the filter expressions reusable.\n",
    "\n",
    "So my question as a Sales Manager could be: which invoices from the Scandinavian market contain high volumn orders?"
   ]
  },
  {
   "cell_type": "code",
   "execution_count": 50,
   "metadata": {},
   "outputs": [
    {
     "name": "stdout",
     "output_type": "stream",
     "text": [
      "+---------+-------+\n",
      "|InvoiceNo|Country|\n",
      "+---------+-------+\n",
      "|   540040| Sweden|\n",
      "|   560549|Finland|\n",
      "|   580704| Sweden|\n",
      "|   559145| Sweden|\n",
      "|   546780|Denmark|\n",
      "|   541756|Finland|\n",
      "|   538003|Denmark|\n",
      "|   536532| Norway|\n",
      "|   576083| Sweden|\n",
      "|   552957| Sweden|\n",
      "+---------+-------+\n",
      "only showing top 10 rows\n",
      "\n"
     ]
    }
   ],
   "source": [
    "from pyspark.sql.functions import col, instr\n",
    "\n",
    "# loading data from CSV source\n",
    "dfRetail = spark.read\\\n",
    "    .format(\"csv\")\\\n",
    "    .option(\"header\", \"true\")\\\n",
    "    .option(\"inferSchema\", \"true\")\\\n",
    "    .load(\"./data/retail-data/by-day/*.csv\")\n",
    "\n",
    "# named filter expressions evaluating to Boolean\n",
    "highVolumeOrder = (col(\"Quantity\") >= 40) & (col(\"UnitPrice\") >= 1.50)\n",
    "Scandinavia = (col(\"Country\") == \"Norway\") \\\n",
    "               | (col(\"Country\") == \"Sweden\") \\\n",
    "               | (col(\"Country\") == \"Denmark\") \\\n",
    "               | (col(\"Country\") == \"Finland\")\n",
    "\n",
    "# the query answering my question\n",
    "dfRetail.where(highVolumeOrder & Scandinavia)\\\n",
    "    .select(\"InvoiceNo\", \"Country\")\\\n",
    "    .distinct()\\\n",
    "    .show(10)"
   ]
  },
  {
   "cell_type": "markdown",
   "metadata": {},
   "source": [
    "### Random Samples and Split"
   ]
  },
  {
   "cell_type": "code",
   "execution_count": 51,
   "metadata": {},
   "outputs": [
    {
     "data": {
      "text/plain": [
       "541909"
      ]
     },
     "execution_count": 51,
     "metadata": {},
     "output_type": "execute_result"
    }
   ],
   "source": [
    "import pyspark\n",
    "import random\n",
    "\n",
    "from pyspark.sql import SparkSession\n",
    "spark = SparkSession\\\n",
    "   .builder\\\n",
    "   .getOrCreate()\n",
    "\n",
    "df = spark.read\\\n",
    "   .format(\"csv\")\\\n",
    "   .option(\"header\", \"true\")\\\n",
    "   .option(\"inferSchema\", \"true\")\\\n",
    "   .load(\"./data/retail-data/by-day/*.csv\")\n",
    "\n",
    "df.count()"
   ]
  },
  {
   "cell_type": "code",
   "execution_count": 52,
   "metadata": {},
   "outputs": [],
   "source": [
    "seed = random.seed()\n",
    "withReplacement = False\n",
    "fraction = 0.1 # i.e. 10%"
   ]
  },
  {
   "cell_type": "code",
   "execution_count": 53,
   "metadata": {},
   "outputs": [
    {
     "data": {
      "text/plain": [
       "54425"
      ]
     },
     "execution_count": 53,
     "metadata": {},
     "output_type": "execute_result"
    }
   ],
   "source": [
    "df.sample(withReplacement, fraction, seed).count()"
   ]
  },
  {
   "cell_type": "code",
   "execution_count": 54,
   "metadata": {},
   "outputs": [
    {
     "name": "stdout",
     "output_type": "stream",
     "text": [
      "+---------+---------+--------------------+--------+-------------------+---------+----------+--------------+\n",
      "|InvoiceNo|StockCode|         Description|Quantity|        InvoiceDate|UnitPrice|CustomerID|       Country|\n",
      "+---------+---------+--------------------+--------+-------------------+---------+----------+--------------+\n",
      "|   580540|    23358|HOT STUFF HOT WAT...|       6|2011-12-05 08:49:00|     3.75|   13417.0|United Kingdom|\n",
      "|   580541|    22586|FELTCRAFT HAIRBAN...|      12|2011-12-05 09:03:00|     0.85|   15358.0|United Kingdom|\n",
      "|   580541|    22047|    EMPIRE GIFT WRAP|      25|2011-12-05 09:03:00|     0.42|   15358.0|United Kingdom|\n",
      "|   580541|    21703|BAG 125g SWIRLY M...|      12|2011-12-05 09:03:00|     0.42|   15358.0|United Kingdom|\n",
      "|   580541|    21679|    SKULLS  STICKERS|      12|2011-12-05 09:03:00|     0.85|   15358.0|United Kingdom|\n",
      "+---------+---------+--------------------+--------+-------------------+---------+----------+--------------+\n",
      "only showing top 5 rows\n",
      "\n"
     ]
    }
   ],
   "source": [
    "df.sample(withReplacement, fraction, seed).show(5)"
   ]
  },
  {
   "cell_type": "markdown",
   "metadata": {},
   "source": [
    "Spark's `ramdomSplit()` feature can be very usefull if I want to train a neural network model where spliting up a dataset by random into two samples, the training data and the test data, is an important datap reparation step. "
   ]
  },
  {
   "cell_type": "code",
   "execution_count": 55,
   "metadata": {},
   "outputs": [],
   "source": [
    "seed = random.seed()\n",
    "mlData = df.randomSplit([0.8, 0.2], seed)\n",
    "traingData = mlData[0]\n",
    "testData = mlData[1]"
   ]
  },
  {
   "cell_type": "markdown",
   "metadata": {},
   "source": [
    "### Other DataFrame Transformations\n",
    "The following functions are nearly the same as I already know from SQL. So I skip them here.\n",
    "\n",
    "* `df1.count()`\n",
    "* `df1.distinct().count()`\n",
    "* `df1.union(df2)`\n",
    "* `df1.orderBy(... desc, ... asc)`"
   ]
  },
  {
   "cell_type": "markdown",
   "metadata": {},
   "source": [
    "### Repartitioning Data\n",
    "As I've learnd on day 2, wide transformations, forces Spark to shuffel data across the cluster which can end up in performance issues since Spark cannot do it in-memory. Therefore I can improve the performance, if I partition the data according to my expected query patterns. \n",
    "\n",
    "Ok, let's see how Spark has partitioned my data, I've read from the daily retail csv files."
   ]
  },
  {
   "cell_type": "code",
   "execution_count": 56,
   "metadata": {},
   "outputs": [
    {
     "data": {
      "text/plain": [
       "12"
      ]
     },
     "execution_count": 56,
     "metadata": {},
     "output_type": "execute_result"
    }
   ],
   "source": [
    "df.rdd.getNumPartitions()"
   ]
  },
  {
   "cell_type": "markdown",
   "metadata": {},
   "source": [
    "Currently there are 12 partitions. I want to optimaize the partitioning for queries on stock codes. How many Stock codes do I have?"
   ]
  },
  {
   "cell_type": "code",
   "execution_count": 57,
   "metadata": {},
   "outputs": [
    {
     "data": {
      "text/plain": [
       "4070"
      ]
     },
     "execution_count": 57,
     "metadata": {},
     "output_type": "execute_result"
    }
   ],
   "source": [
    "df.select(\"StockCode\").distinct().count()"
   ]
  },
  {
   "cell_type": "markdown",
   "metadata": {},
   "source": [
    "One option would be, to raise the number of partitions. But this doesn't help if I have not enough CPU cores."
   ]
  },
  {
   "cell_type": "code",
   "execution_count": 58,
   "metadata": {},
   "outputs": [],
   "source": [
    "# df.repartition(100)"
   ]
  },
  {
   "cell_type": "markdown",
   "metadata": {},
   "source": [
    "Furthermore, just raising the number of partitions would not ensure, that all rows having the same StockCode value which reside in the same partition. The later is the crucial point to gain partition locality of the query processing. So I have to define the StockCode column as partition criteria."
   ]
  },
  {
   "cell_type": "code",
   "execution_count": 59,
   "metadata": {},
   "outputs": [
    {
     "data": {
      "text/plain": [
       "DataFrame[InvoiceNo: string, StockCode: string, Description: string, Quantity: int, InvoiceDate: timestamp, UnitPrice: double, CustomerID: double, Country: string]"
      ]
     },
     "execution_count": 59,
     "metadata": {},
     "output_type": "execute_result"
    }
   ],
   "source": [
    "df.repartition(\"StockCode\")"
   ]
  },
  {
   "cell_type": "markdown",
   "metadata": {},
   "source": [
    "Nevertheless, If I had some further CPU cores at hand, can raise the number of partitions additionally."
   ]
  },
  {
   "cell_type": "code",
   "execution_count": 60,
   "metadata": {},
   "outputs": [
    {
     "data": {
      "text/plain": [
       "DataFrame[InvoiceNo: string, StockCode: string, Description: string, Quantity: int, InvoiceDate: timestamp, UnitPrice: double, CustomerID: double, Country: string]"
      ]
     },
     "execution_count": 60,
     "metadata": {},
     "output_type": "execute_result"
    }
   ],
   "source": [
    "df.repartition(20, \"StockCode\")"
   ]
  },
  {
   "cell_type": "markdown",
   "metadata": {},
   "source": [
    "### Collecting Rows to Local Driver\n",
    "Especially when I do some ad-hoc analysis of the data on my local machine, it is quite usefull to limit the data I' fetching from the cluster.\n",
    "\n",
    "`collect()` returns all the records as a list of `Row` objects. In Python, lists are iterable sequences."
   ]
  },
  {
   "cell_type": "code",
   "execution_count": 61,
   "metadata": {},
   "outputs": [
    {
     "data": {
      "text/plain": [
       "[Row(InvoiceNo='580538', StockCode='23084', Description='RABBIT NIGHT LIGHT', Quantity=48, InvoiceDate=datetime.datetime(2011, 12, 5, 8, 38), UnitPrice=1.79, CustomerID=14075.0, Country='United Kingdom'),\n",
       " Row(InvoiceNo='580538', StockCode='23077', Description='DOUGHNUT LIP GLOSS ', Quantity=20, InvoiceDate=datetime.datetime(2011, 12, 5, 8, 38), UnitPrice=1.25, CustomerID=14075.0, Country='United Kingdom'),\n",
       " Row(InvoiceNo='580538', StockCode='22906', Description='12 MESSAGE CARDS WITH ENVELOPES', Quantity=24, InvoiceDate=datetime.datetime(2011, 12, 5, 8, 38), UnitPrice=1.65, CustomerID=14075.0, Country='United Kingdom'),\n",
       " Row(InvoiceNo='580538', StockCode='21914', Description='BLUE HARMONICA IN BOX ', Quantity=24, InvoiceDate=datetime.datetime(2011, 12, 5, 8, 38), UnitPrice=1.25, CustomerID=14075.0, Country='United Kingdom'),\n",
       " Row(InvoiceNo='580538', StockCode='22467', Description='GUMBALL COAT RACK', Quantity=6, InvoiceDate=datetime.datetime(2011, 12, 5, 8, 38), UnitPrice=2.55, CustomerID=14075.0, Country='United Kingdom'),\n",
       " Row(InvoiceNo='580538', StockCode='21544', Description='SKULLS  WATER TRANSFER TATTOOS ', Quantity=48, InvoiceDate=datetime.datetime(2011, 12, 5, 8, 38), UnitPrice=0.85, CustomerID=14075.0, Country='United Kingdom'),\n",
       " Row(InvoiceNo='580538', StockCode='23126', Description='FELTCRAFT GIRL AMELIE KIT', Quantity=8, InvoiceDate=datetime.datetime(2011, 12, 5, 8, 38), UnitPrice=4.95, CustomerID=14075.0, Country='United Kingdom'),\n",
       " Row(InvoiceNo='580538', StockCode='21833', Description='CAMOUFLAGE LED TORCH', Quantity=24, InvoiceDate=datetime.datetime(2011, 12, 5, 8, 38), UnitPrice=1.69, CustomerID=14075.0, Country='United Kingdom'),\n",
       " Row(InvoiceNo='580539', StockCode='21479', Description='WHITE SKULL HOT WATER BOTTLE ', Quantity=4, InvoiceDate=datetime.datetime(2011, 12, 5, 8, 39), UnitPrice=4.25, CustomerID=18180.0, Country='United Kingdom'),\n",
       " Row(InvoiceNo='580539', StockCode='84030E', Description='ENGLISH ROSE HOT WATER BOTTLE', Quantity=4, InvoiceDate=datetime.datetime(2011, 12, 5, 8, 39), UnitPrice=4.25, CustomerID=18180.0, Country='United Kingdom'),\n",
       " Row(InvoiceNo='580539', StockCode='23355', Description='HOT WATER BOTTLE KEEP CALM', Quantity=4, InvoiceDate=datetime.datetime(2011, 12, 5, 8, 39), UnitPrice=4.95, CustomerID=18180.0, Country='United Kingdom'),\n",
       " Row(InvoiceNo='580539', StockCode='22111', Description='SCOTTIE DOG HOT WATER BOTTLE', Quantity=3, InvoiceDate=datetime.datetime(2011, 12, 5, 8, 39), UnitPrice=4.95, CustomerID=18180.0, Country='United Kingdom'),\n",
       " Row(InvoiceNo='580539', StockCode='21115', Description='ROSE CARAVAN DOORSTOP', Quantity=8, InvoiceDate=datetime.datetime(2011, 12, 5, 8, 39), UnitPrice=1.95, CustomerID=18180.0, Country='United Kingdom'),\n",
       " Row(InvoiceNo='580539', StockCode='21411', Description='GINGHAM HEART  DOORSTOP RED', Quantity=8, InvoiceDate=datetime.datetime(2011, 12, 5, 8, 39), UnitPrice=1.95, CustomerID=18180.0, Country='United Kingdom'),\n",
       " Row(InvoiceNo='580539', StockCode='23235', Description='STORAGE TIN VINTAGE LEAF', Quantity=12, InvoiceDate=datetime.datetime(2011, 12, 5, 8, 39), UnitPrice=1.25, CustomerID=18180.0, Country='United Kingdom'),\n",
       " Row(InvoiceNo='580539', StockCode='23239', Description='SET OF 4 KNICK KNACK TINS POPPIES', Quantity=6, InvoiceDate=datetime.datetime(2011, 12, 5, 8, 39), UnitPrice=1.65, CustomerID=18180.0, Country='United Kingdom'),\n",
       " Row(InvoiceNo='580539', StockCode='22197', Description='POPCORN HOLDER', Quantity=36, InvoiceDate=datetime.datetime(2011, 12, 5, 8, 39), UnitPrice=0.85, CustomerID=18180.0, Country='United Kingdom'),\n",
       " Row(InvoiceNo='580539', StockCode='22693', Description='GROW A FLYTRAP OR SUNFLOWER IN TIN', Quantity=24, InvoiceDate=datetime.datetime(2011, 12, 5, 8, 39), UnitPrice=1.25, CustomerID=18180.0, Country='United Kingdom'),\n",
       " Row(InvoiceNo='580539', StockCode='22372', Description='AIRLINE BAG VINTAGE WORLD CHAMPION ', Quantity=4, InvoiceDate=datetime.datetime(2011, 12, 5, 8, 39), UnitPrice=4.25, CustomerID=18180.0, Country='United Kingdom'),\n",
       " Row(InvoiceNo='580539', StockCode='22375', Description='AIRLINE BAG VINTAGE JET SET BROWN', Quantity=4, InvoiceDate=datetime.datetime(2011, 12, 5, 8, 39), UnitPrice=4.25, CustomerID=18180.0, Country='United Kingdom'),\n",
       " Row(InvoiceNo='580539', StockCode='22074', Description='6 RIBBONS SHIMMERING PINKS ', Quantity=24, InvoiceDate=datetime.datetime(2011, 12, 5, 8, 39), UnitPrice=0.39, CustomerID=18180.0, Country='United Kingdom'),\n",
       " Row(InvoiceNo='580539', StockCode='22075', Description='6 RIBBONS ELEGANT CHRISTMAS ', Quantity=24, InvoiceDate=datetime.datetime(2011, 12, 5, 8, 39), UnitPrice=0.39, CustomerID=18180.0, Country='United Kingdom'),\n",
       " Row(InvoiceNo='580539', StockCode='22076', Description='6 RIBBONS EMPIRE  ', Quantity=24, InvoiceDate=datetime.datetime(2011, 12, 5, 8, 39), UnitPrice=0.39, CustomerID=18180.0, Country='United Kingdom'),\n",
       " Row(InvoiceNo='580539', StockCode='22389', Description='PAPERWEIGHT SAVE THE PLANET', Quantity=12, InvoiceDate=datetime.datetime(2011, 12, 5, 8, 39), UnitPrice=0.39, CustomerID=18180.0, Country='United Kingdom'),\n",
       " Row(InvoiceNo='580539', StockCode='22391', Description='PAPERWEIGHT HOME SWEET HOME', Quantity=12, InvoiceDate=datetime.datetime(2011, 12, 5, 8, 39), UnitPrice=0.39, CustomerID=18180.0, Country='United Kingdom'),\n",
       " Row(InvoiceNo='580539', StockCode='22393', Description='PAPERWEIGHT VINTAGE COLLAGE', Quantity=12, InvoiceDate=datetime.datetime(2011, 12, 5, 8, 39), UnitPrice=0.39, CustomerID=18180.0, Country='United Kingdom'),\n",
       " Row(InvoiceNo='580539', StockCode='22395', Description='PAPERWEIGHT VINTAGE PAISLEY', Quantity=12, InvoiceDate=datetime.datetime(2011, 12, 5, 8, 39), UnitPrice=0.39, CustomerID=18180.0, Country='United Kingdom'),\n",
       " Row(InvoiceNo='580539', StockCode='22481', Description='BLACK TEA TOWEL CLASSIC DESIGN', Quantity=12, InvoiceDate=datetime.datetime(2011, 12, 5, 8, 39), UnitPrice=0.39, CustomerID=18180.0, Country='United Kingdom'),\n",
       " Row(InvoiceNo='580539', StockCode='23320', Description=\"GIANT 50'S CHRISTMAS CRACKER\", Quantity=12, InvoiceDate=datetime.datetime(2011, 12, 5, 8, 39), UnitPrice=1.25, CustomerID=18180.0, Country='United Kingdom'),\n",
       " Row(InvoiceNo='580539', StockCode='23543', Description='WALL ART KEEP CALM ', Quantity=6, InvoiceDate=datetime.datetime(2011, 12, 5, 8, 39), UnitPrice=4.15, CustomerID=18180.0, Country='United Kingdom'),\n",
       " Row(InvoiceNo='580540', StockCode='23497', Description='CLASSIC CHROME BICYCLE BELL ', Quantity=12, InvoiceDate=datetime.datetime(2011, 12, 5, 8, 49), UnitPrice=1.45, CustomerID=13417.0, Country='United Kingdom'),\n",
       " Row(InvoiceNo='580540', StockCode='23498', Description='CLASSIC BICYCLE CLIPS ', Quantity=12, InvoiceDate=datetime.datetime(2011, 12, 5, 8, 49), UnitPrice=1.45, CustomerID=13417.0, Country='United Kingdom'),\n",
       " Row(InvoiceNo='580540', StockCode='23552', Description='BICYCLE PUNCTURE REPAIR KIT ', Quantity=6, InvoiceDate=datetime.datetime(2011, 12, 5, 8, 49), UnitPrice=2.08, CustomerID=13417.0, Country='United Kingdom'),\n",
       " Row(InvoiceNo='580540', StockCode='22109', Description='FULL ENGLISH BREAKFAST PLATE', Quantity=4, InvoiceDate=datetime.datetime(2011, 12, 5, 8, 49), UnitPrice=3.75, CustomerID=13417.0, Country='United Kingdom'),\n",
       " Row(InvoiceNo='580540', StockCode='23556', Description='LANDMARK FRAME COVENT GARDEN ', Quantity=3, InvoiceDate=datetime.datetime(2011, 12, 5, 8, 49), UnitPrice=12.5, CustomerID=13417.0, Country='United Kingdom'),\n",
       " Row(InvoiceNo='580540', StockCode='23555', Description='LANDMARK FRAME NOTTING HILL ', Quantity=3, InvoiceDate=datetime.datetime(2011, 12, 5, 8, 49), UnitPrice=12.5, CustomerID=13417.0, Country='United Kingdom'),\n",
       " Row(InvoiceNo='580540', StockCode='23554', Description='LANDMARK FRAME OXFORD STREET', Quantity=3, InvoiceDate=datetime.datetime(2011, 12, 5, 8, 49), UnitPrice=12.5, CustomerID=13417.0, Country='United Kingdom'),\n",
       " Row(InvoiceNo='580540', StockCode='22466', Description='FAIRY TALE COTTAGE NIGHT LIGHT', Quantity=12, InvoiceDate=datetime.datetime(2011, 12, 5, 8, 49), UnitPrice=1.95, CustomerID=13417.0, Country='United Kingdom'),\n",
       " Row(InvoiceNo='580540', StockCode='23480', Description='MINI LIGHTS WOODLAND MUSHROOMS', Quantity=4, InvoiceDate=datetime.datetime(2011, 12, 5, 8, 49), UnitPrice=3.75, CustomerID=13417.0, Country='United Kingdom'),\n",
       " Row(InvoiceNo='580540', StockCode='23357', Description='HOT WATER BOTTLE SEX BOMB', Quantity=4, InvoiceDate=datetime.datetime(2011, 12, 5, 8, 49), UnitPrice=4.95, CustomerID=13417.0, Country='United Kingdom'),\n",
       " Row(InvoiceNo='580540', StockCode='23358', Description='HOT STUFF HOT WATER BOTTLE', Quantity=6, InvoiceDate=datetime.datetime(2011, 12, 5, 8, 49), UnitPrice=3.75, CustomerID=13417.0, Country='United Kingdom'),\n",
       " Row(InvoiceNo='580540', StockCode='22423', Description='REGENCY CAKESTAND 3 TIER', Quantity=1, InvoiceDate=datetime.datetime(2011, 12, 5, 8, 49), UnitPrice=12.75, CustomerID=13417.0, Country='United Kingdom'),\n",
       " Row(InvoiceNo='580540', StockCode='79321', Description='CHILLI LIGHTS', Quantity=4, InvoiceDate=datetime.datetime(2011, 12, 5, 8, 49), UnitPrice=5.75, CustomerID=13417.0, Country='United Kingdom'),\n",
       " Row(InvoiceNo='580540', StockCode='48194', Description='DOORMAT HEARTS', Quantity=4, InvoiceDate=datetime.datetime(2011, 12, 5, 8, 49), UnitPrice=8.25, CustomerID=13417.0, Country='United Kingdom'),\n",
       " Row(InvoiceNo='580540', StockCode='21523', Description='DOORMAT FANCY FONT HOME SWEET HOME', Quantity=2, InvoiceDate=datetime.datetime(2011, 12, 5, 8, 49), UnitPrice=8.25, CustomerID=13417.0, Country='United Kingdom'),\n",
       " Row(InvoiceNo='580540', StockCode='23283', Description='DOORMAT VINTAGE LEAF', Quantity=2, InvoiceDate=datetime.datetime(2011, 12, 5, 8, 49), UnitPrice=8.25, CustomerID=13417.0, Country='United Kingdom'),\n",
       " Row(InvoiceNo='580540', StockCode='23472', Description=' NINE DRAWER OFFICE TIDY', Quantity=2, InvoiceDate=datetime.datetime(2011, 12, 5, 8, 49), UnitPrice=14.95, CustomerID=13417.0, Country='United Kingdom'),\n",
       " Row(InvoiceNo='580540', StockCode='22457', Description='NATURAL SLATE HEART CHALKBOARD ', Quantity=6, InvoiceDate=datetime.datetime(2011, 12, 5, 8, 49), UnitPrice=2.95, CustomerID=13417.0, Country='United Kingdom'),\n",
       " Row(InvoiceNo='580541', StockCode='22436', Description='12 COLOURED PARTY BALLOONS', Quantity=20, InvoiceDate=datetime.datetime(2011, 12, 5, 9, 3), UnitPrice=0.65, CustomerID=15358.0, Country='United Kingdom'),\n",
       " Row(InvoiceNo='580541', StockCode='22439', Description='6 ROCKET BALLOONS ', Quantity=24, InvoiceDate=datetime.datetime(2011, 12, 5, 9, 3), UnitPrice=0.65, CustomerID=15358.0, Country='United Kingdom'),\n",
       " Row(InvoiceNo='580541', StockCode='22932', Description='BAKING MOULD TOFFEE CUP CHOCOLATE', Quantity=6, InvoiceDate=datetime.datetime(2011, 12, 5, 9, 3), UnitPrice=2.55, CustomerID=15358.0, Country='United Kingdom'),\n",
       " Row(InvoiceNo='580541', StockCode='23166', Description='MEDIUM CERAMIC TOP STORAGE JAR', Quantity=12, InvoiceDate=datetime.datetime(2011, 12, 5, 9, 3), UnitPrice=1.25, CustomerID=15358.0, Country='United Kingdom'),\n",
       " Row(InvoiceNo='580541', StockCode='23167', Description='SMALL CERAMIC TOP STORAGE JAR ', Quantity=12, InvoiceDate=datetime.datetime(2011, 12, 5, 9, 3), UnitPrice=0.83, CustomerID=15358.0, Country='United Kingdom'),\n",
       " Row(InvoiceNo='580541', StockCode='84692', Description='BOX OF 24 COCKTAIL PARASOLS', Quantity=25, InvoiceDate=datetime.datetime(2011, 12, 5, 9, 3), UnitPrice=0.42, CustomerID=15358.0, Country='United Kingdom'),\n",
       " Row(InvoiceNo='580541', StockCode='84380', Description='SET OF 3 BUTTERFLY COOKIE CUTTERS', Quantity=12, InvoiceDate=datetime.datetime(2011, 12, 5, 9, 3), UnitPrice=1.45, CustomerID=15358.0, Country='United Kingdom'),\n",
       " Row(InvoiceNo='580541', StockCode='23295', Description='SET OF 12 MINI LOAF BAKING CASES', Quantity=16, InvoiceDate=datetime.datetime(2011, 12, 5, 9, 3), UnitPrice=0.83, CustomerID=15358.0, Country='United Kingdom'),\n",
       " Row(InvoiceNo='580541', StockCode='22274', Description='FELTCRAFT DOLL EMILY', Quantity=6, InvoiceDate=datetime.datetime(2011, 12, 5, 9, 3), UnitPrice=2.95, CustomerID=15358.0, Country='United Kingdom'),\n",
       " Row(InvoiceNo='580541', StockCode='22750', Description='FELTCRAFT PRINCESS LOLA DOLL', Quantity=4, InvoiceDate=datetime.datetime(2011, 12, 5, 9, 3), UnitPrice=3.75, CustomerID=15358.0, Country='United Kingdom'),\n",
       " Row(InvoiceNo='580541', StockCode='20969', Description='RED FLORAL FELTCRAFT SHOULDER BAG', Quantity=8, InvoiceDate=datetime.datetime(2011, 12, 5, 9, 3), UnitPrice=3.75, CustomerID=15358.0, Country='United Kingdom'),\n",
       " Row(InvoiceNo='580541', StockCode='20972', Description='PINK CREAM FELT CRAFT TRINKET BOX ', Quantity=12, InvoiceDate=datetime.datetime(2011, 12, 5, 9, 3), UnitPrice=1.25, CustomerID=15358.0, Country='United Kingdom'),\n",
       " Row(InvoiceNo='580541', StockCode='22586', Description='FELTCRAFT HAIRBAND PINK AND BLUE', Quantity=12, InvoiceDate=datetime.datetime(2011, 12, 5, 9, 3), UnitPrice=0.85, CustomerID=15358.0, Country='United Kingdom'),\n",
       " Row(InvoiceNo='580541', StockCode='22566', Description='FELTCRAFT HAIRBAND PINK AND PURPLE', Quantity=12, InvoiceDate=datetime.datetime(2011, 12, 5, 9, 3), UnitPrice=0.85, CustomerID=15358.0, Country='United Kingdom'),\n",
       " Row(InvoiceNo='580541', StockCode='23188', Description='VINTAGE  2 METRE FOLDING RULER', Quantity=12, InvoiceDate=datetime.datetime(2011, 12, 5, 9, 3), UnitPrice=1.65, CustomerID=15358.0, Country='United Kingdom'),\n",
       " Row(InvoiceNo='580541', StockCode='22047', Description='EMPIRE GIFT WRAP', Quantity=25, InvoiceDate=datetime.datetime(2011, 12, 5, 9, 3), UnitPrice=0.42, CustomerID=15358.0, Country='United Kingdom'),\n",
       " Row(InvoiceNo='580541', StockCode='21495', Description='SKULLS AND CROSSBONES WRAP', Quantity=25, InvoiceDate=datetime.datetime(2011, 12, 5, 9, 3), UnitPrice=0.42, CustomerID=15358.0, Country='United Kingdom'),\n",
       " Row(InvoiceNo='580541', StockCode='22045', Description='SPACEBOY GIFT WRAP', Quantity=25, InvoiceDate=datetime.datetime(2011, 12, 5, 9, 3), UnitPrice=0.42, CustomerID=15358.0, Country='United Kingdom'),\n",
       " Row(InvoiceNo='580541', StockCode='23232', Description='WRAP VINTAGE LEAF DESIGN', Quantity=25, InvoiceDate=datetime.datetime(2011, 12, 5, 9, 3), UnitPrice=0.42, CustomerID=15358.0, Country='United Kingdom'),\n",
       " Row(InvoiceNo='580541', StockCode='23350', Description='ROLL WRAP VINTAGE SPOT ', Quantity=12, InvoiceDate=datetime.datetime(2011, 12, 5, 9, 3), UnitPrice=1.25, CustomerID=15358.0, Country='United Kingdom'),\n",
       " Row(InvoiceNo='580541', StockCode='23349', Description='ROLL WRAP VINTAGE CHRISTMAS', Quantity=12, InvoiceDate=datetime.datetime(2011, 12, 5, 9, 3), UnitPrice=1.25, CustomerID=15358.0, Country='United Kingdom'),\n",
       " Row(InvoiceNo='580541', StockCode='22026', Description='BANQUET BIRTHDAY  CARD  ', Quantity=12, InvoiceDate=datetime.datetime(2011, 12, 5, 9, 3), UnitPrice=0.42, CustomerID=15358.0, Country='United Kingdom'),\n",
       " Row(InvoiceNo='580541', StockCode='22027', Description='TEA PARTY BIRTHDAY CARD', Quantity=12, InvoiceDate=datetime.datetime(2011, 12, 5, 9, 3), UnitPrice=0.42, CustomerID=15358.0, Country='United Kingdom'),\n",
       " Row(InvoiceNo='580541', StockCode='22467', Description='GUMBALL COAT RACK', Quantity=6, InvoiceDate=datetime.datetime(2011, 12, 5, 9, 3), UnitPrice=2.55, CustomerID=15358.0, Country='United Kingdom'),\n",
       " Row(InvoiceNo='580541', StockCode='22962', Description='JAM JAR WITH PINK LID', Quantity=12, InvoiceDate=datetime.datetime(2011, 12, 5, 9, 3), UnitPrice=0.85, CustomerID=15358.0, Country='United Kingdom'),\n",
       " Row(InvoiceNo='580541', StockCode='22961', Description='JAM MAKING SET PRINTED', Quantity=12, InvoiceDate=datetime.datetime(2011, 12, 5, 9, 3), UnitPrice=1.45, CustomerID=15358.0, Country='United Kingdom'),\n",
       " Row(InvoiceNo='580541', StockCode='22584', Description='PACK OF 6 PANETTONE GIFT BOXES', Quantity=6, InvoiceDate=datetime.datetime(2011, 12, 5, 9, 3), UnitPrice=2.55, CustomerID=15358.0, Country='United Kingdom'),\n",
       " Row(InvoiceNo='580541', StockCode='23245', Description='SET OF 3 REGENCY CAKE TINS', Quantity=4, InvoiceDate=datetime.datetime(2011, 12, 5, 9, 3), UnitPrice=4.95, CustomerID=15358.0, Country='United Kingdom'),\n",
       " Row(InvoiceNo='580541', StockCode='22333', Description='RETROSPOT PARTY BAG + STICKER SET', Quantity=8, InvoiceDate=datetime.datetime(2011, 12, 5, 9, 3), UnitPrice=1.65, CustomerID=15358.0, Country='United Kingdom'),\n",
       " Row(InvoiceNo='580541', StockCode='22906', Description='12 MESSAGE CARDS WITH ENVELOPES', Quantity=12, InvoiceDate=datetime.datetime(2011, 12, 5, 9, 3), UnitPrice=1.65, CustomerID=15358.0, Country='United Kingdom'),\n",
       " Row(InvoiceNo='580541', StockCode='22567', Description='20 DOLLY PEGS RETROSPOT', Quantity=12, InvoiceDate=datetime.datetime(2011, 12, 5, 9, 3), UnitPrice=1.45, CustomerID=15358.0, Country='United Kingdom'),\n",
       " Row(InvoiceNo='580541', StockCode='21703', Description='BAG 125g SWIRLY MARBLES', Quantity=12, InvoiceDate=datetime.datetime(2011, 12, 5, 9, 3), UnitPrice=0.42, CustomerID=15358.0, Country='United Kingdom'),\n",
       " Row(InvoiceNo='580541', StockCode='22654', Description='DELUXE SEWING KIT ', Quantity=3, InvoiceDate=datetime.datetime(2011, 12, 5, 9, 3), UnitPrice=5.95, CustomerID=15358.0, Country='United Kingdom'),\n",
       " Row(InvoiceNo='580541', StockCode='22089', Description='PAPER BUNTING VINTAGE PAISLEY', Quantity=6, InvoiceDate=datetime.datetime(2011, 12, 5, 9, 3), UnitPrice=2.95, CustomerID=15358.0, Country='United Kingdom'),\n",
       " Row(InvoiceNo='580541', StockCode='21500', Description='PINK POLKADOT WRAP ', Quantity=25, InvoiceDate=datetime.datetime(2011, 12, 5, 9, 3), UnitPrice=0.42, CustomerID=15358.0, Country='United Kingdom'),\n",
       " Row(InvoiceNo='580541', StockCode='22745', Description=\"POPPY'S PLAYHOUSE BEDROOM \", Quantity=6, InvoiceDate=datetime.datetime(2011, 12, 5, 9, 3), UnitPrice=2.1, CustomerID=15358.0, Country='United Kingdom'),\n",
       " Row(InvoiceNo='580541', StockCode='22746', Description=\"POPPY'S PLAYHOUSE LIVINGROOM \", Quantity=6, InvoiceDate=datetime.datetime(2011, 12, 5, 9, 3), UnitPrice=2.1, CustomerID=15358.0, Country='United Kingdom'),\n",
       " Row(InvoiceNo='580541', StockCode='22196', Description='SMALL HEART MEASURING SPOONS', Quantity=12, InvoiceDate=datetime.datetime(2011, 12, 5, 9, 3), UnitPrice=0.85, CustomerID=15358.0, Country='United Kingdom'),\n",
       " Row(InvoiceNo='580541', StockCode='22082', Description='RIBBON REEL STRIPES DESIGN ', Quantity=10, InvoiceDate=datetime.datetime(2011, 12, 5, 9, 3), UnitPrice=1.65, CustomerID=15358.0, Country='United Kingdom'),\n",
       " Row(InvoiceNo='580541', StockCode='22077', Description='6 RIBBONS RUSTIC CHARM', Quantity=24, InvoiceDate=datetime.datetime(2011, 12, 5, 9, 3), UnitPrice=1.95, CustomerID=15358.0, Country='United Kingdom'),\n",
       " Row(InvoiceNo='580541', StockCode='85049E', Description='SCANDINAVIAN REDS RIBBONS', Quantity=12, InvoiceDate=datetime.datetime(2011, 12, 5, 9, 3), UnitPrice=1.25, CustomerID=15358.0, Country='United Kingdom'),\n",
       " Row(InvoiceNo='580541', StockCode='21679', Description='SKULLS  STICKERS', Quantity=12, InvoiceDate=datetime.datetime(2011, 12, 5, 9, 3), UnitPrice=0.85, CustomerID=15358.0, Country='United Kingdom'),\n",
       " Row(InvoiceNo='580541', StockCode='22332', Description='SKULLS PARTY BAG + STICKER SET', Quantity=8, InvoiceDate=datetime.datetime(2011, 12, 5, 9, 3), UnitPrice=1.65, CustomerID=15358.0, Country='United Kingdom'),\n",
       " Row(InvoiceNo='580541', StockCode='22617', Description='BAKING SET SPACEBOY DESIGN', Quantity=3, InvoiceDate=datetime.datetime(2011, 12, 5, 9, 3), UnitPrice=4.95, CustomerID=15358.0, Country='United Kingdom'),\n",
       " Row(InvoiceNo='580541', StockCode='22964', Description='3 PIECE SPACEBOY COOKIE CUTTER SET', Quantity=6, InvoiceDate=datetime.datetime(2011, 12, 5, 9, 3), UnitPrice=2.1, CustomerID=15358.0, Country='United Kingdom'),\n",
       " Row(InvoiceNo='580541', StockCode='22563', Description='HAPPY STENCIL CRAFT', Quantity=24, InvoiceDate=datetime.datetime(2011, 12, 5, 9, 3), UnitPrice=1.25, CustomerID=15358.0, Country='United Kingdom'),\n",
       " Row(InvoiceNo='580541', StockCode='22150', Description='3 STRIPEY MICE FELTCRAFT', Quantity=6, InvoiceDate=datetime.datetime(2011, 12, 5, 9, 3), UnitPrice=1.95, CustomerID=15358.0, Country='United Kingdom'),\n",
       " Row(InvoiceNo='580541', StockCode='23177', Description='TREASURE ISLAND BOOK BOX', Quantity=8, InvoiceDate=datetime.datetime(2011, 12, 5, 9, 3), UnitPrice=2.25, CustomerID=15358.0, Country='United Kingdom'),\n",
       " Row(InvoiceNo='580541', StockCode='21257', Description='VICTORIAN SEWING BOX MEDIUM', Quantity=2, InvoiceDate=datetime.datetime(2011, 12, 5, 9, 3), UnitPrice=7.95, CustomerID=15358.0, Country='United Kingdom'),\n",
       " Row(InvoiceNo='580541', StockCode='23293', Description='SET OF 12 FAIRY CAKE BAKING CASES', Quantity=8, InvoiceDate=datetime.datetime(2011, 12, 5, 9, 3), UnitPrice=0.83, CustomerID=15358.0, Country='United Kingdom'),\n",
       " Row(InvoiceNo='580541', StockCode='23294', Description='SET OF 6 SNACK LOAF BAKING CASES', Quantity=8, InvoiceDate=datetime.datetime(2011, 12, 5, 9, 3), UnitPrice=0.83, CustomerID=15358.0, Country='United Kingdom'),\n",
       " Row(InvoiceNo='580541', StockCode='23237', Description='SET OF 4 KNICK KNACK TINS LEAF', Quantity=6, InvoiceDate=datetime.datetime(2011, 12, 5, 9, 3), UnitPrice=4.15, CustomerID=15358.0, Country='United Kingdom'),\n",
       " Row(InvoiceNo='580541', StockCode='21680', Description='WOODLAND  STICKERS', Quantity=12, InvoiceDate=datetime.datetime(2011, 12, 5, 9, 3), UnitPrice=0.85, CustomerID=15358.0, Country='United Kingdom'),\n",
       " Row(InvoiceNo='580542', StockCode='23560', Description='SET OF 6 RIBBONS COUNTRY STYLE', Quantity=6, InvoiceDate=datetime.datetime(2011, 12, 5, 9, 4), UnitPrice=2.89, CustomerID=15358.0, Country='United Kingdom'),\n",
       " Row(InvoiceNo='580542', StockCode='23562', Description='SET OF 6 RIBBONS PERFECTLY PRETTY  ', Quantity=6, InvoiceDate=datetime.datetime(2011, 12, 5, 9, 4), UnitPrice=2.89, CustomerID=15358.0, Country='United Kingdom'),\n",
       " Row(InvoiceNo='580542', StockCode='23561', Description='SET OF 6 RIBBONS PARTY', Quantity=6, InvoiceDate=datetime.datetime(2011, 12, 5, 9, 4), UnitPrice=2.89, CustomerID=15358.0, Country='United Kingdom'),\n",
       " Row(InvoiceNo='580543', StockCode='82600', Description='N0 SINGING METAL SIGN', Quantity=24, InvoiceDate=datetime.datetime(2011, 12, 5, 9, 11), UnitPrice=2.1, CustomerID=18223.0, Country='United Kingdom'),\n",
       " Row(InvoiceNo='580543', StockCode='21137', Description='BLACK RECORD COVER FRAME', Quantity=8, InvoiceDate=datetime.datetime(2011, 12, 5, 9, 11), UnitPrice=3.75, CustomerID=18223.0, Country='United Kingdom'),\n",
       " Row(InvoiceNo='580543', StockCode='21165', Description='BEWARE OF THE CAT METAL SIGN ', Quantity=24, InvoiceDate=datetime.datetime(2011, 12, 5, 9, 11), UnitPrice=1.69, CustomerID=18223.0, Country='United Kingdom'),\n",
       " Row(InvoiceNo='580543', StockCode='21174', Description='POTTERING IN THE SHED METAL SIGN', Quantity=12, InvoiceDate=datetime.datetime(2011, 12, 5, 9, 11), UnitPrice=2.08, CustomerID=18223.0, Country='United Kingdom'),\n",
       " Row(InvoiceNo='580543', StockCode='21181', Description='PLEASE ONE PERSON METAL SIGN', Quantity=12, InvoiceDate=datetime.datetime(2011, 12, 5, 9, 11), UnitPrice=2.1, CustomerID=18223.0, Country='United Kingdom'),\n",
       " Row(InvoiceNo='580543', StockCode='22563', Description='HAPPY STENCIL CRAFT', Quantity=12, InvoiceDate=datetime.datetime(2011, 12, 5, 9, 11), UnitPrice=1.25, CustomerID=18223.0, Country='United Kingdom'),\n",
       " Row(InvoiceNo='580543', StockCode='22666', Description='RECIPE BOX PANTRY YELLOW DESIGN', Quantity=6, InvoiceDate=datetime.datetime(2011, 12, 5, 9, 11), UnitPrice=2.95, CustomerID=18223.0, Country='United Kingdom'),\n",
       " Row(InvoiceNo='580543', StockCode='22720', Description='SET OF 3 CAKE TINS PANTRY DESIGN ', Quantity=6, InvoiceDate=datetime.datetime(2011, 12, 5, 9, 11), UnitPrice=4.95, CustomerID=18223.0, Country='United Kingdom'),\n",
       " Row(InvoiceNo='580543', StockCode='22726', Description='ALARM CLOCK BAKELIKE GREEN', Quantity=8, InvoiceDate=datetime.datetime(2011, 12, 5, 9, 11), UnitPrice=3.75, CustomerID=18223.0, Country='United Kingdom'),\n",
       " Row(InvoiceNo='580543', StockCode='22727', Description='ALARM CLOCK BAKELIKE RED ', Quantity=8, InvoiceDate=datetime.datetime(2011, 12, 5, 9, 11), UnitPrice=3.75, CustomerID=18223.0, Country='United Kingdom'),\n",
       " Row(InvoiceNo='580543', StockCode='22734', Description='SET OF 6 RIBBONS VINTAGE CHRISTMAS', Quantity=6, InvoiceDate=datetime.datetime(2011, 12, 5, 9, 11), UnitPrice=2.89, CustomerID=18223.0, Country='United Kingdom'),\n",
       " Row(InvoiceNo='580543', StockCode='22909', Description='SET OF 20 VINTAGE CHRISTMAS NAPKINS', Quantity=12, InvoiceDate=datetime.datetime(2011, 12, 5, 9, 11), UnitPrice=0.85, CustomerID=18223.0, Country='United Kingdom'),\n",
       " Row(InvoiceNo='580543', StockCode='22966', Description='GINGERBREAD MAN COOKIE CUTTER', Quantity=12, InvoiceDate=datetime.datetime(2011, 12, 5, 9, 11), UnitPrice=1.25, CustomerID=18223.0, Country='United Kingdom'),\n",
       " Row(InvoiceNo='580543', StockCode='23084', Description='RABBIT NIGHT LIGHT', Quantity=24, InvoiceDate=datetime.datetime(2011, 12, 5, 9, 11), UnitPrice=1.79, CustomerID=18223.0, Country='United Kingdom'),\n",
       " Row(InvoiceNo='580543', StockCode='23158', Description='SET OF 5 LUCKY CAT MAGNETS ', Quantity=12, InvoiceDate=datetime.datetime(2011, 12, 5, 9, 11), UnitPrice=2.08, CustomerID=18223.0, Country='United Kingdom'),\n",
       " Row(InvoiceNo='580543', StockCode='23189', Description='SET OF 12 FORK CANDLES', Quantity=12, InvoiceDate=datetime.datetime(2011, 12, 5, 9, 11), UnitPrice=2.89, CustomerID=18223.0, Country='United Kingdom'),\n",
       " Row(InvoiceNo='580543', StockCode='23202', Description='JUMBO BAG VINTAGE LEAF', Quantity=10, InvoiceDate=datetime.datetime(2011, 12, 5, 9, 11), UnitPrice=2.08, CustomerID=18223.0, Country='United Kingdom'),\n",
       " Row(InvoiceNo='580543', StockCode='23371', Description='SET 36 COLOUR PENCILS SPACEBOY ', Quantity=16, InvoiceDate=datetime.datetime(2011, 12, 5, 9, 11), UnitPrice=1.25, CustomerID=18223.0, Country='United Kingdom'),\n",
       " Row(InvoiceNo='580543', StockCode='23372', Description='SET 36 COLOUR PENCILS DOLLY GIRL', Quantity=16, InvoiceDate=datetime.datetime(2011, 12, 5, 9, 11), UnitPrice=1.25, CustomerID=18223.0, Country='United Kingdom'),\n",
       " Row(InvoiceNo='580543', StockCode='23493', Description='VINTAGE DOILY TRAVEL SEWING KIT', Quantity=10, InvoiceDate=datetime.datetime(2011, 12, 5, 9, 11), UnitPrice=1.95, CustomerID=18223.0, Country='United Kingdom'),\n",
       " Row(InvoiceNo='580543', StockCode='23497', Description='CLASSIC CHROME BICYCLE BELL ', Quantity=12, InvoiceDate=datetime.datetime(2011, 12, 5, 9, 11), UnitPrice=1.45, CustomerID=18223.0, Country='United Kingdom'),\n",
       " Row(InvoiceNo='580543', StockCode='23552', Description='BICYCLE PUNCTURE REPAIR KIT ', Quantity=12, InvoiceDate=datetime.datetime(2011, 12, 5, 9, 11), UnitPrice=2.08, CustomerID=18223.0, Country='United Kingdom'),\n",
       " Row(InvoiceNo='580543', StockCode='23498', Description='CLASSIC BICYCLE CLIPS ', Quantity=12, InvoiceDate=datetime.datetime(2011, 12, 5, 9, 11), UnitPrice=1.45, CustomerID=18223.0, Country='United Kingdom'),\n",
       " Row(InvoiceNo='580544', StockCode='22917', Description='HERB MARKER ROSEMARY', Quantity=12, InvoiceDate=datetime.datetime(2011, 12, 5, 9, 15), UnitPrice=0.65, CustomerID=15156.0, Country='United Kingdom'),\n",
       " Row(InvoiceNo='580544', StockCode='22921', Description='HERB MARKER CHIVES ', Quantity=12, InvoiceDate=datetime.datetime(2011, 12, 5, 9, 15), UnitPrice=0.65, CustomerID=15156.0, Country='United Kingdom'),\n",
       " Row(InvoiceNo='580544', StockCode='22918', Description='HERB MARKER PARSLEY', Quantity=12, InvoiceDate=datetime.datetime(2011, 12, 5, 9, 15), UnitPrice=0.65, CustomerID=15156.0, Country='United Kingdom'),\n",
       " Row(InvoiceNo='580544', StockCode='22573', Description='STAR WOODEN CHRISTMAS DECORATION', Quantity=12, InvoiceDate=datetime.datetime(2011, 12, 5, 9, 15), UnitPrice=0.85, CustomerID=15156.0, Country='United Kingdom'),\n",
       " Row(InvoiceNo='580544', StockCode='22576', Description='SWALLOW WOODEN CHRISTMAS DECORATION', Quantity=12, InvoiceDate=datetime.datetime(2011, 12, 5, 9, 15), UnitPrice=0.85, CustomerID=15156.0, Country='United Kingdom'),\n",
       " Row(InvoiceNo='580544', StockCode='85199S', Description='SMALL HANGING IVORY/RED WOOD BIRD', Quantity=24, InvoiceDate=datetime.datetime(2011, 12, 5, 9, 15), UnitPrice=0.42, CustomerID=15156.0, Country='United Kingdom'),\n",
       " Row(InvoiceNo='580544', StockCode='22784', Description='LANTERN CREAM GAZEBO ', Quantity=3, InvoiceDate=datetime.datetime(2011, 12, 5, 9, 15), UnitPrice=4.95, CustomerID=15156.0, Country='United Kingdom'),\n",
       " Row(InvoiceNo='580544', StockCode='20846', Description='ZINC HEART LATTICE T-LIGHT HOLDER', Quantity=12, InvoiceDate=datetime.datetime(2011, 12, 5, 9, 15), UnitPrice=1.25, CustomerID=15156.0, Country='United Kingdom'),\n",
       " Row(InvoiceNo='580544', StockCode='23039', Description='T-LIGHT HOLDER SILVER HEART HANDLE', Quantity=6, InvoiceDate=datetime.datetime(2011, 12, 5, 9, 15), UnitPrice=1.95, CustomerID=15156.0, Country='United Kingdom'),\n",
       " Row(InvoiceNo='580544', StockCode='22442', Description='GROW YOUR OWN FLOWERS SET OF 3', Quantity=4, InvoiceDate=datetime.datetime(2011, 12, 5, 9, 15), UnitPrice=7.95, CustomerID=15156.0, Country='United Kingdom'),\n",
       " Row(InvoiceNo='580544', StockCode='22447', Description='PIN CUSHION BABUSHKA BLUE', Quantity=6, InvoiceDate=datetime.datetime(2011, 12, 5, 9, 15), UnitPrice=3.35, CustomerID=15156.0, Country='United Kingdom'),\n",
       " Row(InvoiceNo='580544', StockCode='22448', Description='PIN CUSHION BABUSHKA RED', Quantity=6, InvoiceDate=datetime.datetime(2011, 12, 5, 9, 15), UnitPrice=3.35, CustomerID=15156.0, Country='United Kingdom'),\n",
       " Row(InvoiceNo='580544', StockCode='22453', Description='MEASURING TAPE BABUSHKA BLUE', Quantity=6, InvoiceDate=datetime.datetime(2011, 12, 5, 9, 15), UnitPrice=2.95, CustomerID=15156.0, Country='United Kingdom'),\n",
       " Row(InvoiceNo='580544', StockCode='23561', Description='SET OF 6 RIBBONS PARTY', Quantity=6, InvoiceDate=datetime.datetime(2011, 12, 5, 9, 15), UnitPrice=2.89, CustomerID=15156.0, Country='United Kingdom'),\n",
       " Row(InvoiceNo='580544', StockCode='23562', Description='SET OF 6 RIBBONS PERFECTLY PRETTY  ', Quantity=6, InvoiceDate=datetime.datetime(2011, 12, 5, 9, 15), UnitPrice=2.89, CustomerID=15156.0, Country='United Kingdom'),\n",
       " Row(InvoiceNo='580544', StockCode='21189', Description='WHITE HONEYCOMB PAPER GARLAND ', Quantity=12, InvoiceDate=datetime.datetime(2011, 12, 5, 9, 15), UnitPrice=1.65, CustomerID=15156.0, Country='United Kingdom'),\n",
       " Row(InvoiceNo='580544', StockCode='21201', Description='TROPICAL  HONEYCOMB PAPER GARLAND ', Quantity=12, InvoiceDate=datetime.datetime(2011, 12, 5, 9, 15), UnitPrice=2.55, CustomerID=15156.0, Country='United Kingdom'),\n",
       " Row(InvoiceNo='580544', StockCode='22083', Description='PAPER CHAIN KIT RETROSPOT', Quantity=6, InvoiceDate=datetime.datetime(2011, 12, 5, 9, 15), UnitPrice=2.95, CustomerID=15156.0, Country='United Kingdom'),\n",
       " Row(InvoiceNo='580544', StockCode='22911', Description='PAPER CHAIN KIT LONDON', Quantity=6, InvoiceDate=datetime.datetime(2011, 12, 5, 9, 15), UnitPrice=2.95, CustomerID=15156.0, Country='United Kingdom'),\n",
       " Row(InvoiceNo='580544', StockCode='22561', Description='WOODEN SCHOOL COLOURING SET', Quantity=12, InvoiceDate=datetime.datetime(2011, 12, 5, 9, 15), UnitPrice=1.65, CustomerID=15156.0, Country='United Kingdom'),\n",
       " Row(InvoiceNo='580544', StockCode='22605', Description='WOODEN CROQUET GARDEN SET', Quantity=1, InvoiceDate=datetime.datetime(2011, 12, 5, 9, 15), UnitPrice=14.95, CustomerID=15156.0, Country='United Kingdom'),\n",
       " Row(InvoiceNo='580544', StockCode='22607', Description='WOODEN ROUNDERS GARDEN SET ', Quantity=2, InvoiceDate=datetime.datetime(2011, 12, 5, 9, 15), UnitPrice=9.95, CustomerID=15156.0, Country='United Kingdom'),\n",
       " Row(InvoiceNo='580544', StockCode='22916', Description='HERB MARKER THYME', Quantity=24, InvoiceDate=datetime.datetime(2011, 12, 5, 9, 15), UnitPrice=0.65, CustomerID=15156.0, Country='United Kingdom'),\n",
       " Row(InvoiceNo='580544', StockCode='22919', Description='HERB MARKER MINT', Quantity=12, InvoiceDate=datetime.datetime(2011, 12, 5, 9, 15), UnitPrice=0.65, CustomerID=15156.0, Country='United Kingdom'),\n",
       " Row(InvoiceNo='580544', StockCode='22920', Description='HERB MARKER BASIL', Quantity=12, InvoiceDate=datetime.datetime(2011, 12, 5, 9, 15), UnitPrice=0.65, CustomerID=15156.0, Country='United Kingdom'),\n",
       " Row(InvoiceNo='580545', StockCode='23418', Description='LAVENDER TOILETTE BOTTLE', Quantity=12, InvoiceDate=datetime.datetime(2011, 12, 5, 9, 16), UnitPrice=2.08, CustomerID=12782.0, Country='Portugal'),\n",
       " Row(InvoiceNo='580545', StockCode='20750', Description='RED RETROSPOT MINI CASES', Quantity=2, InvoiceDate=datetime.datetime(2011, 12, 5, 9, 16), UnitPrice=7.95, CustomerID=12782.0, Country='Portugal'),\n",
       " Row(InvoiceNo='580545', StockCode='23398', Description='HANGING HEART BONHEUR', Quantity=12, InvoiceDate=datetime.datetime(2011, 12, 5, 9, 16), UnitPrice=0.85, CustomerID=12782.0, Country='Portugal'),\n",
       " Row(InvoiceNo='580545', StockCode='23209', Description='LUNCH BAG VINTAGE DOILY ', Quantity=10, InvoiceDate=datetime.datetime(2011, 12, 5, 9, 16), UnitPrice=1.65, CustomerID=12782.0, Country='Portugal'),\n",
       " Row(InvoiceNo='580545', StockCode='22139', Description='RETROSPOT TEA SET CERAMIC 11 PC ', Quantity=3, InvoiceDate=datetime.datetime(2011, 12, 5, 9, 16), UnitPrice=4.95, CustomerID=12782.0, Country='Portugal'),\n",
       " Row(InvoiceNo='580545', StockCode='23571', Description='TRADITIONAL NAUGHTS & CROSSES', Quantity=12, InvoiceDate=datetime.datetime(2011, 12, 5, 9, 16), UnitPrice=1.65, CustomerID=12782.0, Country='Portugal'),\n",
       " Row(InvoiceNo='580545', StockCode='23583', Description='LUNCH BAG PAISLEY PARK  ', Quantity=10, InvoiceDate=datetime.datetime(2011, 12, 5, 9, 16), UnitPrice=1.65, CustomerID=12782.0, Country='Portugal'),\n",
       " Row(InvoiceNo='580545', StockCode='23455', Description='SMALL PARLOUR PICTURE FRAME', Quantity=6, InvoiceDate=datetime.datetime(2011, 12, 5, 9, 16), UnitPrice=2.89, CustomerID=12782.0, Country='Portugal'),\n",
       " Row(InvoiceNo='580545', StockCode='23108', Description='SET OF 10 LED DOLLY LIGHTS', Quantity=2, InvoiceDate=datetime.datetime(2011, 12, 5, 9, 16), UnitPrice=6.25, CustomerID=12782.0, Country='Portugal'),\n",
       " Row(InvoiceNo='580545', StockCode='22620', Description='4 TRADITIONAL SPINNING TOPS', Quantity=24, InvoiceDate=datetime.datetime(2011, 12, 5, 9, 16), UnitPrice=1.45, CustomerID=12782.0, Country='Portugal'),\n",
       " Row(InvoiceNo='580545', StockCode='21891', Description='TRADITIONAL WOODEN SKIPPING ROPE', Quantity=12, InvoiceDate=datetime.datetime(2011, 12, 5, 9, 16), UnitPrice=1.45, CustomerID=12782.0, Country='Portugal'),\n",
       " Row(InvoiceNo='580545', StockCode='23570', Description='TRADITIONAL PICK UP STICKS GAME ', Quantity=12, InvoiceDate=datetime.datetime(2011, 12, 5, 9, 16), UnitPrice=1.25, CustomerID=12782.0, Country='Portugal'),\n",
       " Row(InvoiceNo='580545', StockCode='22355', Description='CHARLOTTE BAG SUKI DESIGN', Quantity=10, InvoiceDate=datetime.datetime(2011, 12, 5, 9, 16), UnitPrice=0.85, CustomerID=12782.0, Country='Portugal'),\n",
       " Row(InvoiceNo='580545', StockCode='POST', Description='POSTAGE', Quantity=1, InvoiceDate=datetime.datetime(2011, 12, 5, 9, 16), UnitPrice=28.0, CustomerID=12782.0, Country='Portugal'),\n",
       " Row(InvoiceNo='580546', StockCode='23406', Description='CHECK', Quantity=-21, InvoiceDate=datetime.datetime(2011, 12, 5, 9, 27), UnitPrice=0.0, CustomerID=None, Country='United Kingdom'),\n",
       " Row(InvoiceNo='580547', StockCode='21201', Description='???', Quantity=-390, InvoiceDate=datetime.datetime(2011, 12, 5, 9, 29), UnitPrice=0.0, CustomerID=None, Country='United Kingdom'),\n",
       " Row(InvoiceNo='580548', StockCode='22624', Description='IVORY KITCHEN SCALES', Quantity=2, InvoiceDate=datetime.datetime(2011, 12, 5, 9, 41), UnitPrice=8.5, CustomerID=12569.0, Country='Germany'),\n",
       " Row(InvoiceNo='580548', StockCode='22625', Description='RED KITCHEN SCALES', Quantity=2, InvoiceDate=datetime.datetime(2011, 12, 5, 9, 41), UnitPrice=8.5, CustomerID=12569.0, Country='Germany'),\n",
       " Row(InvoiceNo='580548', StockCode='22626', Description='BLACK KITCHEN SCALES', Quantity=2, InvoiceDate=datetime.datetime(2011, 12, 5, 9, 41), UnitPrice=8.5, CustomerID=12569.0, Country='Germany'),\n",
       " Row(InvoiceNo='580548', StockCode='POST', Description='POSTAGE', Quantity=1, InvoiceDate=datetime.datetime(2011, 12, 5, 9, 41), UnitPrice=18.0, CustomerID=12569.0, Country='Germany'),\n",
       " Row(InvoiceNo='580549', StockCode='84876B', Description='found', Quantity=66, InvoiceDate=datetime.datetime(2011, 12, 5, 9, 54), UnitPrice=0.0, CustomerID=None, Country='United Kingdom'),\n",
       " Row(InvoiceNo='580550', StockCode='85034B', Description='3 WHITE CHOC MORRIS BOXED CANDLES', Quantity=24, InvoiceDate=datetime.datetime(2011, 12, 5, 10, 0), UnitPrice=1.25, CustomerID=13126.0, Country='United Kingdom'),\n",
       " Row(InvoiceNo='580550', StockCode='21109', Description='LARGE CAKE TOWEL CHOCOLATE SPOTS', Quantity=12, InvoiceDate=datetime.datetime(2011, 12, 5, 10, 0), UnitPrice=1.95, CustomerID=13126.0, Country='United Kingdom'),\n",
       " Row(InvoiceNo='580550', StockCode='21111', Description='SWISS ROLL TOWEL, CHOCOLATE  SPOTS', Quantity=24, InvoiceDate=datetime.datetime(2011, 12, 5, 10, 0), UnitPrice=1.25, CustomerID=13126.0, Country='United Kingdom'),\n",
       " Row(InvoiceNo='580550', StockCode='21286', Description='RETROSPOT CANDLE  LARGE', Quantity=12, InvoiceDate=datetime.datetime(2011, 12, 5, 10, 0), UnitPrice=0.59, CustomerID=13126.0, Country='United Kingdom'),\n",
       " Row(InvoiceNo='580550', StockCode='21411', Description='GINGHAM HEART  DOORSTOP RED', Quantity=8, InvoiceDate=datetime.datetime(2011, 12, 5, 10, 0), UnitPrice=1.95, CustomerID=13126.0, Country='United Kingdom'),\n",
       " Row(InvoiceNo='580550', StockCode='21705', Description='BAG 500g SWIRLY MARBLES', Quantity=24, InvoiceDate=datetime.datetime(2011, 12, 5, 10, 0), UnitPrice=0.39, CustomerID=13126.0, Country='United Kingdom'),\n",
       " Row(InvoiceNo='580550', StockCode='22057', Description='CERAMIC PLATE STRAWBERRY DESIGN', Quantity=16, InvoiceDate=datetime.datetime(2011, 12, 5, 10, 0), UnitPrice=0.39, CustomerID=13126.0, Country='United Kingdom'),\n",
       " Row(InvoiceNo='580550', StockCode='22059', Description='CERAMIC STRAWBERRY DESIGN MUG', Quantity=24, InvoiceDate=datetime.datetime(2011, 12, 5, 10, 0), UnitPrice=0.39, CustomerID=13126.0, Country='United Kingdom'),\n",
       " Row(InvoiceNo='580550', StockCode='22061', Description='LARGE CAKE STAND  HANGING STRAWBERY', Quantity=8, InvoiceDate=datetime.datetime(2011, 12, 5, 10, 0), UnitPrice=2.95, CustomerID=13126.0, Country='United Kingdom'),\n",
       " Row(InvoiceNo='580550', StockCode='22055', Description='MINI CAKE STAND  HANGING STRAWBERY', Quantity=16, InvoiceDate=datetime.datetime(2011, 12, 5, 10, 0), UnitPrice=0.39, CustomerID=13126.0, Country='United Kingdom'),\n",
       " Row(InvoiceNo='580550', StockCode='22217', Description='T-LIGHT HOLDER HANGING LACE', Quantity=12, InvoiceDate=datetime.datetime(2011, 12, 5, 10, 0), UnitPrice=0.39, CustomerID=13126.0, Country='United Kingdom'),\n",
       " Row(InvoiceNo='580550', StockCode='22464', Description='HANGING METAL HEART LANTERN', Quantity=12, InvoiceDate=datetime.datetime(2011, 12, 5, 10, 0), UnitPrice=0.79, CustomerID=13126.0, Country='United Kingdom'),\n",
       " Row(InvoiceNo='580550', StockCode='22509', Description='SEWING BOX RETROSPOT DESIGN ', Quantity=4, InvoiceDate=datetime.datetime(2011, 12, 5, 10, 0), UnitPrice=3.95, CustomerID=13126.0, Country='United Kingdom'),\n",
       " Row(InvoiceNo='580550', StockCode='23107', Description='WHITE HEARTS WIRE PLANT POT HOLDER', Quantity=8, InvoiceDate=datetime.datetime(2011, 12, 5, 10, 0), UnitPrice=0.79, CustomerID=13126.0, Country='United Kingdom'),\n",
       " Row(InvoiceNo='580550', StockCode='21115', Description='ROSE CARAVAN DOORSTOP', Quantity=8, InvoiceDate=datetime.datetime(2011, 12, 5, 10, 0), UnitPrice=1.95, CustomerID=13126.0, Country='United Kingdom'),\n",
       " Row(InvoiceNo='580550', StockCode='22165', Description='DIAMANTE HEART SHAPED WALL MIRROR, ', Quantity=6, InvoiceDate=datetime.datetime(2011, 12, 5, 10, 0), UnitPrice=3.95, CustomerID=13126.0, Country='United Kingdom'),\n",
       " Row(InvoiceNo='580550', StockCode='22216', Description='T-LIGHT HOLDER WHITE LACE', Quantity=24, InvoiceDate=datetime.datetime(2011, 12, 5, 10, 0), UnitPrice=0.29, CustomerID=13126.0, Country='United Kingdom'),\n",
       " Row(InvoiceNo='580550', StockCode='22465', Description='HANGING METAL STAR LANTERN', Quantity=12, InvoiceDate=datetime.datetime(2011, 12, 5, 10, 0), UnitPrice=0.79, CustomerID=13126.0, Country='United Kingdom'),\n",
       " Row(InvoiceNo='580550', StockCode='22481', Description='BLACK TEA TOWEL CLASSIC DESIGN', Quantity=12, InvoiceDate=datetime.datetime(2011, 12, 5, 10, 0), UnitPrice=0.39, CustomerID=13126.0, Country='United Kingdom'),\n",
       " Row(InvoiceNo='580550', StockCode='22512', Description='DOORSTOP RACING CAR DESIGN', Quantity=8, InvoiceDate=datetime.datetime(2011, 12, 5, 10, 0), UnitPrice=0.79, CustomerID=13126.0, Country='United Kingdom'),\n",
       " Row(InvoiceNo='580550', StockCode='22596', Description='CHRISTMAS STAR WISH LIST CHALKBOARD', Quantity=12, InvoiceDate=datetime.datetime(2011, 12, 5, 10, 0), UnitPrice=0.39, CustomerID=13126.0, Country='United Kingdom'),\n",
       " Row(InvoiceNo='580550', StockCode='22723', Description='SET OF 6 HERB TINS SKETCHBOOK', Quantity=12, InvoiceDate=datetime.datetime(2011, 12, 5, 10, 0), UnitPrice=1.25, CustomerID=13126.0, Country='United Kingdom'),\n",
       " Row(InvoiceNo='580550', StockCode='22742', Description='MAKE YOUR OWN PLAYTIME CARD KIT', Quantity=12, InvoiceDate=datetime.datetime(2011, 12, 5, 10, 0), UnitPrice=0.79, CustomerID=13126.0, Country='United Kingdom'),\n",
       " Row(InvoiceNo='580550', StockCode='22756', Description='LARGE YELLOW BABUSHKA NOTEBOOK ', Quantity=12, InvoiceDate=datetime.datetime(2011, 12, 5, 10, 0), UnitPrice=0.39, CustomerID=13126.0, Country='United Kingdom'),\n",
       " Row(InvoiceNo='580550', StockCode='22757', Description='LARGE RED BABUSHKA NOTEBOOK ', Quantity=12, InvoiceDate=datetime.datetime(2011, 12, 5, 10, 0), UnitPrice=0.39, CustomerID=13126.0, Country='United Kingdom'),\n",
       " Row(InvoiceNo='580550', StockCode='22758', Description='LARGE PURPLE BABUSHKA NOTEBOOK  ', Quantity=12, InvoiceDate=datetime.datetime(2011, 12, 5, 10, 0), UnitPrice=0.39, CustomerID=13126.0, Country='United Kingdom'),\n",
       " Row(InvoiceNo='580550', StockCode='22802', Description='FAUX FUR CHOCOLATE THROW', Quantity=6, InvoiceDate=datetime.datetime(2011, 12, 5, 10, 0), UnitPrice=7.95, CustomerID=13126.0, Country='United Kingdom'),\n",
       " Row(InvoiceNo='580550', StockCode='23415', Description='HOME SWEET HOME HOOK', Quantity=12, InvoiceDate=datetime.datetime(2011, 12, 5, 10, 0), UnitPrice=0.39, CustomerID=13126.0, Country='United Kingdom'),\n",
       " Row(InvoiceNo='580550', StockCode='84827', Description='ASS DES PHONE SPONGE CRAFT STICKER', Quantity=60, InvoiceDate=datetime.datetime(2011, 12, 5, 10, 0), UnitPrice=0.09, CustomerID=13126.0, Country='United Kingdom'),\n",
       " Row(InvoiceNo='580550', StockCode='90087', Description='CRYSTAL SEA HORSE PHONE CHARM', Quantity=24, InvoiceDate=datetime.datetime(2011, 12, 5, 10, 0), UnitPrice=0.19, CustomerID=13126.0, Country='United Kingdom'),\n",
       " Row(InvoiceNo='580552', StockCode='23084', Description='RABBIT NIGHT LIGHT', Quantity=24, InvoiceDate=datetime.datetime(2011, 12, 5, 10, 9), UnitPrice=1.79, CustomerID=15572.0, Country='United Kingdom'),\n",
       " Row(InvoiceNo='580552', StockCode='22171', Description='3 HOOK PHOTO SHELF ANTIQUE WHITE', Quantity=6, InvoiceDate=datetime.datetime(2011, 12, 5, 10, 9), UnitPrice=8.5, CustomerID=15572.0, Country='United Kingdom'),\n",
       " Row(InvoiceNo='580552', StockCode='22493', Description='PAINT YOUR OWN CANVAS SET', Quantity=12, InvoiceDate=datetime.datetime(2011, 12, 5, 10, 9), UnitPrice=1.65, CustomerID=15572.0, Country='United Kingdom'),\n",
       " Row(InvoiceNo='580552', StockCode='23486', Description='ANTIQUE HEART SHELF UNIT', Quantity=1, InvoiceDate=datetime.datetime(2011, 12, 5, 10, 9), UnitPrice=16.65, CustomerID=15572.0, Country='United Kingdom'),\n",
       " Row(InvoiceNo='580552', StockCode='21154', Description='RED RETROSPOT OVEN GLOVE ', Quantity=1, InvoiceDate=datetime.datetime(2011, 12, 5, 10, 9), UnitPrice=1.25, CustomerID=15572.0, Country='United Kingdom'),\n",
       " Row(InvoiceNo='580552', StockCode='23215', Description='JINGLE BELL HEART ANTIQUE SILVER', Quantity=2, InvoiceDate=datetime.datetime(2011, 12, 5, 10, 9), UnitPrice=2.08, CustomerID=15572.0, Country='United Kingdom'),\n",
       " Row(InvoiceNo='580552', StockCode='23103', Description='JINGLE BELL HEART DECORATION', Quantity=10, InvoiceDate=datetime.datetime(2011, 12, 5, 10, 9), UnitPrice=1.65, CustomerID=15572.0, Country='United Kingdom'),\n",
       " Row(InvoiceNo='580552', StockCode='23492', Description='VINTAGE JINGLE BELLS WREATH', Quantity=4, InvoiceDate=datetime.datetime(2011, 12, 5, 10, 9), UnitPrice=8.25, CustomerID=15572.0, Country='United Kingdom'),\n",
       " Row(InvoiceNo='580552', StockCode='21819', Description='GLITTER CHRISTMAS STAR ', Quantity=16, InvoiceDate=datetime.datetime(2011, 12, 5, 10, 9), UnitPrice=0.39, CustomerID=15572.0, Country='United Kingdom'),\n",
       " Row(InvoiceNo='580552', StockCode='22338', Description='STAR DECORATION PAINTED ZINC ', Quantity=18, InvoiceDate=datetime.datetime(2011, 12, 5, 10, 9), UnitPrice=0.19, CustomerID=15572.0, Country='United Kingdom'),\n",
       " Row(InvoiceNo='580553', StockCode='21242', Description='RED RETROSPOT PLATE ', Quantity=16, InvoiceDate=datetime.datetime(2011, 12, 5, 10, 14), UnitPrice=1.69, CustomerID=12646.0, Country='USA'),\n",
       " Row(InvoiceNo='580553', StockCode='21243', Description='PINK POLKADOT PLATE ', Quantity=16, InvoiceDate=datetime.datetime(2011, 12, 5, 10, 14), UnitPrice=1.69, CustomerID=12646.0, Country='USA'),\n",
       " Row(InvoiceNo='580553', StockCode='21245', Description='GREEN POLKADOT PLATE ', Quantity=16, InvoiceDate=datetime.datetime(2011, 12, 5, 10, 14), UnitPrice=1.69, CustomerID=12646.0, Country='USA'),\n",
       " Row(InvoiceNo='580553', StockCode='21238', Description='RED RETROSPOT CUP', Quantity=16, InvoiceDate=datetime.datetime(2011, 12, 5, 10, 14), UnitPrice=0.85, CustomerID=12646.0, Country='USA'),\n",
       " Row(InvoiceNo='580553', StockCode='21239', Description='PINK  POLKADOT CUP', Quantity=16, InvoiceDate=datetime.datetime(2011, 12, 5, 10, 14), UnitPrice=0.85, CustomerID=12646.0, Country='USA'),\n",
       " Row(InvoiceNo='580553', StockCode='84997A', Description='CHILDRENS CUTLERY POLKADOT GREEN ', Quantity=8, InvoiceDate=datetime.datetime(2011, 12, 5, 10, 14), UnitPrice=4.15, CustomerID=12646.0, Country='USA'),\n",
       " Row(InvoiceNo='580553', StockCode='84997C', Description='CHILDRENS CUTLERY POLKADOT BLUE', Quantity=8, InvoiceDate=datetime.datetime(2011, 12, 5, 10, 14), UnitPrice=4.15, CustomerID=12646.0, Country='USA'),\n",
       " Row(InvoiceNo='580553', StockCode='84997B', Description='CHILDRENS CUTLERY RETROSPOT RED ', Quantity=8, InvoiceDate=datetime.datetime(2011, 12, 5, 10, 14), UnitPrice=4.15, CustomerID=12646.0, Country='USA'),\n",
       " Row(InvoiceNo='580553', StockCode='84997D', Description='CHILDRENS CUTLERY POLKADOT PINK', Quantity=8, InvoiceDate=datetime.datetime(2011, 12, 5, 10, 14), UnitPrice=4.15, CustomerID=12646.0, Country='USA'),\n",
       " Row(InvoiceNo='580553', StockCode='23328', Description='SET 6 SCHOOL MILK BOTTLES IN CRATE', Quantity=24, InvoiceDate=datetime.datetime(2011, 12, 5, 10, 14), UnitPrice=3.39, CustomerID=12646.0, Country='USA'),\n",
       " Row(InvoiceNo='580553', StockCode='23366', Description='SET 12 COLOURING PENCILS DOILY', Quantity=72, InvoiceDate=datetime.datetime(2011, 12, 5, 10, 14), UnitPrice=0.65, CustomerID=12646.0, Country='USA'),\n",
       " Row(InvoiceNo='580553', StockCode='23303', Description='SET 4 PICNIC CUTLERY FONDANT', Quantity=12, InvoiceDate=datetime.datetime(2011, 12, 5, 10, 14), UnitPrice=1.95, CustomerID=12646.0, Country='USA'),\n",
       " Row(InvoiceNo='580553', StockCode='23305', Description='SET 4 PICNIC CUTLERY BLUEBERRY', Quantity=12, InvoiceDate=datetime.datetime(2011, 12, 5, 10, 14), UnitPrice=1.95, CustomerID=12646.0, Country='USA'),\n",
       " Row(InvoiceNo='580553', StockCode='23304', Description='SET 4 PICNIC CUTLERY CHERRY ', Quantity=12, InvoiceDate=datetime.datetime(2011, 12, 5, 10, 14), UnitPrice=1.95, CustomerID=12646.0, Country='USA'),\n",
       " Row(InvoiceNo='580553', StockCode='20677', Description='PINK POLKADOT BOWL', Quantity=16, InvoiceDate=datetime.datetime(2011, 12, 5, 10, 14), UnitPrice=1.25, CustomerID=12646.0, Country='USA'),\n",
       " Row(InvoiceNo='580553', StockCode='20674', Description='GREEN POLKADOT BOWL', Quantity=16, InvoiceDate=datetime.datetime(2011, 12, 5, 10, 14), UnitPrice=1.25, CustomerID=12646.0, Country='USA'),\n",
       " Row(InvoiceNo='580553', StockCode='20675', Description='BLUE POLKADOT BOWL', Quantity=16, InvoiceDate=datetime.datetime(2011, 12, 5, 10, 14), UnitPrice=1.25, CustomerID=12646.0, Country='USA'),\n",
       " Row(InvoiceNo='580553', StockCode='20676', Description='RED RETROSPOT BOWL', Quantity=16, InvoiceDate=datetime.datetime(2011, 12, 5, 10, 14), UnitPrice=1.25, CustomerID=12646.0, Country='USA'),\n",
       " Row(InvoiceNo='580553', StockCode='20975', Description='12 PENCILS SMALL TUBE RED RETROSPOT', Quantity=72, InvoiceDate=datetime.datetime(2011, 12, 5, 10, 14), UnitPrice=0.65, CustomerID=12646.0, Country='USA'),\n",
       " Row(InvoiceNo='580553', StockCode='22083', Description='PAPER CHAIN KIT RETROSPOT', Quantity=12, InvoiceDate=datetime.datetime(2011, 12, 5, 10, 14), UnitPrice=2.95, CustomerID=12646.0, Country='USA'),\n",
       " Row(InvoiceNo='580553', StockCode='21240', Description='BLUE POLKADOT CUP', Quantity=16, InvoiceDate=datetime.datetime(2011, 12, 5, 10, 14), UnitPrice=0.85, CustomerID=12646.0, Country='USA'),\n",
       " Row(InvoiceNo='580554', StockCode='22619', Description='SET OF 6 SOLDIER SKITTLES', Quantity=80, InvoiceDate=datetime.datetime(2011, 12, 5, 10, 15), UnitPrice=3.39, CustomerID=17402.0, Country='United Kingdom'),\n",
       " Row(InvoiceNo='580554', StockCode='21462', Description='NURSERY A,B,C PAINTED LETTERS', Quantity=8, InvoiceDate=datetime.datetime(2011, 12, 5, 10, 15), UnitPrice=1.95, CustomerID=17402.0, Country='United Kingdom'),\n",
       " Row(InvoiceNo='580555', StockCode='23314', Description='VINTAGE CHRISTMAS TABLECLOTH', Quantity=4, InvoiceDate=datetime.datetime(2011, 12, 5, 10, 18), UnitPrice=12.5, CustomerID=14911.0, Country='EIRE'),\n",
       " Row(InvoiceNo='580555', StockCode='23382', Description='BOX OF 6 CHRISTMAS CAKE DECORATIONS', Quantity=4, InvoiceDate=datetime.datetime(2011, 12, 5, 10, 18), UnitPrice=3.75, CustomerID=14911.0, Country='EIRE'),\n",
       " Row(InvoiceNo='580555', StockCode='23272', Description='TREE T-LIGHT HOLDER WILLIE WINKIE', Quantity=12, InvoiceDate=datetime.datetime(2011, 12, 5, 10, 18), UnitPrice=1.65, CustomerID=14911.0, Country='EIRE'),\n",
       " Row(InvoiceNo='580555', StockCode='23273', Description='HEART T-LIGHT HOLDER WILLIE WINKIE', Quantity=12, InvoiceDate=datetime.datetime(2011, 12, 5, 10, 18), UnitPrice=1.65, CustomerID=14911.0, Country='EIRE'),\n",
       " Row(InvoiceNo='580555', StockCode='23274', Description='STAR T-LIGHT HOLDER WILLIE WINKIE', Quantity=12, InvoiceDate=datetime.datetime(2011, 12, 5, 10, 18), UnitPrice=1.65, CustomerID=14911.0, Country='EIRE'),\n",
       " Row(InvoiceNo='580555', StockCode='23086', Description='ZINC  STAR T-LIGHT HOLDER ', Quantity=16, InvoiceDate=datetime.datetime(2011, 12, 5, 10, 18), UnitPrice=1.25, CustomerID=14911.0, Country='EIRE'),\n",
       " Row(InvoiceNo='580555', StockCode='21733', Description='RED HANGING HEART T-LIGHT HOLDER', Quantity=32, InvoiceDate=datetime.datetime(2011, 12, 5, 10, 18), UnitPrice=2.55, CustomerID=14911.0, Country='EIRE'),\n",
       " Row(InvoiceNo='580555', StockCode='23321', Description='SMALL WHITE HEART OF WICKER', Quantity=12, InvoiceDate=datetime.datetime(2011, 12, 5, 10, 18), UnitPrice=1.65, CustomerID=14911.0, Country='EIRE'),\n",
       " Row(InvoiceNo='580555', StockCode='23332', Description='IVORY WICKER HEART LARGE', Quantity=12, InvoiceDate=datetime.datetime(2011, 12, 5, 10, 18), UnitPrice=1.65, CustomerID=14911.0, Country='EIRE'),\n",
       " Row(InvoiceNo='580555', StockCode='23099', Description='FRENCH CARRIAGE LANTERN', Quantity=2, InvoiceDate=datetime.datetime(2011, 12, 5, 10, 18), UnitPrice=6.65, CustomerID=14911.0, Country='EIRE'),\n",
       " Row(InvoiceNo='580555', StockCode='22767', Description='TRIPLE PHOTO FRAME CORNICE ', Quantity=2, InvoiceDate=datetime.datetime(2011, 12, 5, 10, 18), UnitPrice=9.95, CustomerID=14911.0, Country='EIRE'),\n",
       " Row(InvoiceNo='580555', StockCode='C2', Description='CARRIAGE', Quantity=1, InvoiceDate=datetime.datetime(2011, 12, 5, 10, 18), UnitPrice=50.0, CustomerID=14911.0, Country='EIRE'),\n",
       " Row(InvoiceNo='580555', StockCode='85123A', Description='WHITE HANGING HEART T-LIGHT HOLDER', Quantity=64, InvoiceDate=datetime.datetime(2011, 12, 5, 10, 18), UnitPrice=2.55, CustomerID=14911.0, Country='EIRE'),\n",
       " Row(InvoiceNo='580556', StockCode='21462', Description='NURSERY A,B,C PAINTED LETTERS', Quantity=24, InvoiceDate=datetime.datetime(2011, 12, 5, 10, 18), UnitPrice=1.95, CustomerID=16513.0, Country='United Kingdom'),\n",
       " Row(InvoiceNo='580556', StockCode='22619', Description='SET OF 6 SOLDIER SKITTLES', Quantity=20, InvoiceDate=datetime.datetime(2011, 12, 5, 10, 18), UnitPrice=3.75, CustomerID=16513.0, Country='United Kingdom'),\n",
       " Row(InvoiceNo='580557', StockCode='22465', Description='HANGING METAL STAR LANTERN', Quantity=12, InvoiceDate=datetime.datetime(2011, 12, 5, 10, 19), UnitPrice=1.65, CustomerID=14911.0, Country='EIRE'),\n",
       " Row(InvoiceNo='580557', StockCode='84970L', Description='SINGLE HEART ZINC T-LIGHT HOLDER', Quantity=12, InvoiceDate=datetime.datetime(2011, 12, 5, 10, 19), UnitPrice=1.25, CustomerID=14911.0, Country='EIRE'),\n",
       " Row(InvoiceNo='580557', StockCode='22766', Description='PHOTO FRAME CORNICE', Quantity=8, InvoiceDate=datetime.datetime(2011, 12, 5, 10, 19), UnitPrice=2.95, CustomerID=14911.0, Country='EIRE'),\n",
       " Row(InvoiceNo='580557', StockCode='22169', Description='FAMILY ALBUM WHITE PICTURE FRAME', Quantity=2, InvoiceDate=datetime.datetime(2011, 12, 5, 10, 19), UnitPrice=8.5, CustomerID=14911.0, Country='EIRE'),\n",
       " Row(InvoiceNo='580558', StockCode='22086', Description=\"PAPER CHAIN KIT 50'S CHRISTMAS \", Quantity=6, InvoiceDate=datetime.datetime(2011, 12, 5, 10, 19), UnitPrice=2.95, CustomerID=14931.0, Country='Channel Islands'),\n",
       " Row(InvoiceNo='580558', StockCode='22910', Description='PAPER CHAIN KIT VINTAGE CHRISTMAS', Quantity=6, InvoiceDate=datetime.datetime(2011, 12, 5, 10, 19), UnitPrice=2.95, CustomerID=14931.0, Country='Channel Islands'),\n",
       " Row(InvoiceNo='580558', StockCode='21621', Description='VINTAGE UNION JACK BUNTING', Quantity=4, InvoiceDate=datetime.datetime(2011, 12, 5, 10, 19), UnitPrice=8.5, CustomerID=14931.0, Country='Channel Islands'),\n",
       " Row(InvoiceNo='580558', StockCode='23503', Description='PLAYING CARDS KEEP CALM & CARRY ON', Quantity=24, InvoiceDate=datetime.datetime(2011, 12, 5, 10, 19), UnitPrice=1.25, CustomerID=14931.0, Country='Channel Islands'),\n",
       " Row(InvoiceNo='580558', StockCode='23355', Description='HOT WATER BOTTLE KEEP CALM', Quantity=20, InvoiceDate=datetime.datetime(2011, 12, 5, 10, 19), UnitPrice=4.95, CustomerID=14931.0, Country='Channel Islands'),\n",
       " Row(InvoiceNo='580559', StockCode='23691', Description='WRAP KEEP CALM BIRTHDAY', Quantity=25, InvoiceDate=datetime.datetime(2011, 12, 5, 10, 24), UnitPrice=0.42, CustomerID=15628.0, Country='United Kingdom'),\n",
       " Row(InvoiceNo='580559', StockCode='23108', Description='SET OF 10 LED DOLLY LIGHTS', Quantity=2, InvoiceDate=datetime.datetime(2011, 12, 5, 10, 24), UnitPrice=6.25, CustomerID=15628.0, Country='United Kingdom'),\n",
       " Row(InvoiceNo='580559', StockCode='82494L', Description='WOODEN FRAME ANTIQUE WHITE ', Quantity=12, InvoiceDate=datetime.datetime(2011, 12, 5, 10, 24), UnitPrice=2.95, CustomerID=15628.0, Country='United Kingdom'),\n",
       " Row(InvoiceNo='580559', StockCode='21889', Description='WOODEN BOX OF DOMINOES', Quantity=12, InvoiceDate=datetime.datetime(2011, 12, 5, 10, 24), UnitPrice=1.25, CustomerID=15628.0, Country='United Kingdom'),\n",
       " Row(InvoiceNo='580559', StockCode='23284', Description='DOORMAT KEEP CALM AND COME IN', Quantity=8, InvoiceDate=datetime.datetime(2011, 12, 5, 10, 24), UnitPrice=8.25, CustomerID=15628.0, Country='United Kingdom'),\n",
       " Row(InvoiceNo='580559', StockCode='22139', Description='RETROSPOT TEA SET CERAMIC 11 PC ', Quantity=3, InvoiceDate=datetime.datetime(2011, 12, 5, 10, 24), UnitPrice=4.95, CustomerID=15628.0, Country='United Kingdom'),\n",
       " Row(InvoiceNo='580559', StockCode='21181', Description='PLEASE ONE PERSON METAL SIGN', Quantity=12, InvoiceDate=datetime.datetime(2011, 12, 5, 10, 24), UnitPrice=2.1, CustomerID=15628.0, Country='United Kingdom'),\n",
       " Row(InvoiceNo='580559', StockCode='23275', Description='SET OF 3 HANGING OWLS OLLIE BEAK', Quantity=12, InvoiceDate=datetime.datetime(2011, 12, 5, 10, 24), UnitPrice=1.25, CustomerID=15628.0, Country='United Kingdom'),\n",
       " Row(InvoiceNo='580559', StockCode='22661', Description='CHARLOTTE BAG DOLLY GIRL DESIGN', Quantity=10, InvoiceDate=datetime.datetime(2011, 12, 5, 10, 24), UnitPrice=0.85, CustomerID=15628.0, Country='United Kingdom'),\n",
       " Row(InvoiceNo='580561', StockCode='22043', Description='dotcom', Quantity=-9, InvoiceDate=datetime.datetime(2011, 12, 5, 10, 25), UnitPrice=0.0, CustomerID=None, Country='United Kingdom'),\n",
       " Row(InvoiceNo='580580', StockCode='21804', Description=None, Quantity=10, InvoiceDate=datetime.datetime(2011, 12, 5, 10, 33), UnitPrice=0.0, CustomerID=None, Country='United Kingdom'),\n",
       " Row(InvoiceNo='580586', StockCode='21804', Description='dotcom', Quantity=4, InvoiceDate=datetime.datetime(2011, 12, 5, 10, 34), UnitPrice=0.0, CustomerID=None, Country='United Kingdom'),\n",
       " Row(InvoiceNo='580588', StockCode='21808', Description=None, Quantity=5, InvoiceDate=datetime.datetime(2011, 12, 5, 10, 35), UnitPrice=0.0, CustomerID=None, Country='United Kingdom'),\n",
       " Row(InvoiceNo='580595', StockCode='23543', Description='WALL ART KEEP CALM ', Quantity=2, InvoiceDate=datetime.datetime(2011, 12, 5, 10, 38), UnitPrice=8.25, CustomerID=14194.0, Country='United Kingdom'),\n",
       " Row(InvoiceNo='580595', StockCode='22113', Description='GREY HEART HOT WATER BOTTLE', Quantity=4, InvoiceDate=datetime.datetime(2011, 12, 5, 10, 38), UnitPrice=4.25, CustomerID=14194.0, Country='United Kingdom'),\n",
       " Row(InvoiceNo='580595', StockCode='23494', Description='VINTAGE DOILY DELUXE SEWING KIT ', Quantity=3, InvoiceDate=datetime.datetime(2011, 12, 5, 10, 38), UnitPrice=5.95, CustomerID=14194.0, Country='United Kingdom'),\n",
       " Row(InvoiceNo='580595', StockCode='23355', Description='HOT WATER BOTTLE KEEP CALM', Quantity=4, InvoiceDate=datetime.datetime(2011, 12, 5, 10, 38), UnitPrice=4.95, CustomerID=14194.0, Country='United Kingdom'),\n",
       " Row(InvoiceNo='580595', StockCode='21914', Description='BLUE HARMONICA IN BOX ', Quantity=36, InvoiceDate=datetime.datetime(2011, 12, 5, 10, 38), UnitPrice=1.25, CustomerID=14194.0, Country='United Kingdom'),\n",
       " Row(InvoiceNo='580595', StockCode='22383', Description='LUNCH BAG SUKI DESIGN ', Quantity=10, InvoiceDate=datetime.datetime(2011, 12, 5, 10, 38), UnitPrice=1.65, CustomerID=14194.0, Country='United Kingdom'),\n",
       " Row(InvoiceNo='580595', StockCode='85099B', Description='JUMBO BAG RED RETROSPOT', Quantity=10, InvoiceDate=datetime.datetime(2011, 12, 5, 10, 38), UnitPrice=2.08, CustomerID=14194.0, Country='United Kingdom'),\n",
       " Row(InvoiceNo='580595', StockCode='21931', Description='JUMBO STORAGE BAG SUKI', Quantity=10, InvoiceDate=datetime.datetime(2011, 12, 5, 10, 38), UnitPrice=2.08, CustomerID=14194.0, Country='United Kingdom'),\n",
       " Row(InvoiceNo='580595', StockCode='17012D', Description='ORIGAMI ROSE INCENSE/CANDLE SET ', Quantity=24, InvoiceDate=datetime.datetime(2011, 12, 5, 10, 38), UnitPrice=0.85, CustomerID=14194.0, Country='United Kingdom'),\n",
       " Row(InvoiceNo='580595', StockCode='23201', Description='JUMBO BAG ALPHABET', Quantity=10, InvoiceDate=datetime.datetime(2011, 12, 5, 10, 38), UnitPrice=2.08, CustomerID=14194.0, Country='United Kingdom'),\n",
       " Row(InvoiceNo='580595', StockCode='21259', Description='VICTORIAN SEWING BOX SMALL ', Quantity=4, InvoiceDate=datetime.datetime(2011, 12, 5, 10, 38), UnitPrice=5.95, CustomerID=14194.0, Country='United Kingdom'),\n",
       " Row(InvoiceNo='580595', StockCode='21181', Description='PLEASE ONE PERSON METAL SIGN', Quantity=12, InvoiceDate=datetime.datetime(2011, 12, 5, 10, 38), UnitPrice=2.1, CustomerID=14194.0, Country='United Kingdom'),\n",
       " Row(InvoiceNo='580595', StockCode='22178', Description='VICTORIAN GLASS HANGING T-LIGHT', Quantity=12, InvoiceDate=datetime.datetime(2011, 12, 5, 10, 38), UnitPrice=1.95, CustomerID=14194.0, Country='United Kingdom'),\n",
       " Row(InvoiceNo='580595', StockCode='22727', Description='ALARM CLOCK BAKELIKE RED ', Quantity=4, InvoiceDate=datetime.datetime(2011, 12, 5, 10, 38), UnitPrice=3.75, CustomerID=14194.0, Country='United Kingdom'),\n",
       " Row(InvoiceNo='580595', StockCode='20713', Description='JUMBO BAG OWLS', Quantity=10, InvoiceDate=datetime.datetime(2011, 12, 5, 10, 38), UnitPrice=2.08, CustomerID=14194.0, Country='United Kingdom'),\n",
       " Row(InvoiceNo='580595', StockCode='23301', Description='GARDENERS KNEELING PAD KEEP CALM ', Quantity=12, InvoiceDate=datetime.datetime(2011, 12, 5, 10, 38), UnitPrice=1.65, CustomerID=14194.0, Country='United Kingdom'),\n",
       " Row(InvoiceNo='580595', StockCode='23203', Description='JUMBO BAG VINTAGE DOILY ', Quantity=10, InvoiceDate=datetime.datetime(2011, 12, 5, 10, 38), UnitPrice=2.08, CustomerID=14194.0, Country='United Kingdom'),\n",
       " Row(InvoiceNo='580595', StockCode='22726', Description='ALARM CLOCK BAKELIKE GREEN', Quantity=8, InvoiceDate=datetime.datetime(2011, 12, 5, 10, 38), UnitPrice=3.75, CustomerID=14194.0, Country='United Kingdom'),\n",
       " Row(InvoiceNo='580595', StockCode='23083', Description='SET 6 PAPER TABLE LANTERN STARS ', Quantity=12, InvoiceDate=datetime.datetime(2011, 12, 5, 10, 38), UnitPrice=3.75, CustomerID=14194.0, Country='United Kingdom'),\n",
       " Row(InvoiceNo='580595', StockCode='23504', Description='PLAYING CARDS JUBILEE UNION JACK', Quantity=12, InvoiceDate=datetime.datetime(2011, 12, 5, 10, 38), UnitPrice=1.25, CustomerID=14194.0, Country='United Kingdom'),\n",
       " Row(InvoiceNo='580595', StockCode='23503', Description='PLAYING CARDS KEEP CALM & CARRY ON', Quantity=12, InvoiceDate=datetime.datetime(2011, 12, 5, 10, 38), UnitPrice=1.25, CustomerID=14194.0, Country='United Kingdom'),\n",
       " Row(InvoiceNo='580595', StockCode='22720', Description='SET OF 3 CAKE TINS PANTRY DESIGN ', Quantity=3, InvoiceDate=datetime.datetime(2011, 12, 5, 10, 38), UnitPrice=4.95, CustomerID=14194.0, Country='United Kingdom'),\n",
       " Row(InvoiceNo='580596', StockCode='84347', Description='ROTATING SILVER ANGELS T-LIGHT HLDR', Quantity=24, InvoiceDate=datetime.datetime(2011, 12, 5, 11, 1), UnitPrice=2.55, CustomerID=15392.0, Country='United Kingdom'),\n",
       " Row(InvoiceNo='580596', StockCode='23311', Description='VINTAGE CHRISTMAS STOCKING ', Quantity=12, InvoiceDate=datetime.datetime(2011, 12, 5, 11, 1), UnitPrice=2.55, CustomerID=15392.0, Country='United Kingdom'),\n",
       " Row(InvoiceNo='580596', StockCode='22909', Description='SET OF 20 VINTAGE CHRISTMAS NAPKINS', Quantity=36, InvoiceDate=datetime.datetime(2011, 12, 5, 11, 1), UnitPrice=0.85, CustomerID=15392.0, Country='United Kingdom'),\n",
       " Row(InvoiceNo='580596', StockCode='23494', Description='VINTAGE DOILY DELUXE SEWING KIT ', Quantity=6, InvoiceDate=datetime.datetime(2011, 12, 5, 11, 1), UnitPrice=5.95, CustomerID=15392.0, Country='United Kingdom'),\n",
       " Row(InvoiceNo='580596', StockCode='22075', Description='6 RIBBONS ELEGANT CHRISTMAS ', Quantity=12, InvoiceDate=datetime.datetime(2011, 12, 5, 11, 1), UnitPrice=1.65, CustomerID=15392.0, Country='United Kingdom'),\n",
       " Row(InvoiceNo='580596', StockCode='22448', Description='PIN CUSHION BABUSHKA RED', Quantity=6, InvoiceDate=datetime.datetime(2011, 12, 5, 11, 1), UnitPrice=3.35, CustomerID=15392.0, Country='United Kingdom'),\n",
       " Row(InvoiceNo='580596', StockCode='85199S', Description='SMALL HANGING IVORY/RED WOOD BIRD', Quantity=24, InvoiceDate=datetime.datetime(2011, 12, 5, 11, 1), UnitPrice=0.42, CustomerID=15392.0, Country='United Kingdom'),\n",
       " Row(InvoiceNo='580596', StockCode='22587', Description='FELTCRAFT HAIRBAND RED AND BLUE', Quantity=12, InvoiceDate=datetime.datetime(2011, 12, 5, 11, 1), UnitPrice=0.85, CustomerID=15392.0, Country='United Kingdom'),\n",
       " Row(InvoiceNo='580596', StockCode='23695', Description='DOILY THANK YOU CARD', Quantity=12, InvoiceDate=datetime.datetime(2011, 12, 5, 11, 1), UnitPrice=0.42, CustomerID=15392.0, Country='United Kingdom'),\n",
       " Row(InvoiceNo='580596', StockCode='22417', Description='PACK OF 60 SPACEBOY CAKE CASES', Quantity=24, InvoiceDate=datetime.datetime(2011, 12, 5, 11, 1), UnitPrice=0.55, CustomerID=15392.0, Country='United Kingdom'),\n",
       " Row(InvoiceNo='580596', StockCode='22898', Description='CHILDRENS APRON APPLES DESIGN', Quantity=8, InvoiceDate=datetime.datetime(2011, 12, 5, 11, 1), UnitPrice=1.95, CustomerID=15392.0, Country='United Kingdom'),\n",
       " Row(InvoiceNo='580596', StockCode='22304', Description='COFFEE MUG BLUE PAISLEY DESIGN', Quantity=6, InvoiceDate=datetime.datetime(2011, 12, 5, 11, 1), UnitPrice=2.55, CustomerID=15392.0, Country='United Kingdom'),\n",
       " Row(InvoiceNo='580596', StockCode='46775D', Description='SUNSET COLOUR CHUNKY KNITTED THROW', Quantity=1, InvoiceDate=datetime.datetime(2011, 12, 5, 11, 1), UnitPrice=16.95, CustomerID=15392.0, Country='United Kingdom'),\n",
       " Row(InvoiceNo='580596', StockCode='85049E', Description='SCANDINAVIAN REDS RIBBONS', Quantity=12, InvoiceDate=datetime.datetime(2011, 12, 5, 11, 1), UnitPrice=1.25, CustomerID=15392.0, Country='United Kingdom'),\n",
       " Row(InvoiceNo='580596', StockCode='23694', Description='PAISLEY PARK CARD', Quantity=12, InvoiceDate=datetime.datetime(2011, 12, 5, 11, 1), UnitPrice=0.42, CustomerID=15392.0, Country='United Kingdom'),\n",
       " Row(InvoiceNo='C580597', StockCode='23302', Description='KNEELING MAT HOUSEWORK  DESIGN', Quantity=-6, InvoiceDate=datetime.datetime(2011, 12, 5, 11, 2), UnitPrice=0.79, CustomerID=16360.0, Country='United Kingdom'),\n",
       " Row(InvoiceNo='C580597', StockCode='22197', Description='POPCORN HOLDER', Quantity=-1, InvoiceDate=datetime.datetime(2011, 12, 5, 11, 2), UnitPrice=0.85, CustomerID=16360.0, Country='United Kingdom'),\n",
       " Row(InvoiceNo='580598', StockCode='22964', Description='3 PIECE SPACEBOY COOKIE CUTTER SET', Quantity=48, InvoiceDate=datetime.datetime(2011, 12, 5, 11, 5), UnitPrice=2.1, CustomerID=17526.0, Country='United Kingdom'),\n",
       " Row(InvoiceNo='580598', StockCode='21122', Description='SET/10 PINK POLKADOT PARTY CANDLES', Quantity=48, InvoiceDate=datetime.datetime(2011, 12, 5, 11, 5), UnitPrice=1.25, CustomerID=17526.0, Country='United Kingdom'),\n",
       " Row(InvoiceNo='580598', StockCode='23458', Description='DOLLY CABINET 3 DRAWERS ', Quantity=2, InvoiceDate=datetime.datetime(2011, 12, 5, 11, 5), UnitPrice=14.95, CustomerID=17526.0, Country='United Kingdom'),\n",
       " Row(InvoiceNo='580598', StockCode='85048', Description='15CM CHRISTMAS GLASS BALL 20 LIGHTS', Quantity=8, InvoiceDate=datetime.datetime(2011, 12, 5, 11, 5), UnitPrice=7.95, CustomerID=17526.0, Country='United Kingdom'),\n",
       " Row(InvoiceNo='580598', StockCode='23085', Description='ANTIQUE SILVER BAUBLE LAMP  ', Quantity=2, InvoiceDate=datetime.datetime(2011, 12, 5, 11, 5), UnitPrice=10.4, CustomerID=17526.0, Country='United Kingdom'),\n",
       " Row(InvoiceNo='580598', StockCode='22046', Description='TEA PARTY  WRAPPING PAPER ', Quantity=25, InvoiceDate=datetime.datetime(2011, 12, 5, 11, 5), UnitPrice=0.42, CustomerID=17526.0, Country='United Kingdom'),\n",
       " Row(InvoiceNo='580598', StockCode='22584', Description='PACK OF 6 PANETTONE GIFT BOXES', Quantity=6, InvoiceDate=datetime.datetime(2011, 12, 5, 11, 5), UnitPrice=2.55, CustomerID=17526.0, Country='United Kingdom'),\n",
       " Row(InvoiceNo='580598', StockCode='22959', Description='WRAP CHRISTMAS VILLAGE', Quantity=25, InvoiceDate=datetime.datetime(2011, 12, 5, 11, 5), UnitPrice=0.42, CustomerID=17526.0, Country='United Kingdom'),\n",
       " Row(InvoiceNo='580598', StockCode='22178', Description='VICTORIAN GLASS HANGING T-LIGHT', Quantity=6, InvoiceDate=datetime.datetime(2011, 12, 5, 11, 5), UnitPrice=1.95, CustomerID=17526.0, Country='United Kingdom'),\n",
       " Row(InvoiceNo='580599', StockCode='23311', Description='VINTAGE CHRISTMAS STOCKING ', Quantity=6, InvoiceDate=datetime.datetime(2011, 12, 5, 11, 11), UnitPrice=2.55, CustomerID=12925.0, Country='United Kingdom'),\n",
       " Row(InvoiceNo='580599', StockCode='23191', Description='BUNDLE OF 3 RETRO NOTE BOOKS', Quantity=12, InvoiceDate=datetime.datetime(2011, 12, 5, 11, 11), UnitPrice=1.65, CustomerID=12925.0, Country='United Kingdom'),\n",
       " Row(InvoiceNo='580599', StockCode='23570', Description='TRADITIONAL PICK UP STICKS GAME ', Quantity=12, InvoiceDate=datetime.datetime(2011, 12, 5, 11, 11), UnitPrice=1.25, CustomerID=12925.0, Country='United Kingdom'),\n",
       " Row(InvoiceNo='580599', StockCode='23497', Description='CLASSIC CHROME BICYCLE BELL ', Quantity=12, InvoiceDate=datetime.datetime(2011, 12, 5, 11, 11), UnitPrice=1.45, CustomerID=12925.0, Country='United Kingdom'),\n",
       " Row(InvoiceNo='580599', StockCode='23552', Description='BICYCLE PUNCTURE REPAIR KIT ', Quantity=6, InvoiceDate=datetime.datetime(2011, 12, 5, 11, 11), UnitPrice=2.08, CustomerID=12925.0, Country='United Kingdom'),\n",
       " Row(InvoiceNo='580599', StockCode='23084', Description='RABBIT NIGHT LIGHT', Quantity=6, InvoiceDate=datetime.datetime(2011, 12, 5, 11, 11), UnitPrice=2.08, CustomerID=12925.0, Country='United Kingdom'),\n",
       " Row(InvoiceNo='580599', StockCode='21731', Description='RED TOADSTOOL LED NIGHT LIGHT', Quantity=12, InvoiceDate=datetime.datetime(2011, 12, 5, 11, 11), UnitPrice=1.65, CustomerID=12925.0, Country='United Kingdom'),\n",
       " Row(InvoiceNo='580599', StockCode='84077', Description='WORLD WAR 2 GLIDERS ASSTD DESIGNS', Quantity=48, InvoiceDate=datetime.datetime(2011, 12, 5, 11, 11), UnitPrice=0.29, CustomerID=12925.0, Country='United Kingdom'),\n",
       " Row(InvoiceNo='580599', StockCode='22906', Description='12 MESSAGE CARDS WITH ENVELOPES', Quantity=12, InvoiceDate=datetime.datetime(2011, 12, 5, 11, 11), UnitPrice=1.65, CustomerID=12925.0, Country='United Kingdom'),\n",
       " Row(InvoiceNo='580599', StockCode='22563', Description='HAPPY STENCIL CRAFT', Quantity=12, InvoiceDate=datetime.datetime(2011, 12, 5, 11, 11), UnitPrice=1.25, CustomerID=12925.0, Country='United Kingdom'),\n",
       " Row(InvoiceNo='580599', StockCode='22562', Description='MONSTERS STENCIL CRAFT', Quantity=12, InvoiceDate=datetime.datetime(2011, 12, 5, 11, 11), UnitPrice=1.25, CustomerID=12925.0, Country='United Kingdom'),\n",
       " Row(InvoiceNo='580599', StockCode='23192', Description='BUNDLE OF 3 ALPHABET EXERCISE BOOKS', Quantity=12, InvoiceDate=datetime.datetime(2011, 12, 5, 11, 11), UnitPrice=1.65, CustomerID=12925.0, Country='United Kingdom'),\n",
       " Row(InvoiceNo='580599', StockCode='22983', Description='CARD BILLBOARD FONT', Quantity=12, InvoiceDate=datetime.datetime(2011, 12, 5, 11, 11), UnitPrice=0.42, CustomerID=12925.0, Country='United Kingdom'),\n",
       " Row(InvoiceNo='580599', StockCode='21509', Description='COWBOYS AND INDIANS BIRTHDAY CARD ', Quantity=12, InvoiceDate=datetime.datetime(2011, 12, 5, 11, 11), UnitPrice=0.42, CustomerID=12925.0, Country='United Kingdom'),\n",
       " Row(InvoiceNo='580599', StockCode='21508', Description='VINTAGE KID DOLLY CARD ', Quantity=12, InvoiceDate=datetime.datetime(2011, 12, 5, 11, 11), UnitPrice=0.42, CustomerID=12925.0, Country='United Kingdom'),\n",
       " Row(InvoiceNo='580599', StockCode='21507', Description='ELEPHANT BIRTHDAY CARD ', Quantity=12, InvoiceDate=datetime.datetime(2011, 12, 5, 11, 11), UnitPrice=0.42, CustomerID=12925.0, Country='United Kingdom'),\n",
       " Row(InvoiceNo='580599', StockCode='23320', Description=\"GIANT 50'S CHRISTMAS CRACKER\", Quantity=24, InvoiceDate=datetime.datetime(2011, 12, 5, 11, 11), UnitPrice=1.25, CustomerID=12925.0, Country='United Kingdom'),\n",
       " Row(InvoiceNo='580599', StockCode='23352', Description=\"ROLL WRAP 50'S RED CHRISTMAS \", Quantity=12, InvoiceDate=datetime.datetime(2011, 12, 5, 11, 11), UnitPrice=1.25, CustomerID=12925.0, Country='United Kingdom'),\n",
       " Row(InvoiceNo='580599', StockCode='21791', Description='VINTAGE HEADS AND TAILS CARD GAME ', Quantity=12, InvoiceDate=datetime.datetime(2011, 12, 5, 11, 11), UnitPrice=1.25, CustomerID=12925.0, Country='United Kingdom'),\n",
       " Row(InvoiceNo='580599', StockCode='21891', Description='TRADITIONAL WOODEN SKIPPING ROPE', Quantity=12, InvoiceDate=datetime.datetime(2011, 12, 5, 11, 11), UnitPrice=1.45, CustomerID=12925.0, Country='United Kingdom'),\n",
       " Row(InvoiceNo='580599', StockCode='22620', Description='4 TRADITIONAL SPINNING TOPS', Quantity=12, InvoiceDate=datetime.datetime(2011, 12, 5, 11, 11), UnitPrice=1.45, CustomerID=12925.0, Country='United Kingdom'),\n",
       " Row(InvoiceNo='580599', StockCode='23444', Description='Next Day Carriage', Quantity=1, InvoiceDate=datetime.datetime(2011, 12, 5, 11, 11), UnitPrice=15.0, CustomerID=12925.0, Country='United Kingdom'),\n",
       " Row(InvoiceNo='580600', StockCode='22086', Description=\"PAPER CHAIN KIT 50'S CHRISTMAS \", Quantity=3, InvoiceDate=datetime.datetime(2011, 12, 5, 11, 13), UnitPrice=2.95, CustomerID=12841.0, Country='United Kingdom'),\n",
       " Row(InvoiceNo='580600', StockCode='22910', Description='PAPER CHAIN KIT VINTAGE CHRISTMAS', Quantity=3, InvoiceDate=datetime.datetime(2011, 12, 5, 11, 13), UnitPrice=2.95, CustomerID=12841.0, Country='United Kingdom'),\n",
       " Row(InvoiceNo='580600', StockCode='22153', Description='ANGEL DECORATION STARS ON DRESS', Quantity=4, InvoiceDate=datetime.datetime(2011, 12, 5, 11, 13), UnitPrice=0.42, CustomerID=12841.0, Country='United Kingdom'),\n",
       " Row(InvoiceNo='580600', StockCode='22154', Description='ANGEL DECORATION 3 BUTTONS ', Quantity=4, InvoiceDate=datetime.datetime(2011, 12, 5, 11, 13), UnitPrice=0.42, CustomerID=12841.0, Country='United Kingdom'),\n",
       " Row(InvoiceNo='580600', StockCode='22155', Description='STAR DECORATION RUSTIC', Quantity=4, InvoiceDate=datetime.datetime(2011, 12, 5, 11, 13), UnitPrice=0.42, CustomerID=12841.0, Country='United Kingdom'),\n",
       " Row(InvoiceNo='580600', StockCode='23264', Description='SET OF 3 WOODEN SLEIGH DECORATIONS', Quantity=1, InvoiceDate=datetime.datetime(2011, 12, 5, 11, 13), UnitPrice=1.25, CustomerID=12841.0, Country='United Kingdom'),\n",
       " Row(InvoiceNo='580600', StockCode='23263', Description='SET OF 3 WOODEN HEART DECORATIONS', Quantity=4, InvoiceDate=datetime.datetime(2011, 12, 5, 11, 13), UnitPrice=1.25, CustomerID=12841.0, Country='United Kingdom'),\n",
       " Row(InvoiceNo='580600', StockCode='23265', Description='SET OF 3 WOODEN TREE DECORATIONS', Quantity=3, InvoiceDate=datetime.datetime(2011, 12, 5, 11, 13), UnitPrice=1.25, CustomerID=12841.0, Country='United Kingdom'),\n",
       " Row(InvoiceNo='580600', StockCode='23266', Description='SET OF 3 WOODEN STOCKING DECORATION', Quantity=4, InvoiceDate=datetime.datetime(2011, 12, 5, 11, 13), UnitPrice=1.25, CustomerID=12841.0, Country='United Kingdom'),\n",
       " Row(InvoiceNo='580600', StockCode='23264', Description='SET OF 3 WOODEN SLEIGH DECORATIONS', Quantity=3, InvoiceDate=datetime.datetime(2011, 12, 5, 11, 13), UnitPrice=1.25, CustomerID=12841.0, Country='United Kingdom'),\n",
       " Row(InvoiceNo='580600', StockCode='21679', Description='SKULLS  STICKERS', Quantity=6, InvoiceDate=datetime.datetime(2011, 12, 5, 11, 13), UnitPrice=0.85, CustomerID=12841.0, Country='United Kingdom'),\n",
       " Row(InvoiceNo='580600', StockCode='23354', Description=\"6 GIFT TAGS 50'S CHRISTMAS \", Quantity=4, InvoiceDate=datetime.datetime(2011, 12, 5, 11, 13), UnitPrice=0.83, CustomerID=12841.0, Country='United Kingdom'),\n",
       " Row(InvoiceNo='580600', StockCode='22042', Description='CHRISTMAS CARD SINGING ANGEL', Quantity=12, InvoiceDate=datetime.datetime(2011, 12, 5, 11, 13), UnitPrice=0.42, CustomerID=12841.0, Country='United Kingdom'),\n",
       " Row(InvoiceNo='580600', StockCode='22593', Description='CHRISTMAS GINGHAM STAR', Quantity=36, InvoiceDate=datetime.datetime(2011, 12, 5, 11, 13), UnitPrice=0.85, CustomerID=12841.0, Country='United Kingdom'),\n",
       " Row(InvoiceNo='580600', StockCode='22075', Description='6 RIBBONS ELEGANT CHRISTMAS ', Quantity=4, InvoiceDate=datetime.datetime(2011, 12, 5, 11, 13), UnitPrice=0.39, CustomerID=12841.0, Country='United Kingdom'),\n",
       " Row(InvoiceNo='580600', StockCode='22074', Description='6 RIBBONS SHIMMERING PINKS ', Quantity=2, InvoiceDate=datetime.datetime(2011, 12, 5, 11, 13), UnitPrice=0.39, CustomerID=12841.0, Country='United Kingdom'),\n",
       " Row(InvoiceNo='580600', StockCode='85049C', Description='ROMANTIC PINKS RIBBONS ', Quantity=2, InvoiceDate=datetime.datetime(2011, 12, 5, 11, 13), UnitPrice=1.25, CustomerID=12841.0, Country='United Kingdom'),\n",
       " Row(InvoiceNo='580600', StockCode='23079', Description='TOADSTOOL BEDSIDE LIGHT ', Quantity=1, InvoiceDate=datetime.datetime(2011, 12, 5, 11, 13), UnitPrice=8.95, CustomerID=12841.0, Country='United Kingdom'),\n",
       " Row(InvoiceNo='580600', StockCode='23352', Description=\"ROLL WRAP 50'S RED CHRISTMAS \", Quantity=1, InvoiceDate=datetime.datetime(2011, 12, 5, 11, 13), UnitPrice=1.25, CustomerID=12841.0, Country='United Kingdom'),\n",
       " Row(InvoiceNo='580600', StockCode='23349', Description='ROLL WRAP VINTAGE CHRISTMAS', Quantity=1, InvoiceDate=datetime.datetime(2011, 12, 5, 11, 13), UnitPrice=1.25, CustomerID=12841.0, Country='United Kingdom'),\n",
       " Row(InvoiceNo='580600', StockCode='23351', Description=\"ROLL WRAP 50'S CHRISTMAS\", Quantity=1, InvoiceDate=datetime.datetime(2011, 12, 5, 11, 13), UnitPrice=1.25, CustomerID=12841.0, Country='United Kingdom'),\n",
       " Row(InvoiceNo='580600', StockCode='22061', Description='LARGE CAKE STAND  HANGING STRAWBERY', Quantity=2, InvoiceDate=datetime.datetime(2011, 12, 5, 11, 13), UnitPrice=2.95, CustomerID=12841.0, Country='United Kingdom'),\n",
       " Row(InvoiceNo='580600', StockCode='23275', Description='SET OF 3 HANGING OWLS OLLIE BEAK', Quantity=24, InvoiceDate=datetime.datetime(2011, 12, 5, 11, 13), UnitPrice=1.25, CustomerID=12841.0, Country='United Kingdom'),\n",
       " Row(InvoiceNo='580600', StockCode='22644', Description='CERAMIC CHERRY CAKE MONEY BANK', Quantity=2, InvoiceDate=datetime.datetime(2011, 12, 5, 11, 13), UnitPrice=0.39, CustomerID=12841.0, Country='United Kingdom'),\n",
       " Row(InvoiceNo='580600', StockCode='22645', Description='CERAMIC HEART FAIRY CAKE MONEY BANK', Quantity=2, InvoiceDate=datetime.datetime(2011, 12, 5, 11, 13), UnitPrice=0.39, CustomerID=12841.0, Country='United Kingdom'),\n",
       " Row(InvoiceNo='580600', StockCode='22057', Description='CERAMIC PLATE STRAWBERRY DESIGN', Quantity=4, InvoiceDate=datetime.datetime(2011, 12, 5, 11, 13), UnitPrice=0.39, CustomerID=12841.0, Country='United Kingdom'),\n",
       " Row(InvoiceNo='580600', StockCode='22055', Description='MINI CAKE STAND  HANGING STRAWBERY', Quantity=6, InvoiceDate=datetime.datetime(2011, 12, 5, 11, 13), UnitPrice=0.39, CustomerID=12841.0, Country='United Kingdom'),\n",
       " Row(InvoiceNo='580600', StockCode='22059', Description='CERAMIC STRAWBERRY DESIGN MUG', Quantity=4, InvoiceDate=datetime.datetime(2011, 12, 5, 11, 13), UnitPrice=0.39, CustomerID=12841.0, Country='United Kingdom'),\n",
       " Row(InvoiceNo='580601', StockCode='23320', Description=\"GIANT 50'S CHRISTMAS CRACKER\", Quantity=4, InvoiceDate=datetime.datetime(2011, 12, 5, 11, 13), UnitPrice=1.25, CustomerID=12841.0, Country='United Kingdom'),\n",
       " Row(InvoiceNo='580602', StockCode='85061W', Description='WHITE JEWELLED HEART DECORATION', Quantity=24, InvoiceDate=datetime.datetime(2011, 12, 5, 11, 29), UnitPrice=0.85, CustomerID=16149.0, Country='United Kingdom'),\n",
       " Row(InvoiceNo='580602', StockCode='22576', Description='SWALLOW WOODEN CHRISTMAS DECORATION', Quantity=12, InvoiceDate=datetime.datetime(2011, 12, 5, 11, 29), UnitPrice=0.85, CustomerID=16149.0, Country='United Kingdom'),\n",
       " Row(InvoiceNo='580602', StockCode='85199S', Description='SMALL HANGING IVORY/RED WOOD BIRD', Quantity=24, InvoiceDate=datetime.datetime(2011, 12, 5, 11, 29), UnitPrice=0.42, CustomerID=16149.0, Country='United Kingdom'),\n",
       " Row(InvoiceNo='580602', StockCode='23269', Description='SET OF 2 CERAMIC CHRISTMAS TREES', Quantity=12, InvoiceDate=datetime.datetime(2011, 12, 5, 11, 29), UnitPrice=1.45, CustomerID=16149.0, Country='United Kingdom'),\n",
       " Row(InvoiceNo='580602', StockCode='22158', Description='3 HEARTS HANGING DECORATION RUSTIC', Quantity=8, InvoiceDate=datetime.datetime(2011, 12, 5, 11, 29), UnitPrice=2.95, CustomerID=16149.0, Country='United Kingdom'),\n",
       " Row(InvoiceNo='580602', StockCode='22154', Description='ANGEL DECORATION 3 BUTTONS ', Quantity=48, InvoiceDate=datetime.datetime(2011, 12, 5, 11, 29), UnitPrice=0.42, CustomerID=16149.0, Country='United Kingdom'),\n",
       " Row(InvoiceNo='580602', StockCode='23275', Description='SET OF 3 HANGING OWLS OLLIE BEAK', Quantity=12, InvoiceDate=datetime.datetime(2011, 12, 5, 11, 29), UnitPrice=1.25, CustomerID=16149.0, Country='United Kingdom'),\n",
       " Row(InvoiceNo='580603', StockCode='22486', Description='PLASMATRONIC LAMP', Quantity=12, InvoiceDate=datetime.datetime(2011, 12, 5, 11, 31), UnitPrice=3.95, CustomerID=16642.0, Country='United Kingdom'),\n",
       " Row(InvoiceNo='580603', StockCode='16258A', Description='SWIRLY CIRCULAR RUBBERS IN BAG', Quantity=36, InvoiceDate=datetime.datetime(2011, 12, 5, 11, 31), UnitPrice=0.19, CustomerID=16642.0, Country='United Kingdom'),\n",
       " Row(InvoiceNo='580603', StockCode='22299', Description='PIG KEYRING WITH LIGHT & SOUND ', Quantity=48, InvoiceDate=datetime.datetime(2011, 12, 5, 11, 31), UnitPrice=0.39, CustomerID=16642.0, Country='United Kingdom'),\n",
       " Row(InvoiceNo='580603', StockCode='22414', Description='DOORMAT NEIGHBOURHOOD WITCH ', Quantity=10, InvoiceDate=datetime.datetime(2011, 12, 5, 11, 31), UnitPrice=3.95, CustomerID=16642.0, Country='United Kingdom'),\n",
       " Row(InvoiceNo='580603', StockCode='22438', Description='BALLOON ART MAKE YOUR OWN FLOWERS', Quantity=50, InvoiceDate=datetime.datetime(2011, 12, 5, 11, 31), UnitPrice=0.39, CustomerID=16642.0, Country='United Kingdom'),\n",
       " Row(InvoiceNo='580603', StockCode='22442', Description='GROW YOUR OWN FLOWERS SET OF 3', Quantity=12, InvoiceDate=datetime.datetime(2011, 12, 5, 11, 31), UnitPrice=1.95, CustomerID=16642.0, Country='United Kingdom'),\n",
       " Row(InvoiceNo='580603', StockCode='22701', Description='PINK DOG BOWL', Quantity=12, InvoiceDate=datetime.datetime(2011, 12, 5, 11, 31), UnitPrice=0.79, CustomerID=16642.0, Country='United Kingdom'),\n",
       " Row(InvoiceNo='580603', StockCode='22703', Description='PINK CAT BOWL', Quantity=12, InvoiceDate=datetime.datetime(2011, 12, 5, 11, 31), UnitPrice=0.59, CustomerID=16642.0, Country='United Kingdom'),\n",
       " Row(InvoiceNo='580603', StockCode='22802', Description='FAUX FUR CHOCOLATE THROW', Quantity=6, InvoiceDate=datetime.datetime(2011, 12, 5, 11, 31), UnitPrice=7.95, CustomerID=16642.0, Country='United Kingdom'),\n",
       " Row(InvoiceNo='580603', StockCode='23489', Description='VINTAGE BELLS GARLAND', Quantity=6, InvoiceDate=datetime.datetime(2011, 12, 5, 11, 31), UnitPrice=2.89, CustomerID=16642.0, Country='United Kingdom'),\n",
       " Row(InvoiceNo='580603', StockCode='21367', Description='MIRRORED WALL ART GENTS', Quantity=12, InvoiceDate=datetime.datetime(2011, 12, 5, 11, 31), UnitPrice=0.75, CustomerID=16642.0, Country='United Kingdom'),\n",
       " Row(InvoiceNo='580603', StockCode='21368', Description='MIRRORED WALL ART LADIES', Quantity=12, InvoiceDate=datetime.datetime(2011, 12, 5, 11, 31), UnitPrice=0.75, CustomerID=16642.0, Country='United Kingdom'),\n",
       " Row(InvoiceNo='580603', StockCode='21619', Description='4 VANILLA BOTANICAL CANDLES', Quantity=12, InvoiceDate=datetime.datetime(2011, 12, 5, 11, 31), UnitPrice=1.25, CustomerID=16642.0, Country='United Kingdom'),\n",
       " Row(InvoiceNo='580603', StockCode='21620', Description='SET OF 4 ROSE BOTANICAL CANDLES', Quantity=12, InvoiceDate=datetime.datetime(2011, 12, 5, 11, 31), UnitPrice=1.25, CustomerID=16642.0, Country='United Kingdom'),\n",
       " Row(InvoiceNo='580603', StockCode='21181', Description='PLEASE ONE PERSON METAL SIGN', Quantity=12, InvoiceDate=datetime.datetime(2011, 12, 5, 11, 31), UnitPrice=2.1, CustomerID=16642.0, Country='United Kingdom'),\n",
       " Row(InvoiceNo='580603', StockCode='22185', Description='SLATE TILE NATURAL HANGING', Quantity=36, InvoiceDate=datetime.datetime(2011, 12, 5, 11, 31), UnitPrice=0.79, CustomerID=16642.0, Country='United Kingdom'),\n",
       " Row(InvoiceNo='580603', StockCode='21371', Description='MIRRORED WALL ART POPPIES', Quantity=24, InvoiceDate=datetime.datetime(2011, 12, 5, 11, 31), UnitPrice=0.75, CustomerID=16642.0, Country='United Kingdom'),\n",
       " Row(InvoiceNo='580603', StockCode='21365', Description='MIRRORED WALL ART STARS', Quantity=12, InvoiceDate=datetime.datetime(2011, 12, 5, 11, 31), UnitPrice=0.75, CustomerID=16642.0, Country='United Kingdom'),\n",
       " Row(InvoiceNo='580603', StockCode='21369', Description='MIRRORED WALL ART SPLODGES', Quantity=12, InvoiceDate=datetime.datetime(2011, 12, 5, 11, 31), UnitPrice=1.25, CustomerID=16642.0, Country='United Kingdom'),\n",
       " Row(InvoiceNo='C580604', StockCode='AMAZONFEE', Description='AMAZON FEE', Quantity=-1, InvoiceDate=datetime.datetime(2011, 12, 5, 11, 35), UnitPrice=11586.5, CustomerID=None, Country='United Kingdom'),\n",
       " Row(InvoiceNo='C580605', StockCode='AMAZONFEE', Description='AMAZON FEE', Quantity=-1, InvoiceDate=datetime.datetime(2011, 12, 5, 11, 36), UnitPrice=17836.46, CustomerID=None, Country='United Kingdom'),\n",
       " Row(InvoiceNo='580606', StockCode='22809', Description='SET OF 6 T-LIGHTS SANTA', Quantity=12, InvoiceDate=datetime.datetime(2011, 12, 5, 11, 38), UnitPrice=2.95, CustomerID=15290.0, Country='United Kingdom'),\n",
       " Row(InvoiceNo='580606', StockCode='10135', Description='COLOURING PENCILS BROWN TUBE', Quantity=20, InvoiceDate=datetime.datetime(2011, 12, 5, 11, 38), UnitPrice=1.25, CustomerID=15290.0, Country='United Kingdom'),\n",
       " Row(InvoiceNo='580607', StockCode='22909', Description='SET OF 20 VINTAGE CHRISTMAS NAPKINS', Quantity=36, InvoiceDate=datetime.datetime(2011, 12, 5, 11, 39), UnitPrice=0.85, CustomerID=15290.0, Country='United Kingdom'),\n",
       " Row(InvoiceNo='580607', StockCode='21704', Description='BAG 250g SWIRLY MARBLES', Quantity=12, InvoiceDate=datetime.datetime(2011, 12, 5, 11, 39), UnitPrice=0.85, CustomerID=15290.0, Country='United Kingdom'),\n",
       " Row(InvoiceNo='580607', StockCode='21977', Description='PACK OF 60 PINK PAISLEY CAKE CASES', Quantity=48, InvoiceDate=datetime.datetime(2011, 12, 5, 11, 39), UnitPrice=0.55, CustomerID=15290.0, Country='United Kingdom'),\n",
       " Row(InvoiceNo='580607', StockCode='22457', Description='NATURAL SLATE HEART CHALKBOARD ', Quantity=6, InvoiceDate=datetime.datetime(2011, 12, 5, 11, 39), UnitPrice=2.95, CustomerID=15290.0, Country='United Kingdom'),\n",
       " Row(InvoiceNo='580607', StockCode='22150', Description='3 STRIPEY MICE FELTCRAFT', Quantity=18, InvoiceDate=datetime.datetime(2011, 12, 5, 11, 39), UnitPrice=1.95, CustomerID=15290.0, Country='United Kingdom'),\n",
       " Row(InvoiceNo='580607', StockCode='22144', Description='CHRISTMAS CRAFT LITTLE FRIENDS', Quantity=18, InvoiceDate=datetime.datetime(2011, 12, 5, 11, 39), UnitPrice=2.1, CustomerID=15290.0, Country='United Kingdom'),\n",
       " Row(InvoiceNo='580607', StockCode='23318', Description='BOX OF 6 MINI VINTAGE CRACKERS', Quantity=18, InvoiceDate=datetime.datetime(2011, 12, 5, 11, 39), UnitPrice=2.49, CustomerID=15290.0, Country='United Kingdom'),\n",
       " Row(InvoiceNo='580608', StockCode='22138', Description='BAKING SET 9 PIECE RETROSPOT ', Quantity=3, InvoiceDate=datetime.datetime(2011, 12, 5, 11, 39), UnitPrice=4.95, CustomerID=16811.0, Country='United Kingdom'),\n",
       " Row(InvoiceNo='580608', StockCode='22631', Description='CIRCUS PARADE LUNCH BOX ', Quantity=12, InvoiceDate=datetime.datetime(2011, 12, 5, 11, 39), UnitPrice=1.95, CustomerID=16811.0, Country='United Kingdom'),\n",
       " Row(InvoiceNo='580608', StockCode='21481', Description='FAWN BLUE HOT WATER BOTTLE', Quantity=4, InvoiceDate=datetime.datetime(2011, 12, 5, 11, 39), UnitPrice=3.75, CustomerID=16811.0, Country='United Kingdom'),\n",
       " Row(InvoiceNo='580608', StockCode='20726', Description='LUNCH BAG WOODLAND', Quantity=10, InvoiceDate=datetime.datetime(2011, 12, 5, 11, 39), UnitPrice=1.65, CustomerID=16811.0, Country='United Kingdom'),\n",
       " Row(InvoiceNo='580608', StockCode='22326', Description='ROUND SNACK BOXES SET OF4 WOODLAND ', Quantity=12, InvoiceDate=datetime.datetime(2011, 12, 5, 11, 39), UnitPrice=2.95, CustomerID=16811.0, Country='United Kingdom'),\n",
       " Row(InvoiceNo='580608', StockCode='22629', Description='SPACEBOY LUNCH BOX ', Quantity=12, InvoiceDate=datetime.datetime(2011, 12, 5, 11, 39), UnitPrice=1.95, CustomerID=16811.0, Country='United Kingdom'),\n",
       " Row(InvoiceNo='580608', StockCode='22630', Description='DOLLY GIRL LUNCH BOX', Quantity=12, InvoiceDate=datetime.datetime(2011, 12, 5, 11, 39), UnitPrice=1.95, CustomerID=16811.0, Country='United Kingdom'),\n",
       " Row(InvoiceNo='580608', StockCode='23313', Description='VINTAGE CHRISTMAS BUNTING', Quantity=5, InvoiceDate=datetime.datetime(2011, 12, 5, 11, 39), UnitPrice=4.95, CustomerID=16811.0, Country='United Kingdom'),\n",
       " Row(InvoiceNo='580608', StockCode='23311', Description='VINTAGE CHRISTMAS STOCKING ', Quantity=12, InvoiceDate=datetime.datetime(2011, 12, 5, 11, 39), UnitPrice=2.55, CustomerID=16811.0, Country='United Kingdom'),\n",
       " Row(InvoiceNo='580608', StockCode='23314', Description='VINTAGE CHRISTMAS TABLECLOTH', Quantity=2, InvoiceDate=datetime.datetime(2011, 12, 5, 11, 39), UnitPrice=12.5, CustomerID=16811.0, Country='United Kingdom'),\n",
       " Row(InvoiceNo='580609', StockCode='22927', Description='Amazon', Quantity=1, InvoiceDate=datetime.datetime(2011, 12, 5, 11, 41), UnitPrice=0.0, CustomerID=None, Country='United Kingdom'),\n",
       " Row(InvoiceNo='580610', StockCode='15056p', Description='EDWARDIAN PARASOL PINK', Quantity=1, InvoiceDate=datetime.datetime(2011, 12, 5, 11, 48), UnitPrice=12.46, CustomerID=None, Country='United Kingdom'),\n",
       " Row(InvoiceNo='580610', StockCode='20679', Description='EDWARDIAN PARASOL RED', Quantity=1, InvoiceDate=datetime.datetime(2011, 12, 5, 11, 48), UnitPrice=12.46, CustomerID=None, Country='United Kingdom'),\n",
       " Row(InvoiceNo='580610', StockCode='20712', Description='JUMBO BAG WOODLAND ANIMALS', Quantity=4, InvoiceDate=datetime.datetime(2011, 12, 5, 11, 48), UnitPrice=4.13, CustomerID=None, Country='United Kingdom'),\n",
       " Row(InvoiceNo='580610', StockCode='20713', Description='JUMBO BAG OWLS', Quantity=5, InvoiceDate=datetime.datetime(2011, 12, 5, 11, 48), UnitPrice=4.13, CustomerID=None, Country='United Kingdom'),\n",
       " Row(InvoiceNo='580610', StockCode='20717', Description='STRAWBERRY SHOPPER BAG', Quantity=1, InvoiceDate=datetime.datetime(2011, 12, 5, 11, 48), UnitPrice=2.46, CustomerID=None, Country='United Kingdom'),\n",
       " Row(InvoiceNo='580610', StockCode='20718', Description='RED RETROSPOT SHOPPER BAG', Quantity=7, InvoiceDate=datetime.datetime(2011, 12, 5, 11, 48), UnitPrice=3.29, CustomerID=None, Country='United Kingdom'),\n",
       " Row(InvoiceNo='580610', StockCode='20726', Description='LUNCH BAG WOODLAND', Quantity=4, InvoiceDate=datetime.datetime(2011, 12, 5, 11, 48), UnitPrice=4.13, CustomerID=None, Country='United Kingdom'),\n",
       " Row(InvoiceNo='580610', StockCode='20728', Description='LUNCH BAG CARS BLUE', Quantity=1, InvoiceDate=datetime.datetime(2011, 12, 5, 11, 48), UnitPrice=4.13, CustomerID=None, Country='United Kingdom'),\n",
       " Row(InvoiceNo='580610', StockCode='20750', Description='RED RETROSPOT MINI CASES', Quantity=1, InvoiceDate=datetime.datetime(2011, 12, 5, 11, 48), UnitPrice=16.63, CustomerID=None, Country='United Kingdom'),\n",
       " Row(InvoiceNo='580610', StockCode='20963', Description='APPLE BATH SPONGE', Quantity=1, InvoiceDate=datetime.datetime(2011, 12, 5, 11, 48), UnitPrice=2.46, CustomerID=None, Country='United Kingdom'),\n",
       " Row(InvoiceNo='580610', StockCode='20969', Description='RED FLORAL FELTCRAFT SHOULDER BAG', Quantity=1, InvoiceDate=datetime.datetime(2011, 12, 5, 11, 48), UnitPrice=7.46, CustomerID=None, Country='United Kingdom'),\n",
       " Row(InvoiceNo='580610', StockCode='20985', Description='HEART CALCULATOR', Quantity=1, InvoiceDate=datetime.datetime(2011, 12, 5, 11, 48), UnitPrice=2.46, CustomerID=None, Country='United Kingdom'),\n",
       " Row(InvoiceNo='580610', StockCode='20996', Description='JAZZ HEARTS ADDRESS BOOK', Quantity=1, InvoiceDate=datetime.datetime(2011, 12, 5, 11, 48), UnitPrice=0.83, CustomerID=None, Country='United Kingdom'),\n",
       " Row(InvoiceNo='580610', StockCode='21137', Description='BLACK RECORD COVER FRAME', Quantity=7, InvoiceDate=datetime.datetime(2011, 12, 5, 11, 48), UnitPrice=7.46, CustomerID=None, Country='United Kingdom'),\n",
       " Row(InvoiceNo='580610', StockCode='21155', Description='RED RETROSPOT PEG BAG', Quantity=3, InvoiceDate=datetime.datetime(2011, 12, 5, 11, 48), UnitPrice=4.96, CustomerID=None, Country='United Kingdom'),\n",
       " Row(InvoiceNo='580610', StockCode='21165', Description='BEWARE OF THE CAT METAL SIGN ', Quantity=2, InvoiceDate=datetime.datetime(2011, 12, 5, 11, 48), UnitPrice=4.13, CustomerID=None, Country='United Kingdom'),\n",
       " Row(InvoiceNo='580610', StockCode='21169', Description=\"YOU'RE CONFUSING ME METAL SIGN \", Quantity=1, InvoiceDate=datetime.datetime(2011, 12, 5, 11, 48), UnitPrice=4.13, CustomerID=None, Country='United Kingdom'),\n",
       " Row(InvoiceNo='580610', StockCode='21174', Description='POTTERING IN THE SHED METAL SIGN', Quantity=2, InvoiceDate=datetime.datetime(2011, 12, 5, 11, 48), UnitPrice=4.13, CustomerID=None, Country='United Kingdom'),\n",
       " Row(InvoiceNo='580610', StockCode='21181', Description='PLEASE ONE PERSON METAL SIGN', Quantity=10, InvoiceDate=datetime.datetime(2011, 12, 5, 11, 48), UnitPrice=4.13, CustomerID=None, Country='United Kingdom'),\n",
       " Row(InvoiceNo='580610', StockCode='21189', Description='WHITE HONEYCOMB PAPER GARLAND ', Quantity=6, InvoiceDate=datetime.datetime(2011, 12, 5, 11, 48), UnitPrice=3.29, CustomerID=None, Country='United Kingdom'),\n",
       " Row(InvoiceNo='580610', StockCode='21216', Description='SET 3 RETROSPOT TEA,COFFEE,SUGAR', Quantity=1, InvoiceDate=datetime.datetime(2011, 12, 5, 11, 48), UnitPrice=10.79, CustomerID=None, Country='United Kingdom'),\n",
       " Row(InvoiceNo='580610', StockCode='21217', Description='RED RETROSPOT ROUND CAKE TINS', Quantity=4, InvoiceDate=datetime.datetime(2011, 12, 5, 11, 48), UnitPrice=20.79, CustomerID=None, Country='United Kingdom'),\n",
       " Row(InvoiceNo='580610', StockCode='21218', Description='RED SPOTTY BISCUIT TIN', Quantity=1, InvoiceDate=datetime.datetime(2011, 12, 5, 11, 48), UnitPrice=8.29, CustomerID=None, Country='United Kingdom'),\n",
       " Row(InvoiceNo='580610', StockCode='21232', Description='STRAWBERRY CERAMIC TRINKET POT', Quantity=38, InvoiceDate=datetime.datetime(2011, 12, 5, 11, 48), UnitPrice=2.46, CustomerID=None, Country='United Kingdom'),\n",
       " Row(InvoiceNo='580610', StockCode='21257', Description='VICTORIAN SEWING BOX MEDIUM', Quantity=8, InvoiceDate=datetime.datetime(2011, 12, 5, 11, 48), UnitPrice=15.79, CustomerID=None, Country='United Kingdom'),\n",
       " Row(InvoiceNo='580610', StockCode='21259', Description='VICTORIAN SEWING BOX SMALL ', Quantity=1, InvoiceDate=datetime.datetime(2011, 12, 5, 11, 48), UnitPrice=12.46, CustomerID=None, Country='United Kingdom'),\n",
       " Row(InvoiceNo='580610', StockCode='21327', Description='SKULLS WRITING SET ', Quantity=2, InvoiceDate=datetime.datetime(2011, 12, 5, 11, 48), UnitPrice=2.46, CustomerID=None, Country='United Kingdom'),\n",
       " Row(InvoiceNo='580610', StockCode='21329', Description='DINOSAURS  WRITING SET ', Quantity=1, InvoiceDate=datetime.datetime(2011, 12, 5, 11, 48), UnitPrice=3.29, CustomerID=None, Country='United Kingdom'),\n",
       " Row(InvoiceNo='580610', StockCode='21340', Description='CLASSIC METAL BIRDCAGE PLANT HOLDER', Quantity=1, InvoiceDate=datetime.datetime(2011, 12, 5, 11, 48), UnitPrice=24.96, CustomerID=None, Country='United Kingdom'),\n",
       " Row(InvoiceNo='580610', StockCode='21408', Description='SPOTTY PINK DUCK DOORSTOP', Quantity=1, InvoiceDate=datetime.datetime(2011, 12, 5, 11, 48), UnitPrice=8.29, CustomerID=None, Country='United Kingdom'),\n",
       " Row(InvoiceNo='580610', StockCode='21411', Description='GINGHAM HEART  DOORSTOP RED', Quantity=3, InvoiceDate=datetime.datetime(2011, 12, 5, 11, 48), UnitPrice=8.29, CustomerID=None, Country='United Kingdom'),\n",
       " Row(InvoiceNo='580610', StockCode='21426', Description='WOODLAND STORAGE BOX SMALL', Quantity=1, InvoiceDate=datetime.datetime(2011, 12, 5, 11, 48), UnitPrice=4.96, CustomerID=None, Country='United Kingdom'),\n",
       " Row(InvoiceNo='580610', StockCode='21428', Description='SET3 BOOK BOX GREEN GINGHAM FLOWER ', Quantity=3, InvoiceDate=datetime.datetime(2011, 12, 5, 11, 48), UnitPrice=8.29, CustomerID=None, Country='United Kingdom'),\n",
       " Row(InvoiceNo='580610', StockCode='21430', Description='SET/3 RED GINGHAM ROSE STORAGE BOX', Quantity=2, InvoiceDate=datetime.datetime(2011, 12, 5, 11, 48), UnitPrice=7.46, CustomerID=None, Country='United Kingdom'),\n",
       " Row(InvoiceNo='580610', StockCode='21485', Description='RETROSPOT HEART HOT WATER BOTTLE', Quantity=1, InvoiceDate=datetime.datetime(2011, 12, 5, 11, 48), UnitPrice=7.46, CustomerID=None, Country='United Kingdom'),\n",
       " Row(InvoiceNo='580610', StockCode='21494', Description='ROTATING LEAVES T-LIGHT HOLDER', Quantity=2, InvoiceDate=datetime.datetime(2011, 12, 5, 11, 48), UnitPrice=5.79, CustomerID=None, Country='United Kingdom'),\n",
       " Row(InvoiceNo='580610', StockCode='21558', Description='SKULL LUNCH BOX WITH CUTLERY ', Quantity=2, InvoiceDate=datetime.datetime(2011, 12, 5, 11, 48), UnitPrice=4.96, CustomerID=None, Country='United Kingdom'),\n",
       " Row(InvoiceNo='580610', StockCode='21559', Description='STRAWBERRY LUNCH BOX WITH CUTLERY', Quantity=1, InvoiceDate=datetime.datetime(2011, 12, 5, 11, 48), UnitPrice=4.96, CustomerID=None, Country='United Kingdom'),\n",
       " Row(InvoiceNo='580610', StockCode='21561', Description='DINOSAUR LUNCH BOX WITH CUTLERY', Quantity=1, InvoiceDate=datetime.datetime(2011, 12, 5, 11, 48), UnitPrice=4.96, CustomerID=None, Country='United Kingdom'),\n",
       " Row(InvoiceNo='580610', StockCode='21578', Description='WOODLAND DESIGN  COTTON TOTE BAG', Quantity=1, InvoiceDate=datetime.datetime(2011, 12, 5, 11, 48), UnitPrice=4.96, CustomerID=None, Country='United Kingdom'),\n",
       " Row(InvoiceNo='580610', StockCode='21731', Description='RED TOADSTOOL LED NIGHT LIGHT', Quantity=5, InvoiceDate=datetime.datetime(2011, 12, 5, 11, 48), UnitPrice=4.13, CustomerID=None, Country='United Kingdom'),\n",
       " Row(InvoiceNo='580610', StockCode='21754', Description='HOME BUILDING BLOCK WORD', Quantity=1, InvoiceDate=datetime.datetime(2011, 12, 5, 11, 48), UnitPrice=11.63, CustomerID=None, Country='United Kingdom'),\n",
       " Row(InvoiceNo='580610', StockCode='21770', Description='OPEN CLOSED METAL SIGN', Quantity=1, InvoiceDate=datetime.datetime(2011, 12, 5, 11, 48), UnitPrice=9.96, CustomerID=None, Country='United Kingdom'),\n",
       " Row(InvoiceNo='580610', StockCode='21786', Description='POLKADOT RAIN HAT ', Quantity=4, InvoiceDate=datetime.datetime(2011, 12, 5, 11, 48), UnitPrice=0.79, CustomerID=None, Country='United Kingdom'),\n",
       " Row(InvoiceNo='580610', StockCode='21790', Description='VINTAGE SNAP CARDS', Quantity=2, InvoiceDate=datetime.datetime(2011, 12, 5, 11, 48), UnitPrice=1.63, CustomerID=None, Country='United Kingdom'),\n",
       " Row(InvoiceNo='580610', StockCode='21803', Description='CHRISTMAS TREE STAR DECORATION', Quantity=5, InvoiceDate=datetime.datetime(2011, 12, 5, 11, 48), UnitPrice=0.83, CustomerID=None, Country='United Kingdom'),\n",
       " Row(InvoiceNo='580610', StockCode='21808', Description='CHRISTMAS GARLAND STARS,TREES', Quantity=1, InvoiceDate=datetime.datetime(2011, 12, 5, 11, 48), UnitPrice=7.46, CustomerID=None, Country='United Kingdom'),\n",
       " Row(InvoiceNo='580610', StockCode='21843', Description='RED RETROSPOT CAKE STAND', Quantity=6, InvoiceDate=datetime.datetime(2011, 12, 5, 11, 48), UnitPrice=20.79, CustomerID=None, Country='United Kingdom'),\n",
       " Row(InvoiceNo='580610', StockCode='21864', Description='UNION JACK FLAG PASSPORT COVER ', Quantity=1, InvoiceDate=datetime.datetime(2011, 12, 5, 11, 48), UnitPrice=4.13, CustomerID=None, Country='United Kingdom'),\n",
       " Row(InvoiceNo='580610', StockCode='21874', Description='GIN AND TONIC MUG', Quantity=2, InvoiceDate=datetime.datetime(2011, 12, 5, 11, 48), UnitPrice=3.29, CustomerID=None, Country='United Kingdom'),\n",
       " Row(InvoiceNo='580610', StockCode='21876', Description='POTTERING MUG', Quantity=8, InvoiceDate=datetime.datetime(2011, 12, 5, 11, 48), UnitPrice=3.29, CustomerID=None, Country='United Kingdom'),\n",
       " Row(InvoiceNo='580610', StockCode='21888', Description='BINGO SET', Quantity=1, InvoiceDate=datetime.datetime(2011, 12, 5, 11, 48), UnitPrice=7.46, CustomerID=None, Country='United Kingdom'),\n",
       " Row(InvoiceNo='580610', StockCode='21889', Description='WOODEN BOX OF DOMINOES', Quantity=6, InvoiceDate=datetime.datetime(2011, 12, 5, 11, 48), UnitPrice=3.29, CustomerID=None, Country='United Kingdom'),\n",
       " Row(InvoiceNo='580610', StockCode='21912', Description='VINTAGE SNAKES & LADDERS', Quantity=1, InvoiceDate=datetime.datetime(2011, 12, 5, 11, 48), UnitPrice=7.46, CustomerID=None, Country='United Kingdom'),\n",
       " Row(InvoiceNo='580610', StockCode='21916', Description='SET 12 RETRO WHITE CHALK STICKS', Quantity=2, InvoiceDate=datetime.datetime(2011, 12, 5, 11, 48), UnitPrice=0.79, CustomerID=None, Country='United Kingdom'),\n",
       " Row(InvoiceNo='580610', StockCode='21918', Description='SET 12 KIDS COLOUR  CHALK STICKS', Quantity=1, InvoiceDate=datetime.datetime(2011, 12, 5, 11, 48), UnitPrice=0.79, CustomerID=None, Country='United Kingdom'),\n",
       " Row(InvoiceNo='580610', StockCode='21928', Description='JUMBO BAG SCANDINAVIAN BLUE PAISLEY', Quantity=1, InvoiceDate=datetime.datetime(2011, 12, 5, 11, 48), UnitPrice=4.13, CustomerID=None, Country='United Kingdom'),\n",
       " Row(InvoiceNo='580610', StockCode='21930', Description='JUMBO STORAGE BAG SKULLS', Quantity=2, InvoiceDate=datetime.datetime(2011, 12, 5, 11, 48), UnitPrice=4.13, CustomerID=None, Country='United Kingdom'),\n",
       " Row(InvoiceNo='580610', StockCode='21931', Description='JUMBO STORAGE BAG SUKI', Quantity=12, InvoiceDate=datetime.datetime(2011, 12, 5, 11, 48), UnitPrice=4.13, CustomerID=None, Country='United Kingdom'),\n",
       " Row(InvoiceNo='580610', StockCode='21934', Description='SKULL SHOULDER BAG', Quantity=7, InvoiceDate=datetime.datetime(2011, 12, 5, 11, 48), UnitPrice=3.29, CustomerID=None, Country='United Kingdom'),\n",
       " Row(InvoiceNo='580610', StockCode='21935', Description='SUKI  SHOULDER BAG', Quantity=6, InvoiceDate=datetime.datetime(2011, 12, 5, 11, 48), UnitPrice=4.13, CustomerID=None, Country='United Kingdom'),\n",
       " Row(InvoiceNo='580610', StockCode='21944', Description='KITTENS DESIGN FLANNEL', Quantity=1, InvoiceDate=datetime.datetime(2011, 12, 5, 11, 48), UnitPrice=1.63, CustomerID=None, Country='United Kingdom'),\n",
       " Row(InvoiceNo='580610', StockCode='21945', Description='STRAWBERRIES  DESIGN FLANNEL ', Quantity=1, InvoiceDate=datetime.datetime(2011, 12, 5, 11, 48), UnitPrice=1.63, CustomerID=None, Country='United Kingdom'),\n",
       " Row(InvoiceNo='580610', StockCode='21948', Description='SET OF 6 CAKE CHOPSTICKS', Quantity=1, InvoiceDate=datetime.datetime(2011, 12, 5, 11, 48), UnitPrice=2.46, CustomerID=None, Country='United Kingdom'),\n",
       " Row(InvoiceNo='580610', StockCode='21955', Description='DOORMAT UNION JACK GUNS AND ROSES', Quantity=1, InvoiceDate=datetime.datetime(2011, 12, 5, 11, 48), UnitPrice=12.46, CustomerID=None, Country='United Kingdom'),\n",
       " Row(InvoiceNo='580610', StockCode='21976', Description='PACK OF 60 MUSHROOM CAKE CASES', Quantity=1, InvoiceDate=datetime.datetime(2011, 12, 5, 11, 48), UnitPrice=2.08, CustomerID=None, Country='United Kingdom'),\n",
       " Row(InvoiceNo='580610', StockCode='21988', Description='PACK OF 6 SKULL PAPER PLATES', Quantity=1, InvoiceDate=datetime.datetime(2011, 12, 5, 11, 48), UnitPrice=1.63, CustomerID=None, Country='United Kingdom'),\n",
       " Row(InvoiceNo='580610', StockCode='21989', Description='PACK OF 20 SKULL PAPER NAPKINS', Quantity=4, InvoiceDate=datetime.datetime(2011, 12, 5, 11, 48), UnitPrice=1.63, CustomerID=None, Country='United Kingdom'),\n",
       " Row(InvoiceNo='580610', StockCode='22041', Description='\"RECORD FRAME 7\"\" SINGLE SIZE \"', Quantity=4, InvoiceDate=datetime.datetime(2011, 12, 5, 11, 48), UnitPrice=5.79, CustomerID=None, Country='United Kingdom'),\n",
       " Row(InvoiceNo='580610', StockCode='22069', Description='BROWN  PIRATE TREASURE CHEST ', Quantity=2, InvoiceDate=datetime.datetime(2011, 12, 5, 11, 48), UnitPrice=4.13, CustomerID=None, Country='United Kingdom'),\n",
       " Row(InvoiceNo='580610', StockCode='22070', Description='SMALL RED RETROSPOT MUG IN BOX ', Quantity=1, InvoiceDate=datetime.datetime(2011, 12, 5, 11, 48), UnitPrice=7.46, CustomerID=None, Country='United Kingdom'),\n",
       " Row(InvoiceNo='580610', StockCode='22077', Description='6 RIBBONS RUSTIC CHARM', Quantity=3, InvoiceDate=datetime.datetime(2011, 12, 5, 11, 48), UnitPrice=4.13, CustomerID=None, Country='United Kingdom'),\n",
       " Row(InvoiceNo='580610', StockCode='22083', Description='PAPER CHAIN KIT RETROSPOT', Quantity=2, InvoiceDate=datetime.datetime(2011, 12, 5, 11, 48), UnitPrice=6.63, CustomerID=None, Country='United Kingdom'),\n",
       " Row(InvoiceNo='580610', StockCode='22086', Description=\"PAPER CHAIN KIT 50'S CHRISTMAS \", Quantity=51, InvoiceDate=datetime.datetime(2011, 12, 5, 11, 48), UnitPrice=5.79, CustomerID=None, Country='United Kingdom'),\n",
       " Row(InvoiceNo='580610', StockCode='22090', Description='PAPER BUNTING RETROSPOT', Quantity=2, InvoiceDate=datetime.datetime(2011, 12, 5, 11, 48), UnitPrice=6.63, CustomerID=None, Country='United Kingdom'),\n",
       " Row(InvoiceNo='580610', StockCode='22107', Description='PIZZA PLATE IN BOX', Quantity=1, InvoiceDate=datetime.datetime(2011, 12, 5, 11, 48), UnitPrice=7.46, CustomerID=None, Country='United Kingdom'),\n",
       " Row(InvoiceNo='580610', StockCode='22114', Description='HOT WATER BOTTLE TEA AND SYMPATHY', Quantity=41, InvoiceDate=datetime.datetime(2011, 12, 5, 11, 48), UnitPrice=8.29, CustomerID=None, Country='United Kingdom'),\n",
       " Row(InvoiceNo='580610', StockCode='22139', Description='RETROSPOT TEA SET CERAMIC 11 PC ', Quantity=6, InvoiceDate=datetime.datetime(2011, 12, 5, 11, 48), UnitPrice=10.79, CustomerID=None, Country='United Kingdom'),\n",
       " Row(InvoiceNo='580610', StockCode='22141', Description='CHRISTMAS CRAFT TREE TOP ANGEL', Quantity=6, InvoiceDate=datetime.datetime(2011, 12, 5, 11, 48), UnitPrice=4.13, CustomerID=None, Country='United Kingdom'),\n",
       " Row(InvoiceNo='580610', StockCode='22142', Description='CHRISTMAS CRAFT WHITE FAIRY ', Quantity=4, InvoiceDate=datetime.datetime(2011, 12, 5, 11, 48), UnitPrice=3.29, CustomerID=None, Country='United Kingdom'),\n",
       " Row(InvoiceNo='580610', StockCode='22144', Description='CHRISTMAS CRAFT LITTLE FRIENDS', Quantity=16, InvoiceDate=datetime.datetime(2011, 12, 5, 11, 48), UnitPrice=4.13, CustomerID=None, Country='United Kingdom'),\n",
       " Row(InvoiceNo='580610', StockCode='22165', Description='DIAMANTE HEART SHAPED WALL MIRROR, ', Quantity=1, InvoiceDate=datetime.datetime(2011, 12, 5, 11, 48), UnitPrice=24.96, CustomerID=None, Country='United Kingdom'),\n",
       " Row(InvoiceNo='580610', StockCode='22166', Description='WALL MIRROR RECTANGLE DIAMANTE PINK', Quantity=1, InvoiceDate=datetime.datetime(2011, 12, 5, 11, 48), UnitPrice=15.79, CustomerID=None, Country='United Kingdom'),\n",
       " Row(InvoiceNo='580610', StockCode='22173', Description='METAL 4 HOOK HANGER FRENCH CHATEAU', Quantity=2, InvoiceDate=datetime.datetime(2011, 12, 5, 11, 48), UnitPrice=5.79, CustomerID=None, Country='United Kingdom'),\n",
       " Row(InvoiceNo='580610', StockCode='22174', Description='PHOTO CUBE', Quantity=1, InvoiceDate=datetime.datetime(2011, 12, 5, 11, 48), UnitPrice=4.13, CustomerID=None, Country='United Kingdom'),\n",
       " Row(InvoiceNo='580610', StockCode='22175', Description='PINK OWL SOFT TOY', Quantity=1, InvoiceDate=datetime.datetime(2011, 12, 5, 11, 48), UnitPrice=5.79, CustomerID=None, Country='United Kingdom'),\n",
       " Row(InvoiceNo='580610', StockCode='22178', Description='VICTORIAN GLASS HANGING T-LIGHT', Quantity=3, InvoiceDate=datetime.datetime(2011, 12, 5, 11, 48), UnitPrice=2.46, CustomerID=None, Country='United Kingdom'),\n",
       " Row(InvoiceNo='580610', StockCode='22179', Description='SET 10 NIGHT OWL LIGHTS', Quantity=2, InvoiceDate=datetime.datetime(2011, 12, 5, 11, 48), UnitPrice=13.29, CustomerID=None, Country='United Kingdom'),\n",
       " Row(InvoiceNo='580610', StockCode='22186', Description='RED STAR CARD HOLDER', Quantity=1, InvoiceDate=datetime.datetime(2011, 12, 5, 11, 48), UnitPrice=5.79, CustomerID=None, Country='United Kingdom'),\n",
       " Row(InvoiceNo='580610', StockCode='22187', Description='GREEN CHRISTMAS TREE CARD HOLDER', Quantity=2, InvoiceDate=datetime.datetime(2011, 12, 5, 11, 48), UnitPrice=8.29, CustomerID=None, Country='United Kingdom'),\n",
       " Row(InvoiceNo='580610', StockCode='22193', Description='RED DINER WALL CLOCK', Quantity=2, InvoiceDate=datetime.datetime(2011, 12, 5, 11, 48), UnitPrice=16.63, CustomerID=None, Country='United Kingdom'),\n",
       " Row(InvoiceNo='580610', StockCode='22196', Description='SMALL HEART MEASURING SPOONS', Quantity=2, InvoiceDate=datetime.datetime(2011, 12, 5, 11, 48), UnitPrice=1.63, CustomerID=None, Country='United Kingdom'),\n",
       " Row(InvoiceNo='580610', StockCode='22197', Description='POPCORN HOLDER', Quantity=6, InvoiceDate=datetime.datetime(2011, 12, 5, 11, 48), UnitPrice=1.63, CustomerID=None, Country='United Kingdom'),\n",
       " Row(InvoiceNo='580610', StockCode='22199', Description='FRYING PAN RED RETROSPOT', Quantity=2, InvoiceDate=datetime.datetime(2011, 12, 5, 11, 48), UnitPrice=8.29, CustomerID=None, Country='United Kingdom'),\n",
       " Row(InvoiceNo='580610', StockCode='22207', Description='FRYING PAN UNION FLAG', Quantity=1, InvoiceDate=datetime.datetime(2011, 12, 5, 11, 48), UnitPrice=8.29, CustomerID=None, Country='United Kingdom'),\n",
       " Row(InvoiceNo='580610', StockCode='22276', Description='WASH BAG VINTAGE ROSE PAISLEY', Quantity=1, InvoiceDate=datetime.datetime(2011, 12, 5, 11, 48), UnitPrice=5.79, CustomerID=None, Country='United Kingdom'),\n",
       " Row(InvoiceNo='580610', StockCode='22278', Description='OVERNIGHT BAG VINTAGE ROSE PAISLEY', Quantity=5, InvoiceDate=datetime.datetime(2011, 12, 5, 11, 48), UnitPrice=10.79, CustomerID=None, Country='United Kingdom'),\n",
       " Row(InvoiceNo='580610', StockCode='22294', Description='HEART FILIGREE DOVE  SMALL', Quantity=1, InvoiceDate=datetime.datetime(2011, 12, 5, 11, 48), UnitPrice=2.46, CustomerID=None, Country='United Kingdom'),\n",
       " Row(InvoiceNo='580610', StockCode='22301', Description='COFFEE MUG CAT + BIRD DESIGN', Quantity=1, InvoiceDate=datetime.datetime(2011, 12, 5, 11, 48), UnitPrice=4.96, CustomerID=None, Country='United Kingdom'),\n",
       " Row(InvoiceNo='580610', StockCode='22309', Description='TEA COSY RED  STRIPE', Quantity=1, InvoiceDate=datetime.datetime(2011, 12, 5, 11, 48), UnitPrice=4.96, CustomerID=None, Country='United Kingdom'),\n",
       " Row(InvoiceNo='580610', StockCode='22314', Description='OFFICE MUG WARMER CHOC+BLUE', Quantity=2, InvoiceDate=datetime.datetime(2011, 12, 5, 11, 48), UnitPrice=8.29, CustomerID=None, Country='United Kingdom'),\n",
       " Row(InvoiceNo='580610', StockCode='22327', Description='ROUND SNACK BOXES SET OF 4 SKULLS', Quantity=2, InvoiceDate=datetime.datetime(2011, 12, 5, 11, 48), UnitPrice=6.63, CustomerID=None, Country='United Kingdom'),\n",
       " Row(InvoiceNo='580610', StockCode='22328', Description='ROUND SNACK BOXES SET OF 4 FRUITS ', Quantity=3, InvoiceDate=datetime.datetime(2011, 12, 5, 11, 48), UnitPrice=4.13, CustomerID=None, Country='United Kingdom'),\n",
       " Row(InvoiceNo='580610', StockCode='22352', Description='LUNCH BOX WITH CUTLERY RETROSPOT ', Quantity=5, InvoiceDate=datetime.datetime(2011, 12, 5, 11, 48), UnitPrice=4.13, CustomerID=None, Country='United Kingdom'),\n",
       " Row(InvoiceNo='580610', StockCode='22358', Description='KINGS CHOICE TEA CADDY ', Quantity=4, InvoiceDate=datetime.datetime(2011, 12, 5, 11, 48), UnitPrice=5.79, CustomerID=None, Country='United Kingdom'),\n",
       " Row(InvoiceNo='580610', StockCode='22360', Description='GLASS JAR ENGLISH CONFECTIONERY', Quantity=2, InvoiceDate=datetime.datetime(2011, 12, 5, 11, 48), UnitPrice=5.79, CustomerID=None, Country='United Kingdom'),\n",
       " Row(InvoiceNo='580610', StockCode='22364', Description='GLASS JAR DIGESTIVE BISCUITS', Quantity=1, InvoiceDate=datetime.datetime(2011, 12, 5, 11, 48), UnitPrice=5.79, CustomerID=None, Country='United Kingdom'),\n",
       " Row(InvoiceNo='580610', StockCode='22367', Description='CHILDRENS APRON SPACEBOY DESIGN', Quantity=1, InvoiceDate=datetime.datetime(2011, 12, 5, 11, 48), UnitPrice=4.96, CustomerID=None, Country='United Kingdom'),\n",
       " Row(InvoiceNo='580610', StockCode='22371', Description='AIRLINE BAG VINTAGE TOKYO 78', Quantity=1, InvoiceDate=datetime.datetime(2011, 12, 5, 11, 48), UnitPrice=4.13, CustomerID=None, Country='United Kingdom'),\n",
       " Row(InvoiceNo='580610', StockCode='22379', Description='RECYCLING BAG RETROSPOT ', Quantity=3, InvoiceDate=datetime.datetime(2011, 12, 5, 11, 48), UnitPrice=4.96, CustomerID=None, Country='United Kingdom'),\n",
       " Row(InvoiceNo='580610', StockCode='22381', Description='TOY TIDY PINK POLKADOT', Quantity=1, InvoiceDate=datetime.datetime(2011, 12, 5, 11, 48), UnitPrice=4.96, CustomerID=None, Country='United Kingdom'),\n",
       " Row(InvoiceNo='580610', StockCode='22384', Description='LUNCH BAG PINK POLKADOT', Quantity=1, InvoiceDate=datetime.datetime(2011, 12, 5, 11, 48), UnitPrice=4.96, CustomerID=None, Country='United Kingdom'),\n",
       " Row(InvoiceNo='580610', StockCode='22386', Description='JUMBO BAG PINK POLKADOT', Quantity=11, InvoiceDate=datetime.datetime(2011, 12, 5, 11, 48), UnitPrice=4.13, CustomerID=None, Country='United Kingdom'),\n",
       " Row(InvoiceNo='580610', StockCode='22411', Description='JUMBO SHOPPER VINTAGE RED PAISLEY', Quantity=6, InvoiceDate=datetime.datetime(2011, 12, 5, 11, 48), UnitPrice=4.13, CustomerID=None, Country='United Kingdom'),\n",
       " Row(InvoiceNo='580610', StockCode='22418', Description='10 COLOUR SPACEBOY PEN', Quantity=1, InvoiceDate=datetime.datetime(2011, 12, 5, 11, 48), UnitPrice=2.46, CustomerID=None, Country='United Kingdom'),\n",
       " Row(InvoiceNo='580610', StockCode='22424', Description='ENAMEL BREAD BIN CREAM', Quantity=1, InvoiceDate=datetime.datetime(2011, 12, 5, 11, 48), UnitPrice=24.96, CustomerID=None, Country='United Kingdom'),\n",
       " Row(InvoiceNo='580610', StockCode='22431', Description='WATERING CAN BLUE ELEPHANT', Quantity=1, InvoiceDate=datetime.datetime(2011, 12, 5, 11, 48), UnitPrice=4.13, CustomerID=None, Country='United Kingdom'),\n",
       " Row(InvoiceNo='580610', StockCode='22456', Description='NATURAL SLATE CHALKBOARD LARGE ', Quantity=6, InvoiceDate=datetime.datetime(2011, 12, 5, 11, 48), UnitPrice=9.96, CustomerID=None, Country='United Kingdom'),\n",
       " Row(InvoiceNo='580610', StockCode='22468', Description='BABUSHKA LIGHTS STRING OF 10', Quantity=1, InvoiceDate=datetime.datetime(2011, 12, 5, 11, 48), UnitPrice=13.29, CustomerID=None, Country='United Kingdom'),\n",
       " Row(InvoiceNo='580610', StockCode='22472', Description='TV DINNER TRAY DOLLY GIRL', Quantity=1, InvoiceDate=datetime.datetime(2011, 12, 5, 11, 48), UnitPrice=10.79, CustomerID=None, Country='United Kingdom'),\n",
       " Row(InvoiceNo='580610', StockCode='22474', Description='SPACEBOY TV DINNER TRAY', Quantity=2, InvoiceDate=datetime.datetime(2011, 12, 5, 11, 48), UnitPrice=10.79, CustomerID=None, Country='United Kingdom'),\n",
       " Row(InvoiceNo='580610', StockCode='22483', Description='RED GINGHAM TEDDY BEAR ', Quantity=1, InvoiceDate=datetime.datetime(2011, 12, 5, 11, 48), UnitPrice=5.79, CustomerID=None, Country='United Kingdom'),\n",
       " Row(InvoiceNo='580610', StockCode='22488', Description='NATURAL SLATE RECTANGLE CHALKBOARD', Quantity=1, InvoiceDate=datetime.datetime(2011, 12, 5, 11, 48), UnitPrice=3.29, CustomerID=None, Country='United Kingdom'),\n",
       " Row(InvoiceNo='580610', StockCode='22499', Description='WOODEN UNION JACK BUNTING', Quantity=3, InvoiceDate=datetime.datetime(2011, 12, 5, 11, 48), UnitPrice=8.29, CustomerID=None, Country='United Kingdom'),\n",
       " Row(InvoiceNo='580610', StockCode='22507', Description='MEMO BOARD RETROSPOT  DESIGN', Quantity=4, InvoiceDate=datetime.datetime(2011, 12, 5, 11, 48), UnitPrice=10.79, CustomerID=None, Country='United Kingdom'),\n",
       " Row(InvoiceNo='580610', StockCode='22550', Description='HOLIDAY FUN LUDO', Quantity=1, InvoiceDate=datetime.datetime(2011, 12, 5, 11, 48), UnitPrice=7.46, CustomerID=None, Country='United Kingdom'),\n",
       " Row(InvoiceNo='580610', StockCode='22553', Description='PLASTERS IN TIN SKULLS', Quantity=1, InvoiceDate=datetime.datetime(2011, 12, 5, 11, 48), UnitPrice=3.29, CustomerID=None, Country='United Kingdom'),\n",
       " Row(InvoiceNo='580610', StockCode='22623', Description='BOX OF VINTAGE JIGSAW BLOCKS ', Quantity=1, InvoiceDate=datetime.datetime(2011, 12, 5, 11, 48), UnitPrice=10.79, CustomerID=None, Country='United Kingdom'),\n",
       " Row(InvoiceNo='580610', StockCode='22627', Description='MINT KITCHEN SCALES', Quantity=1, InvoiceDate=datetime.datetime(2011, 12, 5, 11, 48), UnitPrice=16.63, CustomerID=None, Country='United Kingdom'),\n",
       " Row(InvoiceNo='580610', StockCode='22630', Description='DOLLY GIRL LUNCH BOX', Quantity=1, InvoiceDate=datetime.datetime(2011, 12, 5, 11, 48), UnitPrice=2.46, CustomerID=None, Country='United Kingdom'),\n",
       " Row(InvoiceNo='580610', StockCode='22645', Description='CERAMIC HEART FAIRY CAKE MONEY BANK', Quantity=1, InvoiceDate=datetime.datetime(2011, 12, 5, 11, 48), UnitPrice=4.13, CustomerID=None, Country='United Kingdom'),\n",
       " Row(InvoiceNo='580610', StockCode='22666', Description='RECIPE BOX PANTRY YELLOW DESIGN', Quantity=19, InvoiceDate=datetime.datetime(2011, 12, 5, 11, 48), UnitPrice=5.79, CustomerID=None, Country='United Kingdom'),\n",
       " Row(InvoiceNo='580610', StockCode='22669', Description='RED BABY BUNTING ', Quantity=1, InvoiceDate=datetime.datetime(2011, 12, 5, 11, 48), UnitPrice=5.79, CustomerID=None, Country='United Kingdom'),\n",
       " Row(InvoiceNo='580610', StockCode='22686', Description='FRENCH BLUE METAL DOOR SIGN No', Quantity=1, InvoiceDate=datetime.datetime(2011, 12, 5, 11, 48), UnitPrice=2.46, CustomerID=None, Country='United Kingdom'),\n",
       " Row(InvoiceNo='580610', StockCode='22695', Description='WICKER WREATH SMALL', Quantity=2, InvoiceDate=datetime.datetime(2011, 12, 5, 11, 48), UnitPrice=3.29, CustomerID=None, Country='United Kingdom'),\n",
       " Row(InvoiceNo='580610', StockCode='22697', Description='GREEN REGENCY TEACUP AND SAUCER', Quantity=3, InvoiceDate=datetime.datetime(2011, 12, 5, 11, 48), UnitPrice=5.79, CustomerID=None, Country='United Kingdom'),\n",
       " Row(InvoiceNo='580610', StockCode='22698', Description='PINK REGENCY TEACUP AND SAUCER', Quantity=1, InvoiceDate=datetime.datetime(2011, 12, 5, 11, 48), UnitPrice=5.79, CustomerID=None, Country='United Kingdom'),\n",
       " Row(InvoiceNo='580610', StockCode='22699', Description='ROSES REGENCY TEACUP AND SAUCER ', Quantity=1, InvoiceDate=datetime.datetime(2011, 12, 5, 11, 48), UnitPrice=5.79, CustomerID=None, Country='United Kingdom'),\n",
       " Row(InvoiceNo='580610', StockCode='22720', Description='SET OF 3 CAKE TINS PANTRY DESIGN ', Quantity=12, InvoiceDate=datetime.datetime(2011, 12, 5, 11, 48), UnitPrice=10.79, CustomerID=None, Country='United Kingdom'),\n",
       " Row(InvoiceNo='580610', StockCode='22721', Description='SET OF 3 CAKE TINS SKETCHBOOK', Quantity=1, InvoiceDate=datetime.datetime(2011, 12, 5, 11, 48), UnitPrice=10.79, CustomerID=None, Country='United Kingdom'),\n",
       " Row(InvoiceNo='580610', StockCode='22722', Description='SET OF 6 SPICE TINS PANTRY DESIGN', Quantity=3, InvoiceDate=datetime.datetime(2011, 12, 5, 11, 48), UnitPrice=8.29, CustomerID=None, Country='United Kingdom'),\n",
       " Row(InvoiceNo='580610', StockCode='22728', Description='ALARM CLOCK BAKELIKE PINK', Quantity=2, InvoiceDate=datetime.datetime(2011, 12, 5, 11, 48), UnitPrice=8.29, CustomerID=None, Country='United Kingdom'),\n",
       " Row(InvoiceNo='580610', StockCode='22731', Description='3D CHRISTMAS STAMPS STICKERS ', Quantity=1, InvoiceDate=datetime.datetime(2011, 12, 5, 11, 48), UnitPrice=1.63, CustomerID=None, Country='United Kingdom'),\n",
       " Row(InvoiceNo='580610', StockCode='22732', Description='3D VINTAGE CHRISTMAS STICKERS ', Quantity=3, InvoiceDate=datetime.datetime(2011, 12, 5, 11, 48), UnitPrice=1.63, CustomerID=None, Country='United Kingdom'),\n",
       " Row(InvoiceNo='580610', StockCode='22733', Description='3D TRADITIONAL CHRISTMAS STICKERS', Quantity=4, InvoiceDate=datetime.datetime(2011, 12, 5, 11, 48), UnitPrice=1.63, CustomerID=None, Country='United Kingdom'),\n",
       " Row(InvoiceNo='580610', StockCode='22734', Description='SET OF 6 RIBBONS VINTAGE CHRISTMAS', Quantity=4, InvoiceDate=datetime.datetime(2011, 12, 5, 11, 48), UnitPrice=5.79, CustomerID=None, Country='United Kingdom'),\n",
       " Row(InvoiceNo='580610', StockCode='22795', Description='SWEETHEART RECIPE BOOK STAND', Quantity=1, InvoiceDate=datetime.datetime(2011, 12, 5, 11, 48), UnitPrice=13.29, CustomerID=None, Country='United Kingdom'),\n",
       " Row(InvoiceNo='580610', StockCode='22807', Description='SET OF 6 T-LIGHTS TOADSTOOLS', Quantity=1, InvoiceDate=datetime.datetime(2011, 12, 5, 11, 48), UnitPrice=5.79, CustomerID=None, Country='United Kingdom'),\n",
       " Row(InvoiceNo='580610', StockCode='22813', Description='PACK 3 BOXES BIRD PANETTONE ', Quantity=1, InvoiceDate=datetime.datetime(2011, 12, 5, 11, 48), UnitPrice=4.13, CustomerID=None, Country='United Kingdom'),\n",
       " Row(InvoiceNo='580610', StockCode='22839', Description='3 TIER CAKE TIN GREEN AND CREAM', Quantity=1, InvoiceDate=datetime.datetime(2011, 12, 5, 11, 48), UnitPrice=29.17, CustomerID=None, Country='United Kingdom'),\n",
       " Row(InvoiceNo='580610', StockCode='22844', Description='VINTAGE CREAM DOG FOOD CONTAINER', Quantity=1, InvoiceDate=datetime.datetime(2011, 12, 5, 11, 48), UnitPrice=16.63, CustomerID=None, Country='United Kingdom'),\n",
       " Row(InvoiceNo='580610', StockCode='22866', Description='HAND WARMER SCOTTY DOG DESIGN', Quantity=11, InvoiceDate=datetime.datetime(2011, 12, 5, 11, 48), UnitPrice=4.13, CustomerID=None, Country='United Kingdom'),\n",
       " Row(InvoiceNo='580610', StockCode='22883', Description='NUMBER TILE VINTAGE FONT 4', Quantity=1, InvoiceDate=datetime.datetime(2011, 12, 5, 11, 48), UnitPrice=4.13, CustomerID=None, Country='United Kingdom'),\n",
       " Row(InvoiceNo='580610', StockCode='22885', Description='NUMBER TILE VINTAGE FONT 6 ', Quantity=2, InvoiceDate=datetime.datetime(2011, 12, 5, 11, 48), UnitPrice=4.13, CustomerID=None, Country='United Kingdom'),\n",
       " Row(InvoiceNo='580610', StockCode='22889', Description='NUMBER TILE VINTAGE FONT No ', Quantity=1, InvoiceDate=datetime.datetime(2011, 12, 5, 11, 48), UnitPrice=4.13, CustomerID=None, Country='United Kingdom'),\n",
       " Row(InvoiceNo='580610', StockCode='22891', Description='TEA FOR ONE POLKADOT', Quantity=1, InvoiceDate=datetime.datetime(2011, 12, 5, 11, 48), UnitPrice=8.29, CustomerID=None, Country='United Kingdom'),\n",
       " Row(InvoiceNo='580610', StockCode='22900', Description='SET 2 TEA TOWELS I LOVE LONDON ', Quantity=3, InvoiceDate=datetime.datetime(2011, 12, 5, 11, 48), UnitPrice=4.13, CustomerID=None, Country='United Kingdom'),\n",
       " Row(InvoiceNo='580610', StockCode='22941', Description='CHRISTMAS LIGHTS 10 REINDEER', Quantity=2, InvoiceDate=datetime.datetime(2011, 12, 5, 11, 48), UnitPrice=16.63, CustomerID=None, Country='United Kingdom'),\n",
       " Row(InvoiceNo='580610', StockCode='22952', Description='60 CAKE CASES VINTAGE CHRISTMAS', Quantity=13, InvoiceDate=datetime.datetime(2011, 12, 5, 11, 48), UnitPrice=1.25, CustomerID=None, Country='United Kingdom'),\n",
       " Row(InvoiceNo='580610', StockCode='22960', Description='JAM MAKING SET WITH JARS', Quantity=7, InvoiceDate=datetime.datetime(2011, 12, 5, 11, 48), UnitPrice=8.29, CustomerID=None, Country='United Kingdom'),\n",
       " Row(InvoiceNo='580610', StockCode='22961', Description='JAM MAKING SET PRINTED', Quantity=10, InvoiceDate=datetime.datetime(2011, 12, 5, 11, 48), UnitPrice=3.29, CustomerID=None, Country='United Kingdom'),\n",
       " Row(InvoiceNo='580610', StockCode='22966', Description='GINGERBREAD MAN COOKIE CUTTER', Quantity=1, InvoiceDate=datetime.datetime(2011, 12, 5, 11, 48), UnitPrice=2.46, CustomerID=None, Country='United Kingdom'),\n",
       " Row(InvoiceNo='580610', StockCode='22992', Description='REVOLVER WOODEN RULER ', Quantity=2, InvoiceDate=datetime.datetime(2011, 12, 5, 11, 48), UnitPrice=3.75, CustomerID=None, Country='United Kingdom'),\n",
       " Row(InvoiceNo='580610', StockCode='22993', Description='SET OF 4 PANTRY JELLY MOULDS', Quantity=1, InvoiceDate=datetime.datetime(2011, 12, 5, 11, 48), UnitPrice=3.29, CustomerID=None, Country='United Kingdom'),\n",
       " Row(InvoiceNo='580610', StockCode='23040', Description='PAPER LANTERN 9 POINT SNOW STAR ', Quantity=3, InvoiceDate=datetime.datetime(2011, 12, 5, 11, 48), UnitPrice=11.63, CustomerID=None, Country='United Kingdom'),\n",
       " Row(InvoiceNo='580610', StockCode='23041', Description='PAPER LANTERN 9 POINT SNOW STAR', Quantity=4, InvoiceDate=datetime.datetime(2011, 12, 5, 11, 48), UnitPrice=8.29, CustomerID=None, Country='United Kingdom'),\n",
       " Row(InvoiceNo='580610', StockCode='23042', Description='PAPER LANTERN 7 POINT SNOW STAR', Quantity=2, InvoiceDate=datetime.datetime(2011, 12, 5, 11, 48), UnitPrice=13.29, CustomerID=None, Country='United Kingdom'),\n",
       " Row(InvoiceNo='580610', StockCode='23043', Description='PAPER LANTERN 9 POINT HOLLY STAR L', Quantity=3, InvoiceDate=datetime.datetime(2011, 12, 5, 11, 48), UnitPrice=12.46, CustomerID=None, Country='United Kingdom'),\n",
       " Row(InvoiceNo='580610', StockCode='23048', Description='SET OF 10 LANTERNS FAIRY LIGHT STAR', Quantity=1, InvoiceDate=datetime.datetime(2011, 12, 5, 11, 48), UnitPrice=8.29, CustomerID=None, Country='United Kingdom'),\n",
       " Row(InvoiceNo='580610', StockCode='23080', Description='RED METAL BOX TOP SECRET', Quantity=4, InvoiceDate=datetime.datetime(2011, 12, 5, 11, 48), UnitPrice=16.63, CustomerID=None, Country='United Kingdom'),\n",
       " Row(InvoiceNo='580610', StockCode='23089', Description='GLASS BON BON JAR', Quantity=2, InvoiceDate=datetime.datetime(2011, 12, 5, 11, 48), UnitPrice=3.29, CustomerID=None, Country='United Kingdom'),\n",
       " Row(InvoiceNo='580610', StockCode='23122', Description='PARTY CHARMS 50 PIECES', Quantity=1, InvoiceDate=datetime.datetime(2011, 12, 5, 11, 48), UnitPrice=1.67, CustomerID=None, Country='United Kingdom'),\n",
       " Row(InvoiceNo='580610', StockCode='23126', Description='FELTCRAFT GIRL AMELIE KIT', Quantity=1, InvoiceDate=datetime.datetime(2011, 12, 5, 11, 48), UnitPrice=9.96, CustomerID=None, Country='United Kingdom'),\n",
       " Row(InvoiceNo='580610', StockCode='23144', Description='ZINC T-LIGHT HOLDER STARS SMALL', Quantity=3, InvoiceDate=datetime.datetime(2011, 12, 5, 11, 48), UnitPrice=1.63, CustomerID=None, Country='United Kingdom'),\n",
       " Row(InvoiceNo='580610', StockCode='23157', Description='SET OF 6 NATIVITY MAGNETS ', Quantity=1, InvoiceDate=datetime.datetime(2011, 12, 5, 11, 48), UnitPrice=4.13, CustomerID=None, Country='United Kingdom'),\n",
       " Row(InvoiceNo='580610', StockCode='23158', Description='SET OF 5 LUCKY CAT MAGNETS ', Quantity=1, InvoiceDate=datetime.datetime(2011, 12, 5, 11, 48), UnitPrice=4.13, CustomerID=None, Country='United Kingdom'),\n",
       " Row(InvoiceNo='580610', StockCode='23163', Description='REGENCY SUGAR TONGS', Quantity=1, InvoiceDate=datetime.datetime(2011, 12, 5, 11, 48), UnitPrice=4.96, CustomerID=None, Country='United Kingdom'),\n",
       " Row(InvoiceNo='580610', StockCode='23166', Description='MEDIUM CERAMIC TOP STORAGE JAR', Quantity=9, InvoiceDate=datetime.datetime(2011, 12, 5, 11, 48), UnitPrice=2.46, CustomerID=None, Country='United Kingdom'),\n",
       " Row(InvoiceNo='580610', StockCode='23167', Description='SMALL CERAMIC TOP STORAGE JAR ', Quantity=10, InvoiceDate=datetime.datetime(2011, 12, 5, 11, 48), UnitPrice=1.63, CustomerID=None, Country='United Kingdom'),\n",
       " Row(InvoiceNo='580610', StockCode='23170', Description='REGENCY TEA PLATE ROSES ', Quantity=1, InvoiceDate=datetime.datetime(2011, 12, 5, 11, 48), UnitPrice=3.29, CustomerID=None, Country='United Kingdom'),\n",
       " Row(InvoiceNo='580610', StockCode='23171', Description='REGENCY TEA PLATE GREEN ', Quantity=1, InvoiceDate=datetime.datetime(2011, 12, 5, 11, 48), UnitPrice=3.29, CustomerID=None, Country='United Kingdom'),\n",
       " Row(InvoiceNo='580610', StockCode='23172', Description='REGENCY TEA PLATE PINK', Quantity=2, InvoiceDate=datetime.datetime(2011, 12, 5, 11, 48), UnitPrice=3.29, CustomerID=None, Country='United Kingdom'),\n",
       " Row(InvoiceNo='580610', StockCode='23173', Description='REGENCY TEAPOT ROSES ', Quantity=2, InvoiceDate=datetime.datetime(2011, 12, 5, 11, 48), UnitPrice=19.96, CustomerID=None, Country='United Kingdom'),\n",
       " Row(InvoiceNo='580610', StockCode='23174', Description='REGENCY SUGAR BOWL GREEN', Quantity=1, InvoiceDate=datetime.datetime(2011, 12, 5, 11, 48), UnitPrice=8.29, CustomerID=None, Country='United Kingdom'),\n",
       " Row(InvoiceNo='580610', StockCode='23175', Description='REGENCY MILK JUG PINK ', Quantity=1, InvoiceDate=datetime.datetime(2011, 12, 5, 11, 48), UnitPrice=7.46, CustomerID=None, Country='United Kingdom'),\n",
       " Row(InvoiceNo='580610', StockCode='23182', Description='TOILET SIGN OCCUPIED OR VACANT', Quantity=1, InvoiceDate=datetime.datetime(2011, 12, 5, 11, 48), UnitPrice=2.5, CustomerID=None, Country='United Kingdom'),\n",
       " Row(InvoiceNo='580610', StockCode='23196', Description='VINTAGE LEAF MAGNETIC NOTEPAD', Quantity=3, InvoiceDate=datetime.datetime(2011, 12, 5, 11, 48), UnitPrice=3.29, CustomerID=None, Country='United Kingdom'),\n",
       " Row(InvoiceNo='580610', StockCode='23197', Description='SKETCHBOOK MAGNETIC SHOPPING LIST', Quantity=2, InvoiceDate=datetime.datetime(2011, 12, 5, 11, 48), UnitPrice=3.29, CustomerID=None, Country='United Kingdom'),\n",
       " Row(InvoiceNo='580610', StockCode='23199', Description='JUMBO BAG APPLES', Quantity=4, InvoiceDate=datetime.datetime(2011, 12, 5, 11, 48), UnitPrice=4.13, CustomerID=None, Country='United Kingdom'),\n",
       " Row(InvoiceNo='580610', StockCode='23201', Description='JUMBO BAG ALPHABET', Quantity=3, InvoiceDate=datetime.datetime(2011, 12, 5, 11, 48), UnitPrice=4.13, CustomerID=None, Country='United Kingdom'),\n",
       " Row(InvoiceNo='580610', StockCode='23234', Description='BISCUIT TIN VINTAGE CHRISTMAS', Quantity=2, InvoiceDate=datetime.datetime(2011, 12, 5, 11, 48), UnitPrice=5.79, CustomerID=None, Country='United Kingdom'),\n",
       " Row(InvoiceNo='580610', StockCode='23240', Description='SET OF 4 KNICK KNACK TINS DOILY ', Quantity=2, InvoiceDate=datetime.datetime(2011, 12, 5, 11, 48), UnitPrice=8.29, CustomerID=None, Country='United Kingdom'),\n",
       " Row(InvoiceNo='580610', StockCode='23241', Description='TREASURE TIN GYMKHANA DESIGN', Quantity=1, InvoiceDate=datetime.datetime(2011, 12, 5, 11, 48), UnitPrice=4.13, CustomerID=None, Country='United Kingdom'),\n",
       " Row(InvoiceNo='580610', StockCode='23242', Description='TREASURE TIN BUFFALO BILL ', Quantity=1, InvoiceDate=datetime.datetime(2011, 12, 5, 11, 48), UnitPrice=4.13, CustomerID=None, Country='United Kingdom'),\n",
       " Row(InvoiceNo='580610', StockCode='23243', Description='SET OF TEA COFFEE SUGAR TINS PANTRY', Quantity=1, InvoiceDate=datetime.datetime(2011, 12, 5, 11, 48), UnitPrice=10.79, CustomerID=None, Country='United Kingdom'),\n",
       " Row(InvoiceNo='580610', StockCode='23245', Description='SET OF 3 REGENCY CAKE TINS', Quantity=8, InvoiceDate=datetime.datetime(2011, 12, 5, 11, 48), UnitPrice=10.79, CustomerID=None, Country='United Kingdom'),\n",
       " Row(InvoiceNo='580610', StockCode='23283', Description='DOORMAT VINTAGE LEAF', Quantity=1, InvoiceDate=datetime.datetime(2011, 12, 5, 11, 48), UnitPrice=15.79, CustomerID=None, Country='United Kingdom'),\n",
       " Row(InvoiceNo='580610', StockCode='23284', Description='DOORMAT KEEP CALM AND COME IN', Quantity=3, InvoiceDate=datetime.datetime(2011, 12, 5, 11, 48), UnitPrice=15.79, CustomerID=None, Country='United Kingdom'),\n",
       " Row(InvoiceNo='580610', StockCode='23293', Description='SET OF 12 FAIRY CAKE BAKING CASES', Quantity=1, InvoiceDate=datetime.datetime(2011, 12, 5, 11, 48), UnitPrice=2.46, CustomerID=None, Country='United Kingdom'),\n",
       " Row(InvoiceNo='580610', StockCode='23298', Description='SPOTTY BUNTING', Quantity=1, InvoiceDate=datetime.datetime(2011, 12, 5, 11, 48), UnitPrice=10.79, CustomerID=None, Country='United Kingdom'),\n",
       " Row(InvoiceNo='580610', StockCode='23300', Description='GARDENERS KNEELING PAD CUP OF TEA ', Quantity=4, InvoiceDate=datetime.datetime(2011, 12, 5, 11, 48), UnitPrice=3.29, CustomerID=None, Country='United Kingdom'),\n",
       " Row(InvoiceNo='580610', StockCode='23301', Description='GARDENERS KNEELING PAD KEEP CALM ', Quantity=37, InvoiceDate=datetime.datetime(2011, 12, 5, 11, 48), UnitPrice=3.29, CustomerID=None, Country='United Kingdom'),\n",
       " Row(InvoiceNo='580610', StockCode='23311', Description='VINTAGE CHRISTMAS STOCKING ', Quantity=5, InvoiceDate=datetime.datetime(2011, 12, 5, 11, 48), UnitPrice=4.96, CustomerID=None, Country='United Kingdom'),\n",
       " Row(InvoiceNo='580610', StockCode='23328', Description='SET 6 SCHOOL MILK BOTTLES IN CRATE', Quantity=7, InvoiceDate=datetime.datetime(2011, 12, 5, 11, 48), UnitPrice=7.46, CustomerID=None, Country='United Kingdom'),\n",
       " Row(InvoiceNo='580610', StockCode='23341', Description='PINK DINER WALL CLOCK', Quantity=1, InvoiceDate=datetime.datetime(2011, 12, 5, 11, 48), UnitPrice=16.63, CustomerID=None, Country='United Kingdom'),\n",
       " Row(InvoiceNo='580610', StockCode='23343', Description='JUMBO BAG VINTAGE CHRISTMAS ', Quantity=4, InvoiceDate=datetime.datetime(2011, 12, 5, 11, 48), UnitPrice=4.13, CustomerID=None, Country='United Kingdom'),\n",
       " Row(InvoiceNo='580610', StockCode='23344', Description=\"JUMBO BAG 50'S CHRISTMAS \", Quantity=8, InvoiceDate=datetime.datetime(2011, 12, 5, 11, 48), UnitPrice=4.13, CustomerID=None, Country='United Kingdom'),\n",
       " Row(InvoiceNo='580610', StockCode='23349', Description='ROLL WRAP VINTAGE CHRISTMAS', Quantity=14, InvoiceDate=datetime.datetime(2011, 12, 5, 11, 48), UnitPrice=2.46, CustomerID=None, Country='United Kingdom'),\n",
       " Row(InvoiceNo='580610', StockCode='23350', Description='ROLL WRAP VINTAGE SPOT ', Quantity=3, InvoiceDate=datetime.datetime(2011, 12, 5, 11, 48), UnitPrice=2.46, CustomerID=None, Country='United Kingdom'),\n",
       " Row(InvoiceNo='580610', StockCode='23351', Description=\"ROLL WRAP 50'S CHRISTMAS\", Quantity=26, InvoiceDate=datetime.datetime(2011, 12, 5, 11, 48), UnitPrice=2.46, CustomerID=None, Country='United Kingdom'),\n",
       " Row(InvoiceNo='580610', StockCode='23352', Description=\"ROLL WRAP 50'S RED CHRISTMAS \", Quantity=10, InvoiceDate=datetime.datetime(2011, 12, 5, 11, 48), UnitPrice=2.46, CustomerID=None, Country='United Kingdom'),\n",
       " Row(InvoiceNo='580610', StockCode='23353', Description='6 GIFT TAGS VINTAGE CHRISTMAS ', Quantity=1, InvoiceDate=datetime.datetime(2011, 12, 5, 11, 48), UnitPrice=1.63, CustomerID=None, Country='United Kingdom'),\n",
       " Row(InvoiceNo='580610', StockCode='23354', Description=\"6 GIFT TAGS 50'S CHRISTMAS \", Quantity=12, InvoiceDate=datetime.datetime(2011, 12, 5, 11, 48), UnitPrice=1.63, CustomerID=None, Country='United Kingdom'),\n",
       " Row(InvoiceNo='580610', StockCode='23366', Description='SET 12 COLOURING PENCILS DOILY', Quantity=1, InvoiceDate=datetime.datetime(2011, 12, 5, 11, 48), UnitPrice=1.25, CustomerID=None, Country='United Kingdom'),\n",
       " Row(InvoiceNo='580610', StockCode='23368', Description='SET 12 COLOUR PENCILS DOLLY GIRL ', Quantity=1, InvoiceDate=datetime.datetime(2011, 12, 5, 11, 48), UnitPrice=1.25, CustomerID=None, Country='United Kingdom'),\n",
       " Row(InvoiceNo='580610', StockCode='23370', Description='SET 36 COLOURING PENCILS DOILY', Quantity=1, InvoiceDate=datetime.datetime(2011, 12, 5, 11, 48), UnitPrice=1.25, CustomerID=None, Country='United Kingdom'),\n",
       " Row(InvoiceNo='580610', StockCode='23371', Description='SET 36 COLOUR PENCILS SPACEBOY ', Quantity=1, InvoiceDate=datetime.datetime(2011, 12, 5, 11, 48), UnitPrice=1.25, CustomerID=None, Country='United Kingdom'),\n",
       " Row(InvoiceNo='580610', StockCode='23382', Description='BOX OF 6 CHRISTMAS CAKE DECORATIONS', Quantity=6, InvoiceDate=datetime.datetime(2011, 12, 5, 11, 48), UnitPrice=7.46, CustomerID=None, Country='United Kingdom'),\n",
       " Row(InvoiceNo='580610', StockCode='23388', Description='WOODLAND MINI BACKPACK', Quantity=1, InvoiceDate=datetime.datetime(2011, 12, 5, 11, 48), UnitPrice=8.29, CustomerID=None, Country='United Kingdom'),\n",
       " Row(InvoiceNo='580610', StockCode='23393', Description='HOME SWEET HOME CUSHION COVER ', Quantity=1, InvoiceDate=datetime.datetime(2011, 12, 5, 11, 48), UnitPrice=10.79, CustomerID=None, Country='United Kingdom'),\n",
       " Row(InvoiceNo='580610', StockCode='23394', Description='POSTE FRANCE CUSHION COVER', Quantity=1, InvoiceDate=datetime.datetime(2011, 12, 5, 11, 48), UnitPrice=10.79, CustomerID=None, Country='United Kingdom'),\n",
       " Row(InvoiceNo='580610', StockCode='23439', Description='HAND WARMER RED LOVE HEART', Quantity=1, InvoiceDate=datetime.datetime(2011, 12, 5, 11, 48), UnitPrice=4.13, CustomerID=None, Country='United Kingdom'),\n",
       " Row(InvoiceNo='580610', StockCode='23461', Description='SWEETHEART BIRD HOUSE', Quantity=1, InvoiceDate=datetime.datetime(2011, 12, 5, 11, 48), UnitPrice=8.29, CustomerID=None, Country='United Kingdom'),\n",
       " Row(InvoiceNo='580610', StockCode='23480', Description='MINI LIGHTS WOODLAND MUSHROOMS', Quantity=1, InvoiceDate=datetime.datetime(2011, 12, 5, 11, 48), UnitPrice=7.46, CustomerID=None, Country='United Kingdom'),\n",
       " Row(InvoiceNo='580610', StockCode='23493', Description='VINTAGE DOILY TRAVEL SEWING KIT', Quantity=4, InvoiceDate=datetime.datetime(2011, 12, 5, 11, 48), UnitPrice=3.29, CustomerID=None, Country='United Kingdom'),\n",
       " Row(InvoiceNo='580610', StockCode='23510', Description='MINI PLAYING CARDS GYMKHANA', Quantity=1, InvoiceDate=datetime.datetime(2011, 12, 5, 11, 48), UnitPrice=0.83, CustomerID=None, Country='United Kingdom'),\n",
       " Row(InvoiceNo='580610', StockCode='23535', Description='WALL ART BICYCLE SAFETY', Quantity=2, InvoiceDate=datetime.datetime(2011, 12, 5, 11, 48), UnitPrice=12.46, CustomerID=None, Country='United Kingdom'),\n",
       " Row(InvoiceNo='580610', StockCode='23559', Description='WOODLAND BUNNIES LOLLY MAKERS', Quantity=1, InvoiceDate=datetime.datetime(2011, 12, 5, 11, 48), UnitPrice=4.13, CustomerID=None, Country='United Kingdom'),\n",
       " Row(InvoiceNo='580610', StockCode='23564', Description='EGG CUP MILKMAID INGRID', Quantity=1, InvoiceDate=datetime.datetime(2011, 12, 5, 11, 48), UnitPrice=2.46, CustomerID=None, Country='United Kingdom'),\n",
       " Row(InvoiceNo='580610', StockCode='23566', Description='EGG CUP MILKMAID HEIDI', Quantity=1, InvoiceDate=datetime.datetime(2011, 12, 5, 11, 48), UnitPrice=2.46, CustomerID=None, Country='United Kingdom'),\n",
       " Row(InvoiceNo='580610', StockCode='47559b', Description='TEA TIME OVEN GLOVE', Quantity=1, InvoiceDate=datetime.datetime(2011, 12, 5, 11, 48), UnitPrice=3.29, CustomerID=None, Country='United Kingdom'),\n",
       " Row(InvoiceNo='580610', StockCode='48116', Description='DOORMAT MULTICOLOUR STRIPE', Quantity=3, InvoiceDate=datetime.datetime(2011, 12, 5, 11, 48), UnitPrice=14.13, CustomerID=None, Country='United Kingdom'),\n",
       " Row(InvoiceNo='580610', StockCode='48138', Description='DOORMAT UNION FLAG', Quantity=1, InvoiceDate=datetime.datetime(2011, 12, 5, 11, 48), UnitPrice=14.13, CustomerID=None, Country='United Kingdom'),\n",
       " Row(InvoiceNo='580610', StockCode='48194', Description='DOORMAT HEARTS', Quantity=2, InvoiceDate=datetime.datetime(2011, 12, 5, 11, 48), UnitPrice=14.13, CustomerID=None, Country='United Kingdom'),\n",
       " Row(InvoiceNo='580610', StockCode='70006', Description='LOVE HEART POCKET WARMER', Quantity=2, InvoiceDate=datetime.datetime(2011, 12, 5, 11, 48), UnitPrice=3.29, CustomerID=None, Country='United Kingdom'),\n",
       " Row(InvoiceNo='580610', StockCode='71053', Description='WHITE MOROCCAN METAL LANTERN', Quantity=1, InvoiceDate=datetime.datetime(2011, 12, 5, 11, 48), UnitPrice=8.29, CustomerID=None, Country='United Kingdom'),\n",
       " Row(InvoiceNo='580610', StockCode='72349b', Description='SET/6 PURPLE BUTTERFLY T-LIGHTS', Quantity=3, InvoiceDate=datetime.datetime(2011, 12, 5, 11, 48), UnitPrice=4.13, CustomerID=None, Country='United Kingdom'),\n",
       " Row(InvoiceNo='580610', StockCode='72801d', Description='4 SKY BLUE DINNER CANDLES', Quantity=1, InvoiceDate=datetime.datetime(2011, 12, 5, 11, 48), UnitPrice=2.46, CustomerID=None, Country='United Kingdom'),\n",
       " Row(InvoiceNo='580610', StockCode='79321', Description='CHILLI LIGHTS', Quantity=6, InvoiceDate=datetime.datetime(2011, 12, 5, 11, 48), UnitPrice=12.46, CustomerID=None, Country='United Kingdom'),\n",
       " Row(InvoiceNo='580610', StockCode='82001s', Description='SILVER RECORD COVER FRAME', Quantity=9, InvoiceDate=datetime.datetime(2011, 12, 5, 11, 48), UnitPrice=7.46, CustomerID=None, Country='United Kingdom'),\n",
       " Row(InvoiceNo='580610', StockCode='82482', Description='WOODEN PICTURE FRAME WHITE FINISH', Quantity=3, InvoiceDate=datetime.datetime(2011, 12, 5, 11, 48), UnitPrice=4.96, CustomerID=None, Country='United Kingdom'),\n",
       " Row(InvoiceNo='580610', StockCode='82494l', Description='WOODEN FRAME ANTIQUE WHITE ', Quantity=5, InvoiceDate=datetime.datetime(2011, 12, 5, 11, 48), UnitPrice=8.29, CustomerID=None, Country='United Kingdom'),\n",
       " Row(InvoiceNo='580610', StockCode='82551', Description='LAUNDRY 15C METAL SIGN', Quantity=1, InvoiceDate=datetime.datetime(2011, 12, 5, 11, 48), UnitPrice=2.46, CustomerID=None, Country='United Kingdom'),\n",
       " Row(InvoiceNo='580610', StockCode='82552', Description='WASHROOM METAL SIGN', Quantity=1, InvoiceDate=datetime.datetime(2011, 12, 5, 11, 48), UnitPrice=2.46, CustomerID=None, Country='United Kingdom'),\n",
       " Row(InvoiceNo='580610', StockCode='82578', Description='KITCHEN METAL SIGN', Quantity=1, InvoiceDate=datetime.datetime(2011, 12, 5, 11, 48), UnitPrice=1.25, CustomerID=None, Country='United Kingdom'),\n",
       " Row(InvoiceNo='580610', StockCode='82580', Description='BATHROOM METAL SIGN', Quantity=4, InvoiceDate=datetime.datetime(2011, 12, 5, 11, 48), UnitPrice=1.25, CustomerID=None, Country='United Kingdom'),\n",
       " Row(InvoiceNo='580610', StockCode='82600', Description='N0 SINGING METAL SIGN', Quantity=2, InvoiceDate=datetime.datetime(2011, 12, 5, 11, 48), UnitPrice=4.13, CustomerID=None, Country='United Kingdom'),\n",
       " Row(InvoiceNo='580610', StockCode='84032A', Description='CHARLIE+LOLA PINK HOT WATER BOTTLE', Quantity=3, InvoiceDate=datetime.datetime(2011, 12, 5, 11, 48), UnitPrice=5.79, CustomerID=None, Country='United Kingdom'),\n",
       " Row(InvoiceNo='580610', StockCode='84032B', Description='CHARLIE + LOLA RED HOT WATER BOTTLE', Quantity=2, InvoiceDate=datetime.datetime(2011, 12, 5, 11, 48), UnitPrice=3.29, CustomerID=None, Country='United Kingdom'),\n",
       " Row(InvoiceNo='580610', StockCode='84375', Description='SET OF 20 KIDS COOKIE CUTTERS', Quantity=2, InvoiceDate=datetime.datetime(2011, 12, 5, 11, 48), UnitPrice=4.13, CustomerID=None, Country='United Kingdom'),\n",
       " Row(InvoiceNo='580610', StockCode='84509a', Description='SET OF 4 ENGLISH ROSE PLACEMATS', Quantity=1, InvoiceDate=datetime.datetime(2011, 12, 5, 11, 48), UnitPrice=7.46, CustomerID=None, Country='United Kingdom'),\n",
       " Row(InvoiceNo='580610', StockCode='84509c', Description='SET OF 4 POLKADOT PLACEMATS ', Quantity=3, InvoiceDate=datetime.datetime(2011, 12, 5, 11, 48), UnitPrice=7.46, CustomerID=None, Country='United Kingdom'),\n",
       " Row(InvoiceNo='580610', StockCode='84510c', Description='SET OF 4 POLKADOT COASTERS', Quantity=3, InvoiceDate=datetime.datetime(2011, 12, 5, 11, 48), UnitPrice=2.46, CustomerID=None, Country='United Kingdom'),\n",
       " Row(InvoiceNo='580610', StockCode='84596f', Description='SMALL MARSHMALLOWS PINK BOWL', Quantity=1, InvoiceDate=datetime.datetime(2011, 12, 5, 11, 48), UnitPrice=2.46, CustomerID=None, Country='United Kingdom'),\n",
       " Row(InvoiceNo='580610', StockCode='84970l', Description='SINGLE HEART ZINC T-LIGHT HOLDER', Quantity=2, InvoiceDate=datetime.datetime(2011, 12, 5, 11, 48), UnitPrice=2.08, CustomerID=None, Country='United Kingdom'),\n",
       " Row(InvoiceNo='580610', StockCode='84970s', Description='HANGING HEART ZINC T-LIGHT HOLDER', Quantity=4, InvoiceDate=datetime.datetime(2011, 12, 5, 11, 48), UnitPrice=2.08, CustomerID=None, Country='United Kingdom'),\n",
       " Row(InvoiceNo='580610', StockCode='84997a', Description='CHILDRENS CUTLERY POLKADOT GREEN ', Quantity=2, InvoiceDate=datetime.datetime(2011, 12, 5, 11, 48), UnitPrice=8.29, CustomerID=None, Country='United Kingdom'),\n",
       " Row(InvoiceNo='580610', StockCode='84997b', Description='CHILDRENS CUTLERY RETROSPOT RED ', Quantity=1, InvoiceDate=datetime.datetime(2011, 12, 5, 11, 48), UnitPrice=8.29, CustomerID=None, Country='United Kingdom'),\n",
       " Row(InvoiceNo='580610', StockCode='84997d', Description='CHILDRENS CUTLERY POLKADOT PINK', Quantity=1, InvoiceDate=datetime.datetime(2011, 12, 5, 11, 48), UnitPrice=8.29, CustomerID=None, Country='United Kingdom'),\n",
       " Row(InvoiceNo='580610', StockCode='85048', Description='15CM CHRISTMAS GLASS BALL 20 LIGHTS', Quantity=4, InvoiceDate=datetime.datetime(2011, 12, 5, 11, 48), UnitPrice=16.63, CustomerID=None, Country='United Kingdom'),\n",
       " Row(InvoiceNo='580610', StockCode='85049a', Description='TRADITIONAL CHRISTMAS RIBBONS', Quantity=11, InvoiceDate=datetime.datetime(2011, 12, 5, 11, 48), UnitPrice=3.29, CustomerID=None, Country='United Kingdom'),\n",
       " Row(InvoiceNo='580610', StockCode='85049e', Description='SCANDINAVIAN REDS RIBBONS', Quantity=2, InvoiceDate=datetime.datetime(2011, 12, 5, 11, 48), UnitPrice=3.29, CustomerID=None, Country='United Kingdom'),\n",
       " Row(InvoiceNo='580610', StockCode='85099B', Description='JUMBO BAG RED RETROSPOT', Quantity=4, InvoiceDate=datetime.datetime(2011, 12, 5, 11, 48), UnitPrice=4.13, CustomerID=None, Country='United Kingdom'),\n",
       " Row(InvoiceNo='580610', StockCode='85099C', Description='JUMBO  BAG BAROQUE BLACK WHITE', Quantity=3, InvoiceDate=datetime.datetime(2011, 12, 5, 11, 48), UnitPrice=4.13, CustomerID=None, Country='United Kingdom'),\n",
       " Row(InvoiceNo='580610', StockCode='85114c', Description='RED ENCHANTED FOREST PLACEMAT', Quantity=6, InvoiceDate=datetime.datetime(2011, 12, 5, 11, 48), UnitPrice=3.29, CustomerID=None, Country='United Kingdom'),\n",
       " Row(InvoiceNo='580610', StockCode='85123a', Description='WHITE HANGING HEART T-LIGHT HOLDER', Quantity=12, InvoiceDate=datetime.datetime(2011, 12, 5, 11, 48), UnitPrice=6.63, CustomerID=None, Country='United Kingdom'),\n",
       " Row(InvoiceNo='580610', StockCode='85127', Description='SMALL SQUARE CUT GLASS CANDLESTICK', Quantity=1, InvoiceDate=datetime.datetime(2011, 12, 5, 11, 48), UnitPrice=9.96, CustomerID=None, Country='United Kingdom'),\n",
       " Row(InvoiceNo='580610', StockCode='85174', Description='S/4 CACTI CANDLES', Quantity=1, InvoiceDate=datetime.datetime(2011, 12, 5, 11, 48), UnitPrice=10.79, CustomerID=None, Country='United Kingdom'),\n",
       " Row(InvoiceNo='580610', StockCode='85176', Description='SEWING SUSAN 21 NEEDLE SET', Quantity=1, InvoiceDate=datetime.datetime(2011, 12, 5, 11, 48), UnitPrice=1.63, CustomerID=None, Country='United Kingdom'),\n",
       " Row(InvoiceNo='580610', StockCode='DOT', Description='DOTCOM POSTAGE', Quantity=1, InvoiceDate=datetime.datetime(2011, 12, 5, 11, 48), UnitPrice=2196.67, CustomerID=None, Country='United Kingdom'),\n",
       " Row(InvoiceNo='580610', StockCode='22927', Description='GREEN GIANT GARDEN THERMOMETER', Quantity=1, InvoiceDate=datetime.datetime(2011, 12, 5, 11, 48), UnitPrice=11.63, CustomerID=None, Country='United Kingdom'),\n",
       " Row(InvoiceNo='580611', StockCode='M', Description='Manual', Quantity=1, InvoiceDate=datetime.datetime(2011, 12, 5, 11, 49), UnitPrice=0.85, CustomerID=12748.0, Country='United Kingdom'),\n",
       " Row(InvoiceNo='580611', StockCode='21034', Description='REX CASH+CARRY JUMBO SHOPPER', Quantity=10, InvoiceDate=datetime.datetime(2011, 12, 5, 11, 49), UnitPrice=0.95, CustomerID=12748.0, Country='United Kingdom'),\n",
       " Row(InvoiceNo='580611', StockCode='21034', Description='REX CASH+CARRY JUMBO SHOPPER', Quantity=1, InvoiceDate=datetime.datetime(2011, 12, 5, 11, 49), UnitPrice=0.95, CustomerID=12748.0, Country='United Kingdom'),\n",
       " Row(InvoiceNo='580611', StockCode='23077', Description='DOUGHNUT LIP GLOSS ', Quantity=20, InvoiceDate=datetime.datetime(2011, 12, 5, 11, 49), UnitPrice=1.25, CustomerID=12748.0, Country='United Kingdom'),\n",
       " Row(InvoiceNo='580611', StockCode='22111', Description='SCOTTIE DOG HOT WATER BOTTLE', Quantity=1, InvoiceDate=datetime.datetime(2011, 12, 5, 11, 49), UnitPrice=4.95, CustomerID=12748.0, Country='United Kingdom'),\n",
       " Row(InvoiceNo='580611', StockCode='23356', Description='LOVE HOT WATER BOTTLE', Quantity=1, InvoiceDate=datetime.datetime(2011, 12, 5, 11, 49), UnitPrice=5.95, CustomerID=12748.0, Country='United Kingdom'),\n",
       " Row(InvoiceNo='580611', StockCode='21479', Description='WHITE SKULL HOT WATER BOTTLE ', Quantity=1, InvoiceDate=datetime.datetime(2011, 12, 5, 11, 49), UnitPrice=4.25, CustomerID=12748.0, Country='United Kingdom'),\n",
       " Row(InvoiceNo='580611', StockCode='84558A', Description='3D DOG PICTURE PLAYING CARDS', Quantity=1, InvoiceDate=datetime.datetime(2011, 12, 5, 11, 49), UnitPrice=2.95, CustomerID=12748.0, Country='United Kingdom'),\n",
       " Row(InvoiceNo='580611', StockCode='23501', Description='KEY RING BASEBALL BOOT UNION JACK', Quantity=1, InvoiceDate=datetime.datetime(2011, 12, 5, 11, 49), UnitPrice=1.25, CustomerID=12748.0, Country='United Kingdom'),\n",
       " Row(InvoiceNo='580611', StockCode='16225', Description='RATTLE SNAKE EGGS', Quantity=3, InvoiceDate=datetime.datetime(2011, 12, 5, 11, 49), UnitPrice=0.39, CustomerID=12748.0, Country='United Kingdom'),\n",
       " Row(InvoiceNo='580611', StockCode='21592', Description='RETROSPOT CIGAR BOX MATCHES ', Quantity=1, InvoiceDate=datetime.datetime(2011, 12, 5, 11, 49), UnitPrice=0.39, CustomerID=12748.0, Country='United Kingdom'),\n",
       " Row(InvoiceNo='580611', StockCode='23501', Description='KEY RING BASEBALL BOOT UNION JACK', Quantity=5, InvoiceDate=datetime.datetime(2011, 12, 5, 11, 49), UnitPrice=1.25, CustomerID=12748.0, Country='United Kingdom'),\n",
       " Row(InvoiceNo='580611', StockCode='21588', Description='RETROSPOT GIANT TUBE MATCHES', Quantity=2, InvoiceDate=datetime.datetime(2011, 12, 5, 11, 49), UnitPrice=2.55, CustomerID=12748.0, Country='United Kingdom'),\n",
       " Row(InvoiceNo='580611', StockCode='22495', Description='SET OF 2 ROUND TINS CAMEMBERT ', Quantity=1, InvoiceDate=datetime.datetime(2011, 12, 5, 11, 49), UnitPrice=0.79, CustomerID=12748.0, Country='United Kingdom'),\n",
       " Row(InvoiceNo='580611', StockCode='15039', Description='SANDALWOOD FAN', Quantity=1, InvoiceDate=datetime.datetime(2011, 12, 5, 11, 49), UnitPrice=0.85, CustomerID=12748.0, Country='United Kingdom'),\n",
       " Row(InvoiceNo='580611', StockCode='23370', Description='SET 36 COLOURING PENCILS DOILY', Quantity=1, InvoiceDate=datetime.datetime(2011, 12, 5, 11, 49), UnitPrice=1.25, CustomerID=12748.0, Country='United Kingdom'),\n",
       " Row(InvoiceNo='580611', StockCode='22327', Description='ROUND SNACK BOXES SET OF 4 SKULLS', Quantity=1, InvoiceDate=datetime.datetime(2011, 12, 5, 11, 49), UnitPrice=2.95, CustomerID=12748.0, Country='United Kingdom'),\n",
       " Row(InvoiceNo='580611', StockCode='21918', Description='SET 12 KIDS COLOUR  CHALK STICKS', Quantity=1, InvoiceDate=datetime.datetime(2011, 12, 5, 11, 49), UnitPrice=0.42, CustomerID=12748.0, Country='United Kingdom'),\n",
       " Row(InvoiceNo='580611', StockCode='22556', Description='PLASTERS IN TIN CIRCUS PARADE ', Quantity=1, InvoiceDate=datetime.datetime(2011, 12, 5, 11, 49), UnitPrice=1.65, CustomerID=12748.0, Country='United Kingdom'),\n",
       " Row(InvoiceNo='580611', StockCode='22185', Description='SLATE TILE NATURAL HANGING', Quantity=2, InvoiceDate=datetime.datetime(2011, 12, 5, 11, 49), UnitPrice=0.79, CustomerID=12748.0, Country='United Kingdom'),\n",
       " Row(InvoiceNo='580611', StockCode='23128', Description='FELTCRAFT BOY JEAN-PAUL KIT', Quantity=1, InvoiceDate=datetime.datetime(2011, 12, 5, 11, 49), UnitPrice=4.95, CustomerID=12748.0, Country='United Kingdom'),\n",
       " Row(InvoiceNo='580611', StockCode='22731', Description='3D CHRISTMAS STAMPS STICKERS ', Quantity=2, InvoiceDate=datetime.datetime(2011, 12, 5, 11, 49), UnitPrice=1.25, CustomerID=12748.0, Country='United Kingdom'),\n",
       " Row(InvoiceNo='580611', StockCode='22734', Description='SET OF 6 RIBBONS VINTAGE CHRISTMAS', Quantity=2, InvoiceDate=datetime.datetime(2011, 12, 5, 11, 49), UnitPrice=2.89, CustomerID=12748.0, Country='United Kingdom'),\n",
       " Row(InvoiceNo='580611', StockCode='23191', Description='BUNDLE OF 3 RETRO NOTE BOOKS', Quantity=1, InvoiceDate=datetime.datetime(2011, 12, 5, 11, 49), UnitPrice=1.65, CustomerID=12748.0, Country='United Kingdom'),\n",
       " Row(InvoiceNo='580611', StockCode='85049G', Description='CHOCOLATE BOX RIBBONS ', Quantity=1, InvoiceDate=datetime.datetime(2011, 12, 5, 11, 49), UnitPrice=1.25, CustomerID=12748.0, Country='United Kingdom'),\n",
       " Row(InvoiceNo='580611', StockCode='23176', Description='ABC TREASURE BOOK BOX ', Quantity=1, InvoiceDate=datetime.datetime(2011, 12, 5, 11, 49), UnitPrice=2.25, CustomerID=12748.0, Country='United Kingdom'),\n",
       " Row(InvoiceNo='580611', StockCode='23177', Description='TREASURE ISLAND BOOK BOX', Quantity=1, InvoiceDate=datetime.datetime(2011, 12, 5, 11, 49), UnitPrice=2.25, CustomerID=12748.0, Country='United Kingdom'),\n",
       " Row(InvoiceNo='580611', StockCode='21894', Description='POTTING SHED SEED ENVELOPES', Quantity=2, InvoiceDate=datetime.datetime(2011, 12, 5, 11, 49), UnitPrice=1.25, CustomerID=12748.0, Country='United Kingdom'),\n",
       " Row(InvoiceNo='580611', StockCode='23347', Description='I LOVE LONDON BEAKER', Quantity=1, InvoiceDate=datetime.datetime(2011, 12, 5, 11, 49), UnitPrice=1.25, CustomerID=12748.0, Country='United Kingdom'),\n",
       " Row(InvoiceNo='580611', StockCode='23346', Description='SPACEBOY BEAKER', Quantity=1, InvoiceDate=datetime.datetime(2011, 12, 5, 11, 49), UnitPrice=1.25, CustomerID=12748.0, Country='United Kingdom'),\n",
       " Row(InvoiceNo='580611', StockCode='23200', Description='JUMBO BAG PEARS', Quantity=1, InvoiceDate=datetime.datetime(2011, 12, 5, 11, 49), UnitPrice=2.08, CustomerID=12748.0, Country='United Kingdom'),\n",
       " Row(InvoiceNo='580611', StockCode='22908', Description='PACK OF 20 NAPKINS RED APPLES', Quantity=1, InvoiceDate=datetime.datetime(2011, 12, 5, 11, 49), UnitPrice=0.85, CustomerID=12748.0, Country='United Kingdom'),\n",
       " Row(InvoiceNo='580611', StockCode='23504', Description='PLAYING CARDS JUBILEE UNION JACK', Quantity=7, InvoiceDate=datetime.datetime(2011, 12, 5, 11, 49), UnitPrice=1.25, CustomerID=12748.0, Country='United Kingdom'),\n",
       " Row(InvoiceNo='580611', StockCode='20727', Description='LUNCH BAG  BLACK SKULL.', Quantity=1, InvoiceDate=datetime.datetime(2011, 12, 5, 11, 49), UnitPrice=1.65, CustomerID=12748.0, Country='United Kingdom'),\n",
       " Row(InvoiceNo='580611', StockCode='22197', Description='POPCORN HOLDER', Quantity=2, InvoiceDate=datetime.datetime(2011, 12, 5, 11, 49), UnitPrice=0.85, CustomerID=12748.0, Country='United Kingdom'),\n",
       " Row(InvoiceNo='580611', StockCode='23504', Description='PLAYING CARDS JUBILEE UNION JACK', Quantity=1, InvoiceDate=datetime.datetime(2011, 12, 5, 11, 49), UnitPrice=1.25, CustomerID=12748.0, Country='United Kingdom'),\n",
       " Row(InvoiceNo='580611', StockCode='22267', Description='EASTER DECORATION EGG BUNNY ', Quantity=1, InvoiceDate=datetime.datetime(2011, 12, 5, 11, 49), UnitPrice=0.39, CustomerID=12748.0, Country='United Kingdom'),\n",
       " Row(InvoiceNo='580611', StockCode='21479', Description='WHITE SKULL HOT WATER BOTTLE ', Quantity=1, InvoiceDate=datetime.datetime(2011, 12, 5, 11, 49), UnitPrice=4.25, CustomerID=12748.0, Country='United Kingdom'),\n",
       " Row(InvoiceNo='580611', StockCode='23356', Description='LOVE HOT WATER BOTTLE', Quantity=1, InvoiceDate=datetime.datetime(2011, 12, 5, 11, 49), UnitPrice=5.95, CustomerID=12748.0, Country='United Kingdom'),\n",
       " Row(InvoiceNo='580611', StockCode='22493', Description='PAINT YOUR OWN CANVAS SET', Quantity=1, InvoiceDate=datetime.datetime(2011, 12, 5, 11, 49), UnitPrice=1.65, CustomerID=12748.0, Country='United Kingdom'),\n",
       " Row(InvoiceNo='580611', StockCode='22990', Description='COTTON APRON PANTRY DESIGN', Quantity=1, InvoiceDate=datetime.datetime(2011, 12, 5, 11, 49), UnitPrice=1.95, CustomerID=12748.0, Country='United Kingdom'),\n",
       " Row(InvoiceNo='580611', StockCode='20727', Description='LUNCH BAG  BLACK SKULL.', Quantity=1, InvoiceDate=datetime.datetime(2011, 12, 5, 11, 49), UnitPrice=1.65, CustomerID=12748.0, Country='United Kingdom'),\n",
       " Row(InvoiceNo='580611', StockCode='22100', Description='SKULLS SQUARE TISSUE BOX', Quantity=1, InvoiceDate=datetime.datetime(2011, 12, 5, 11, 49), UnitPrice=0.39, CustomerID=12748.0, Country='United Kingdom'),\n",
       " Row(InvoiceNo='580611', StockCode='21306', Description='SET/4 DAISY MIRROR MAGNETS', Quantity=1, InvoiceDate=datetime.datetime(2011, 12, 5, 11, 49), UnitPrice=0.29, CustomerID=12748.0, Country='United Kingdom'),\n",
       " Row(InvoiceNo='580611', StockCode='23206', Description='LUNCH BAG APPLE DESIGN', Quantity=2, InvoiceDate=datetime.datetime(2011, 12, 5, 11, 49), UnitPrice=1.65, CustomerID=12748.0, Country='United Kingdom'),\n",
       " Row(InvoiceNo='580611', StockCode='21504', Description='SKULLS GREETING CARD', Quantity=12, InvoiceDate=datetime.datetime(2011, 12, 5, 11, 49), UnitPrice=0.42, CustomerID=12748.0, Country='United Kingdom'),\n",
       " Row(InvoiceNo='580611', StockCode='21557', Description='SET OF 6 FUNKY BEAKERS', Quantity=1, InvoiceDate=datetime.datetime(2011, 12, 5, 11, 49), UnitPrice=2.95, CustomerID=12748.0, Country='United Kingdom'),\n",
       " Row(InvoiceNo='580611', StockCode='22395', Description='PAPERWEIGHT VINTAGE PAISLEY', Quantity=4, InvoiceDate=datetime.datetime(2011, 12, 5, 11, 49), UnitPrice=0.39, CustomerID=12748.0, Country='United Kingdom'),\n",
       " Row(InvoiceNo='580611', StockCode='23198', Description='PANTRY MAGNETIC  SHOPPING LIST', Quantity=2, InvoiceDate=datetime.datetime(2011, 12, 5, 11, 49), UnitPrice=1.45, CustomerID=12748.0, Country='United Kingdom'),\n",
       " Row(InvoiceNo='580611', StockCode='23282', Description='FOLDING BUTTERFLY MIRROR IVORY ', Quantity=2, InvoiceDate=datetime.datetime(2011, 12, 5, 11, 49), UnitPrice=0.83, CustomerID=12748.0, Country='United Kingdom'),\n",
       " Row(InvoiceNo='580611', StockCode='22197', Description='POPCORN HOLDER', Quantity=10, InvoiceDate=datetime.datetime(2011, 12, 5, 11, 49), UnitPrice=0.85, CustomerID=12748.0, Country='United Kingdom'),\n",
       " Row(InvoiceNo='580611', StockCode='23077', Description='DOUGHNUT LIP GLOSS ', Quantity=20, InvoiceDate=datetime.datetime(2011, 12, 5, 11, 49), UnitPrice=1.25, CustomerID=12748.0, Country='United Kingdom'),\n",
       " Row(InvoiceNo='580611', StockCode='21064', Description='BOOM BOX SPEAKER BOYS', Quantity=1, InvoiceDate=datetime.datetime(2011, 12, 5, 11, 49), UnitPrice=1.25, CustomerID=12748.0, Country='United Kingdom'),\n",
       " Row(InvoiceNo='580611', StockCode='70007', Description='HI TEC ALPINE HAND WARMER', Quantity=2, InvoiceDate=datetime.datetime(2011, 12, 5, 11, 49), UnitPrice=0.79, CustomerID=12748.0, Country='United Kingdom'),\n",
       " Row(InvoiceNo='580611', StockCode='22185', Description='SLATE TILE NATURAL HANGING', Quantity=3, InvoiceDate=datetime.datetime(2011, 12, 5, 11, 49), UnitPrice=0.79, CustomerID=12748.0, Country='United Kingdom'),\n",
       " Row(InvoiceNo='580611', StockCode='23552', Description='BICYCLE PUNCTURE REPAIR KIT ', Quantity=2, InvoiceDate=datetime.datetime(2011, 12, 5, 11, 49), UnitPrice=2.08, CustomerID=12748.0, Country='United Kingdom'),\n",
       " Row(InvoiceNo='580611', StockCode='21917', Description='SET 12 KIDS  WHITE CHALK STICKS', Quantity=4, InvoiceDate=datetime.datetime(2011, 12, 5, 11, 49), UnitPrice=0.42, CustomerID=12748.0, Country='United Kingdom'),\n",
       " Row(InvoiceNo='580611', StockCode='23498', Description='CLASSIC BICYCLE CLIPS ', Quantity=2, InvoiceDate=datetime.datetime(2011, 12, 5, 11, 49), UnitPrice=1.45, CustomerID=12748.0, Country='United Kingdom'),\n",
       " Row(InvoiceNo='580611', StockCode='22513', Description='DOORSTOP FOOTBALL DESIGN', Quantity=2, InvoiceDate=datetime.datetime(2011, 12, 5, 11, 49), UnitPrice=0.79, CustomerID=12748.0, Country='United Kingdom'),\n",
       " Row(InvoiceNo='580611', StockCode='22133', Description='PINK LOVE HEART SHAPE CUP', Quantity=4, InvoiceDate=datetime.datetime(2011, 12, 5, 11, 49), UnitPrice=0.85, CustomerID=12748.0, Country='United Kingdom'),\n",
       " Row(InvoiceNo='580611', StockCode='21990', Description='MODERN FLORAL STATIONERY SET', Quantity=1, InvoiceDate=datetime.datetime(2011, 12, 5, 11, 49), UnitPrice=1.25, CustomerID=12748.0, Country='United Kingdom'),\n",
       " Row(InvoiceNo='580611', StockCode='21993', Description='FLORAL FOLK STATIONERY SET', Quantity=1, InvoiceDate=datetime.datetime(2011, 12, 5, 11, 49), UnitPrice=1.25, CustomerID=12748.0, Country='United Kingdom'),\n",
       " Row(InvoiceNo='580611', StockCode='23191', Description='BUNDLE OF 3 RETRO NOTE BOOKS', Quantity=2, InvoiceDate=datetime.datetime(2011, 12, 5, 11, 49), UnitPrice=1.65, CustomerID=12748.0, Country='United Kingdom'),\n",
       " Row(InvoiceNo='580611', StockCode='21263', Description='GREEN GOOSE FEATHER TREE 60CM', Quantity=1, InvoiceDate=datetime.datetime(2011, 12, 5, 11, 49), UnitPrice=1.95, CustomerID=12748.0, Country='United Kingdom'),\n",
       " Row(InvoiceNo='580611', StockCode='22096', Description='PINK PAISLEY SQUARE TISSUE BOX ', Quantity=5, InvoiceDate=datetime.datetime(2011, 12, 5, 11, 49), UnitPrice=0.39, CustomerID=12748.0, Country='United Kingdom'),\n",
       " Row(InvoiceNo='580611', StockCode='21098', Description='CHRISTMAS TOILET ROLL', Quantity=3, InvoiceDate=datetime.datetime(2011, 12, 5, 11, 49), UnitPrice=1.25, CustomerID=12748.0, Country='United Kingdom'),\n",
       " Row(InvoiceNo='580611', StockCode='22093', Description='MOTORING TISSUE BOX', Quantity=5, InvoiceDate=datetime.datetime(2011, 12, 5, 11, 49), UnitPrice=0.39, CustomerID=12748.0, Country='United Kingdom'),\n",
       " Row(InvoiceNo='580611', StockCode='22723', Description='SET OF 6 HERB TINS SKETCHBOOK', Quantity=2, InvoiceDate=datetime.datetime(2011, 12, 5, 11, 49), UnitPrice=1.25, CustomerID=12748.0, Country='United Kingdom'),\n",
       " Row(InvoiceNo='580611', StockCode='23186', Description='FRENCH STYLE STORAGE JAR CAFE ', Quantity=6, InvoiceDate=datetime.datetime(2011, 12, 5, 11, 49), UnitPrice=0.29, CustomerID=12748.0, Country='United Kingdom'),\n",
       " Row(InvoiceNo='580611', StockCode='23200', Description='JUMBO BAG PEARS', Quantity=1, InvoiceDate=datetime.datetime(2011, 12, 5, 11, 49), UnitPrice=2.08, CustomerID=12748.0, Country='United Kingdom'),\n",
       " Row(InvoiceNo='580611', StockCode='23199', Description='JUMBO BAG APPLES', Quantity=1, InvoiceDate=datetime.datetime(2011, 12, 5, 11, 49), UnitPrice=2.08, CustomerID=12748.0, Country='United Kingdom'),\n",
       " Row(InvoiceNo='580611', StockCode='22441', Description='GROW YOUR OWN BASIL IN ENAMEL MUG', Quantity=1, InvoiceDate=datetime.datetime(2011, 12, 5, 11, 49), UnitPrice=2.1, CustomerID=12748.0, Country='United Kingdom'),\n",
       " Row(InvoiceNo='580611', StockCode='21012', Description='ANTIQUE ALL GLASS CANDLESTICK', Quantity=2, InvoiceDate=datetime.datetime(2011, 12, 5, 11, 49), UnitPrice=2.1, CustomerID=12748.0, Country='United Kingdom'),\n",
       " Row(InvoiceNo='580611', StockCode='85123A', Description='WHITE HANGING HEART T-LIGHT HOLDER', Quantity=1, InvoiceDate=datetime.datetime(2011, 12, 5, 11, 49), UnitPrice=2.95, CustomerID=12748.0, Country='United Kingdom'),\n",
       " Row(InvoiceNo='580611', StockCode='21640', Description='ASSORTED TUTTI FRUTTI  FOB NOTEBOOK', Quantity=1, InvoiceDate=datetime.datetime(2011, 12, 5, 11, 49), UnitPrice=0.85, CustomerID=12748.0, Country='United Kingdom'),\n",
       " Row(InvoiceNo='580611', StockCode='35961', Description='FOLKART ZINC HEART CHRISTMAS DEC', Quantity=2, InvoiceDate=datetime.datetime(2011, 12, 5, 11, 49), UnitPrice=0.85, CustomerID=12748.0, Country='United Kingdom'),\n",
       " Row(InvoiceNo='580611', StockCode='22335', Description='HEART DECORATION PAINTED ZINC ', Quantity=2, InvoiceDate=datetime.datetime(2011, 12, 5, 11, 49), UnitPrice=0.65, CustomerID=12748.0, Country='United Kingdom'),\n",
       " Row(InvoiceNo='580611', StockCode='22602', Description='RETROSPOT WOODEN HEART DECORATION', Quantity=1, InvoiceDate=datetime.datetime(2011, 12, 5, 11, 49), UnitPrice=0.85, CustomerID=12748.0, Country='United Kingdom'),\n",
       " Row(InvoiceNo='580611', StockCode='21385', Description='IVORY HANGING DECORATION  HEART', Quantity=2, InvoiceDate=datetime.datetime(2011, 12, 5, 11, 49), UnitPrice=0.85, CustomerID=12748.0, Country='United Kingdom'),\n",
       " Row(InvoiceNo='580611', StockCode='22595', Description='GINGHAM HEART DECORATION', Quantity=2, InvoiceDate=datetime.datetime(2011, 12, 5, 11, 49), UnitPrice=0.85, CustomerID=12748.0, Country='United Kingdom'),\n",
       " Row(InvoiceNo='580611', StockCode='21172', Description='PARTY METAL SIGN ', Quantity=2, InvoiceDate=datetime.datetime(2011, 12, 5, 11, 49), UnitPrice=1.45, CustomerID=12748.0, Country='United Kingdom'),\n",
       " Row(InvoiceNo='580611', StockCode='22465', Description='HANGING METAL STAR LANTERN', Quantity=3, InvoiceDate=datetime.datetime(2011, 12, 5, 11, 49), UnitPrice=0.79, CustomerID=12748.0, Country='United Kingdom'),\n",
       " Row(InvoiceNo='580611', StockCode='21993', Description='FLORAL FOLK STATIONERY SET', Quantity=1, InvoiceDate=datetime.datetime(2011, 12, 5, 11, 49), UnitPrice=1.25, CustomerID=12748.0, Country='United Kingdom'),\n",
       " Row(InvoiceNo='580611', StockCode='22754', Description='SMALL RED BABUSHKA NOTEBOOK ', Quantity=1, InvoiceDate=datetime.datetime(2011, 12, 5, 11, 49), UnitPrice=0.21, CustomerID=12748.0, Country='United Kingdom'),\n",
       " Row(InvoiceNo='580611', StockCode='22757', Description='LARGE RED BABUSHKA NOTEBOOK ', Quantity=1, InvoiceDate=datetime.datetime(2011, 12, 5, 11, 49), UnitPrice=0.39, CustomerID=12748.0, Country='United Kingdom'),\n",
       " Row(InvoiceNo='580611', StockCode='22758', Description='LARGE PURPLE BABUSHKA NOTEBOOK  ', Quantity=2, InvoiceDate=datetime.datetime(2011, 12, 5, 11, 49), UnitPrice=0.39, CustomerID=12748.0, Country='United Kingdom'),\n",
       " Row(InvoiceNo='580611', StockCode='22753', Description='SMALL YELLOW BABUSHKA NOTEBOOK ', Quantity=2, InvoiceDate=datetime.datetime(2011, 12, 5, 11, 49), UnitPrice=0.21, CustomerID=12748.0, Country='United Kingdom'),\n",
       " Row(InvoiceNo='580611', StockCode='20761', Description='BLUE PAISLEY SKETCHBOOK', Quantity=1, InvoiceDate=datetime.datetime(2011, 12, 5, 11, 49), UnitPrice=3.75, CustomerID=12748.0, Country='United Kingdom'),\n",
       " Row(InvoiceNo='580611', StockCode='20772', Description='GARDEN PATH JOURNAL', Quantity=1, InvoiceDate=datetime.datetime(2011, 12, 5, 11, 49), UnitPrice=2.55, CustomerID=12748.0, Country='United Kingdom'),\n",
       " Row(InvoiceNo='580611', StockCode='20768', Description='GREEN FERN JOURNAL ', Quantity=1, InvoiceDate=datetime.datetime(2011, 12, 5, 11, 49), UnitPrice=2.55, CustomerID=12748.0, Country='United Kingdom'),\n",
       " Row(InvoiceNo='580611', StockCode='23103', Description='JINGLE BELL HEART DECORATION', Quantity=1, InvoiceDate=datetime.datetime(2011, 12, 5, 11, 49), UnitPrice=1.65, CustomerID=12748.0, Country='United Kingdom'),\n",
       " Row(InvoiceNo='580611', StockCode='23332', Description='IVORY WICKER HEART LARGE', Quantity=2, InvoiceDate=datetime.datetime(2011, 12, 5, 11, 49), UnitPrice=1.65, CustomerID=12748.0, Country='United Kingdom'),\n",
       " Row(InvoiceNo='580611', StockCode='21463', Description='MIRRORED DISCO BALL ', Quantity=2, InvoiceDate=datetime.datetime(2011, 12, 5, 11, 49), UnitPrice=5.95, CustomerID=12748.0, Country='United Kingdom'),\n",
       " Row(InvoiceNo='580611', StockCode='21640', Description='ASSORTED TUTTI FRUTTI  FOB NOTEBOOK', Quantity=2, InvoiceDate=datetime.datetime(2011, 12, 5, 11, 49), UnitPrice=0.85, CustomerID=12748.0, Country='United Kingdom'),\n",
       " Row(InvoiceNo='580611', StockCode='22152', Description='PLACE SETTING WHITE STAR', Quantity=2, InvoiceDate=datetime.datetime(2011, 12, 5, 11, 49), UnitPrice=0.42, CustomerID=12748.0, Country='United Kingdom'),\n",
       " Row(InvoiceNo='580611', StockCode='22151', Description='PLACE SETTING WHITE HEART', Quantity=4, InvoiceDate=datetime.datetime(2011, 12, 5, 11, 49), UnitPrice=0.42, CustomerID=12748.0, Country='United Kingdom'),\n",
       " Row(InvoiceNo='580611', StockCode='22721', Description='SET OF 3 CAKE TINS SKETCHBOOK', Quantity=2, InvoiceDate=datetime.datetime(2011, 12, 5, 11, 49), UnitPrice=1.95, CustomerID=12748.0, Country='United Kingdom'),\n",
       " Row(InvoiceNo='580611', StockCode='21833', Description='CAMOUFLAGE LED TORCH', Quantity=6, InvoiceDate=datetime.datetime(2011, 12, 5, 11, 49), UnitPrice=1.69, CustomerID=12748.0, Country='United Kingdom'),\n",
       " Row(InvoiceNo='580611', StockCode='85023B', Description='EAU DE NILE JEWELLED PHOTOFRAME', Quantity=1, InvoiceDate=datetime.datetime(2011, 12, 5, 11, 49), UnitPrice=2.55, CustomerID=12748.0, Country='United Kingdom'),\n",
       " Row(InvoiceNo='580611', StockCode='21012', Description='ANTIQUE ALL GLASS CANDLESTICK', Quantity=1, InvoiceDate=datetime.datetime(2011, 12, 5, 11, 49), UnitPrice=2.1, CustomerID=12748.0, Country='United Kingdom'),\n",
       " Row(InvoiceNo='580611', StockCode='23501', Description='KEY RING BASEBALL BOOT UNION JACK', Quantity=20, InvoiceDate=datetime.datetime(2011, 12, 5, 11, 49), UnitPrice=1.25, CustomerID=12748.0, Country='United Kingdom'),\n",
       " Row(InvoiceNo='580611', StockCode='21908', Description='CHOCOLATE THIS WAY METAL SIGN', Quantity=1, InvoiceDate=datetime.datetime(2011, 12, 5, 11, 49), UnitPrice=2.1, CustomerID=12748.0, Country='United Kingdom'),\n",
       " Row(InvoiceNo='580611', StockCode='22499', Description='WOODEN UNION JACK BUNTING', Quantity=1, InvoiceDate=datetime.datetime(2011, 12, 5, 11, 49), UnitPrice=5.95, CustomerID=12748.0, Country='United Kingdom'),\n",
       " Row(InvoiceNo='580611', StockCode='23501', Description='KEY RING BASEBALL BOOT UNION JACK', Quantity=1, InvoiceDate=datetime.datetime(2011, 12, 5, 11, 49), UnitPrice=1.25, CustomerID=12748.0, Country='United Kingdom'),\n",
       " Row(InvoiceNo='580611', StockCode='22197', Description='POPCORN HOLDER', Quantity=7, InvoiceDate=datetime.datetime(2011, 12, 5, 11, 49), UnitPrice=0.85, CustomerID=12748.0, Country='United Kingdom'),\n",
       " Row(InvoiceNo='580611', StockCode='85034C', Description='3 ROSE MORRIS BOXED CANDLES', Quantity=2, InvoiceDate=datetime.datetime(2011, 12, 5, 11, 49), UnitPrice=1.25, CustomerID=12748.0, Country='United Kingdom'),\n",
       " Row(InvoiceNo='580611', StockCode='23239', Description='SET OF 4 KNICK KNACK TINS POPPIES', Quantity=3, InvoiceDate=datetime.datetime(2011, 12, 5, 11, 49), UnitPrice=1.65, CustomerID=12748.0, Country='United Kingdom'),\n",
       " Row(InvoiceNo='580611', StockCode='22442', Description='GROW YOUR OWN FLOWERS SET OF 3', Quantity=6, InvoiceDate=datetime.datetime(2011, 12, 5, 11, 49), UnitPrice=1.95, CustomerID=12748.0, Country='United Kingdom'),\n",
       " Row(InvoiceNo='580612', StockCode='22471', Description='TV DINNER TRAY AIR HOSTESS ', Quantity=1, InvoiceDate=datetime.datetime(2011, 12, 5, 11, 58), UnitPrice=10.79, CustomerID=None, Country='United Kingdom'),\n",
       " Row(InvoiceNo='580612', StockCode='22474', Description='SPACEBOY TV DINNER TRAY', Quantity=2, InvoiceDate=datetime.datetime(2011, 12, 5, 11, 58), UnitPrice=10.79, CustomerID=None, Country='United Kingdom'),\n",
       " Row(InvoiceNo='580612', StockCode='22475', Description='SKULL DESIGN TV DINNER TRAY', Quantity=1, InvoiceDate=datetime.datetime(2011, 12, 5, 11, 58), UnitPrice=10.79, CustomerID=None, Country='United Kingdom'),\n",
       " Row(InvoiceNo='580612', StockCode='22488', Description='NATURAL SLATE RECTANGLE CHALKBOARD', Quantity=1, InvoiceDate=datetime.datetime(2011, 12, 5, 11, 58), UnitPrice=3.29, CustomerID=None, Country='United Kingdom'),\n",
       " Row(InvoiceNo='580612', StockCode='22499', Description='WOODEN UNION JACK BUNTING', Quantity=1, InvoiceDate=datetime.datetime(2011, 12, 5, 11, 58), UnitPrice=8.29, CustomerID=None, Country='United Kingdom'),\n",
       " Row(InvoiceNo='580612', StockCode='22507', Description='MEMO BOARD RETROSPOT  DESIGN', Quantity=1, InvoiceDate=datetime.datetime(2011, 12, 5, 11, 58), UnitPrice=10.79, CustomerID=None, Country='United Kingdom'),\n",
       " Row(InvoiceNo='580612', StockCode='22629', Description='SPACEBOY LUNCH BOX ', Quantity=2, InvoiceDate=datetime.datetime(2011, 12, 5, 11, 58), UnitPrice=2.46, CustomerID=None, Country='United Kingdom'),\n",
       " Row(InvoiceNo='580612', StockCode='22630', Description='DOLLY GIRL LUNCH BOX', Quantity=4, InvoiceDate=datetime.datetime(2011, 12, 5, 11, 58), UnitPrice=2.46, CustomerID=None, Country='United Kingdom'),\n",
       " Row(InvoiceNo='580612', StockCode='22632', Description='HAND WARMER RED RETROSPOT', Quantity=1, InvoiceDate=datetime.datetime(2011, 12, 5, 11, 58), UnitPrice=4.13, CustomerID=None, Country='United Kingdom'),\n",
       " Row(InvoiceNo='580612', StockCode='22644', Description='CERAMIC CHERRY CAKE MONEY BANK', Quantity=2, InvoiceDate=datetime.datetime(2011, 12, 5, 11, 58), UnitPrice=4.13, CustomerID=None, Country='United Kingdom'),\n",
       " Row(InvoiceNo='580612', StockCode='22645', Description='CERAMIC HEART FAIRY CAKE MONEY BANK', Quantity=5, InvoiceDate=datetime.datetime(2011, 12, 5, 11, 58), UnitPrice=4.13, CustomerID=None, Country='United Kingdom'),\n",
       " Row(InvoiceNo='580612', StockCode='22646', Description='CERAMIC STRAWBERRY CAKE MONEY BANK', Quantity=1, InvoiceDate=datetime.datetime(2011, 12, 5, 11, 58), UnitPrice=4.13, CustomerID=None, Country='United Kingdom'),\n",
       " Row(InvoiceNo='580612', StockCode='22649', Description='STRAWBERRY FAIRY CAKE TEAPOT', Quantity=2, InvoiceDate=datetime.datetime(2011, 12, 5, 11, 58), UnitPrice=10.79, CustomerID=None, Country='United Kingdom'),\n",
       " Row(InvoiceNo='580612', StockCode='22666', Description='RECIPE BOX PANTRY YELLOW DESIGN', Quantity=14, InvoiceDate=datetime.datetime(2011, 12, 5, 11, 58), UnitPrice=5.79, CustomerID=None, Country='United Kingdom'),\n",
       " Row(InvoiceNo='580612', StockCode='22668', Description='PINK BABY BUNTING', Quantity=1, InvoiceDate=datetime.datetime(2011, 12, 5, 11, 58), UnitPrice=5.79, CustomerID=None, Country='United Kingdom'),\n",
       " Row(InvoiceNo='580612', StockCode='22669', Description='RED BABY BUNTING ', Quantity=4, InvoiceDate=datetime.datetime(2011, 12, 5, 11, 58), UnitPrice=5.79, CustomerID=None, Country='United Kingdom'),\n",
       " Row(InvoiceNo='580612', StockCode='22692', Description='DOORMAT WELCOME TO OUR HOME', Quantity=2, InvoiceDate=datetime.datetime(2011, 12, 5, 11, 58), UnitPrice=16.63, CustomerID=None, Country='United Kingdom'),\n",
       " Row(InvoiceNo='580612', StockCode='22697', Description='GREEN REGENCY TEACUP AND SAUCER', Quantity=5, InvoiceDate=datetime.datetime(2011, 12, 5, 11, 58), UnitPrice=5.79, CustomerID=None, Country='United Kingdom'),\n",
       " Row(InvoiceNo='580612', StockCode='22698', Description='PINK REGENCY TEACUP AND SAUCER', Quantity=7, InvoiceDate=datetime.datetime(2011, 12, 5, 11, 58), UnitPrice=5.79, CustomerID=None, Country='United Kingdom'),\n",
       " Row(InvoiceNo='580612', StockCode='22699', Description='ROSES REGENCY TEACUP AND SAUCER ', Quantity=11, InvoiceDate=datetime.datetime(2011, 12, 5, 11, 58), UnitPrice=5.79, CustomerID=None, Country='United Kingdom'),\n",
       " Row(InvoiceNo='580612', StockCode='22720', Description='SET OF 3 CAKE TINS PANTRY DESIGN ', Quantity=6, InvoiceDate=datetime.datetime(2011, 12, 5, 11, 58), UnitPrice=10.79, CustomerID=None, Country='United Kingdom'),\n",
       " Row(InvoiceNo='580612', StockCode='22734', Description='SET OF 6 RIBBONS VINTAGE CHRISTMAS', Quantity=4, InvoiceDate=datetime.datetime(2011, 12, 5, 11, 58), UnitPrice=5.79, CustomerID=None, Country='United Kingdom'),\n",
       " Row(InvoiceNo='580612', StockCode='22739', Description='RIBBON REEL CHRISTMAS SOCK BAUBLE', Quantity=1, InvoiceDate=datetime.datetime(2011, 12, 5, 11, 58), UnitPrice=4.13, CustomerID=None, Country='United Kingdom'),\n",
       " Row(InvoiceNo='580612', StockCode='22755', Description='SMALL PURPLE BABUSHKA NOTEBOOK ', Quantity=1, InvoiceDate=datetime.datetime(2011, 12, 5, 11, 58), UnitPrice=1.63, CustomerID=None, Country='United Kingdom'),\n",
       " Row(InvoiceNo='580612', StockCode='22781', Description='GUMBALL MAGAZINE RACK', Quantity=1, InvoiceDate=datetime.datetime(2011, 12, 5, 11, 58), UnitPrice=14.96, CustomerID=None, Country='United Kingdom'),\n",
       " Row(InvoiceNo='580612', StockCode='22795', Description='SWEETHEART RECIPE BOOK STAND', Quantity=2, InvoiceDate=datetime.datetime(2011, 12, 5, 11, 58), UnitPrice=13.29, CustomerID=None, Country='United Kingdom'),\n",
       " Row(InvoiceNo='580612', StockCode='22807', Description='SET OF 6 T-LIGHTS TOADSTOOLS', Quantity=1, InvoiceDate=datetime.datetime(2011, 12, 5, 11, 58), UnitPrice=5.79, CustomerID=None, Country='United Kingdom'),\n",
       " Row(InvoiceNo='580612', StockCode='22813', Description='PACK 3 BOXES BIRD PANETTONE ', Quantity=2, InvoiceDate=datetime.datetime(2011, 12, 5, 11, 58), UnitPrice=4.13, CustomerID=None, Country='United Kingdom'),\n",
       " Row(InvoiceNo='580612', StockCode='22838', Description='3 TIER CAKE TIN RED AND CREAM', Quantity=2, InvoiceDate=datetime.datetime(2011, 12, 5, 11, 58), UnitPrice=29.17, CustomerID=None, Country='United Kingdom'),\n",
       " Row(InvoiceNo='580612', StockCode='22840', Description='ROUND CAKE TIN VINTAGE RED', Quantity=1, InvoiceDate=datetime.datetime(2011, 12, 5, 11, 58), UnitPrice=15.79, CustomerID=None, Country='United Kingdom'),\n",
       " Row(InvoiceNo='580612', StockCode='22843', Description='BISCUIT TIN VINTAGE GREEN', Quantity=1, InvoiceDate=datetime.datetime(2011, 12, 5, 11, 58), UnitPrice=13.29, CustomerID=None, Country='United Kingdom'),\n",
       " Row(InvoiceNo='580612', StockCode='22844', Description='VINTAGE CREAM DOG FOOD CONTAINER', Quantity=1, InvoiceDate=datetime.datetime(2011, 12, 5, 11, 58), UnitPrice=16.63, CustomerID=None, Country='United Kingdom'),\n",
       " Row(InvoiceNo='580612', StockCode='22846', Description='BREAD BIN DINER STYLE RED ', Quantity=1, InvoiceDate=datetime.datetime(2011, 12, 5, 11, 58), UnitPrice=33.29, CustomerID=None, Country='United Kingdom'),\n",
       " Row(InvoiceNo='580612', StockCode='22865', Description='HAND WARMER OWL DESIGN', Quantity=8, InvoiceDate=datetime.datetime(2011, 12, 5, 11, 58), UnitPrice=4.96, CustomerID=None, Country='United Kingdom'),\n",
       " Row(InvoiceNo='580612', StockCode='22866', Description='HAND WARMER SCOTTY DOG DESIGN', Quantity=1, InvoiceDate=datetime.datetime(2011, 12, 5, 11, 58), UnitPrice=4.13, CustomerID=None, Country='United Kingdom'),\n",
       " Row(InvoiceNo='580612', StockCode='22867', Description='HAND WARMER BIRD DESIGN', Quantity=2, InvoiceDate=datetime.datetime(2011, 12, 5, 11, 58), UnitPrice=4.96, CustomerID=None, Country='United Kingdom'),\n",
       " Row(InvoiceNo='580612', StockCode='22941', Description='CHRISTMAS LIGHTS 10 REINDEER', Quantity=1, InvoiceDate=datetime.datetime(2011, 12, 5, 11, 58), UnitPrice=16.63, CustomerID=None, Country='United Kingdom'),\n",
       " Row(InvoiceNo='580612', StockCode='22952', Description='60 CAKE CASES VINTAGE CHRISTMAS', Quantity=17, InvoiceDate=datetime.datetime(2011, 12, 5, 11, 58), UnitPrice=1.25, CustomerID=None, Country='United Kingdom'),\n",
       " Row(InvoiceNo='580612', StockCode='22960', Description='JAM MAKING SET WITH JARS', Quantity=6, InvoiceDate=datetime.datetime(2011, 12, 5, 11, 58), UnitPrice=8.29, CustomerID=None, Country='United Kingdom'),\n",
       " Row(InvoiceNo='580612', StockCode='22961', Description='JAM MAKING SET PRINTED', Quantity=11, InvoiceDate=datetime.datetime(2011, 12, 5, 11, 58), UnitPrice=3.29, CustomerID=None, Country='United Kingdom'),\n",
       " Row(InvoiceNo='580612', StockCode='22964', Description='3 PIECE SPACEBOY COOKIE CUTTER SET', Quantity=1, InvoiceDate=datetime.datetime(2011, 12, 5, 11, 58), UnitPrice=4.13, CustomerID=None, Country='United Kingdom'),\n",
       " Row(InvoiceNo='580612', StockCode='22972', Description=\"CHILDREN'S SPACEBOY MUG\", Quantity=1, InvoiceDate=datetime.datetime(2011, 12, 5, 11, 58), UnitPrice=3.29, CustomerID=None, Country='United Kingdom'),\n",
       " Row(InvoiceNo='580612', StockCode='22973', Description=\"CHILDREN'S CIRCUS PARADE MUG\", Quantity=3, InvoiceDate=datetime.datetime(2011, 12, 5, 11, 58), UnitPrice=3.29, CustomerID=None, Country='United Kingdom'),\n",
       " Row(InvoiceNo='580612', StockCode='22993', Description='SET OF 4 PANTRY JELLY MOULDS', Quantity=1, InvoiceDate=datetime.datetime(2011, 12, 5, 11, 58), UnitPrice=3.29, CustomerID=None, Country='United Kingdom'),\n",
       " Row(InvoiceNo='580612', StockCode='22997', Description='TRAVEL CARD WALLET UNION JACK', Quantity=1, InvoiceDate=datetime.datetime(2011, 12, 5, 11, 58), UnitPrice=0.83, CustomerID=None, Country='United Kingdom'),\n",
       " Row(InvoiceNo='580612', StockCode='23041', Description='PAPER LANTERN 9 POINT SNOW STAR', Quantity=4, InvoiceDate=datetime.datetime(2011, 12, 5, 11, 58), UnitPrice=8.29, CustomerID=None, Country='United Kingdom'),\n",
       " Row(InvoiceNo='580612', StockCode='23080', Description='RED METAL BOX TOP SECRET', Quantity=6, InvoiceDate=datetime.datetime(2011, 12, 5, 11, 58), UnitPrice=16.63, CustomerID=None, Country='United Kingdom'),\n",
       " Row(InvoiceNo='580612', StockCode='23108', Description='SET OF 10 LED DOLLY LIGHTS', Quantity=2, InvoiceDate=datetime.datetime(2011, 12, 5, 11, 58), UnitPrice=12.46, CustomerID=None, Country='United Kingdom'),\n",
       " Row(InvoiceNo='580612', StockCode='23141', Description='TRIPLE WIRE HOOK PINK HEART', Quantity=1, InvoiceDate=datetime.datetime(2011, 12, 5, 11, 58), UnitPrice=8.29, CustomerID=None, Country='United Kingdom'),\n",
       " Row(InvoiceNo='580612', StockCode='23158', Description='SET OF 5 LUCKY CAT MAGNETS ', Quantity=2, InvoiceDate=datetime.datetime(2011, 12, 5, 11, 58), UnitPrice=4.13, CustomerID=None, Country='United Kingdom'),\n",
       " Row(InvoiceNo='580612', StockCode='23162', Description='REGENCY TEA STRAINER', Quantity=1, InvoiceDate=datetime.datetime(2011, 12, 5, 11, 58), UnitPrice=7.46, CustomerID=None, Country='United Kingdom'),\n",
       " Row(InvoiceNo='580612', StockCode='23163', Description='REGENCY SUGAR TONGS', Quantity=2, InvoiceDate=datetime.datetime(2011, 12, 5, 11, 58), UnitPrice=4.96, CustomerID=None, Country='United Kingdom'),\n",
       " Row(InvoiceNo='580612', StockCode='23170', Description='REGENCY TEA PLATE ROSES ', Quantity=2, InvoiceDate=datetime.datetime(2011, 12, 5, 11, 58), UnitPrice=3.29, CustomerID=None, Country='United Kingdom'),\n",
       " Row(InvoiceNo='580612', StockCode='23171', Description='REGENCY TEA PLATE GREEN ', Quantity=4, InvoiceDate=datetime.datetime(2011, 12, 5, 11, 58), UnitPrice=3.29, CustomerID=None, Country='United Kingdom'),\n",
       " Row(InvoiceNo='580612', StockCode='23172', Description='REGENCY TEA PLATE PINK', Quantity=2, InvoiceDate=datetime.datetime(2011, 12, 5, 11, 58), UnitPrice=3.29, CustomerID=None, Country='United Kingdom'),\n",
       " Row(InvoiceNo='580612', StockCode='23182', Description='TOILET SIGN OCCUPIED OR VACANT', Quantity=3, InvoiceDate=datetime.datetime(2011, 12, 5, 11, 58), UnitPrice=2.5, CustomerID=None, Country='United Kingdom'),\n",
       " Row(InvoiceNo='580612', StockCode='23197', Description='SKETCHBOOK MAGNETIC SHOPPING LIST', Quantity=1, InvoiceDate=datetime.datetime(2011, 12, 5, 11, 58), UnitPrice=3.29, CustomerID=None, Country='United Kingdom'),\n",
       " Row(InvoiceNo='580612', StockCode='23199', Description='JUMBO BAG APPLES', Quantity=4, InvoiceDate=datetime.datetime(2011, 12, 5, 11, 58), UnitPrice=4.13, CustomerID=None, Country='United Kingdom'),\n",
       " Row(InvoiceNo='580612', StockCode='23201', Description='JUMBO BAG ALPHABET', Quantity=5, InvoiceDate=datetime.datetime(2011, 12, 5, 11, 58), UnitPrice=4.13, CustomerID=None, Country='United Kingdom'),\n",
       " Row(InvoiceNo='580612', StockCode='23243', Description='SET OF TEA COFFEE SUGAR TINS PANTRY', Quantity=1, InvoiceDate=datetime.datetime(2011, 12, 5, 11, 58), UnitPrice=10.79, CustomerID=None, Country='United Kingdom'),\n",
       " Row(InvoiceNo='580612', StockCode='23245', Description='SET OF 3 REGENCY CAKE TINS', Quantity=5, InvoiceDate=datetime.datetime(2011, 12, 5, 11, 58), UnitPrice=10.79, CustomerID=None, Country='United Kingdom'),\n",
       " Row(InvoiceNo='580612', StockCode='23284', Description='DOORMAT KEEP CALM AND COME IN', Quantity=3, InvoiceDate=datetime.datetime(2011, 12, 5, 11, 58), UnitPrice=15.79, CustomerID=None, Country='United Kingdom'),\n",
       " Row(InvoiceNo='580612', StockCode='23295', Description='SET OF 12 MINI LOAF BAKING CASES', Quantity=1, InvoiceDate=datetime.datetime(2011, 12, 5, 11, 58), UnitPrice=2.46, CustomerID=None, Country='United Kingdom'),\n",
       " Row(InvoiceNo='580612', StockCode='23298', Description='SPOTTY BUNTING', Quantity=2, InvoiceDate=datetime.datetime(2011, 12, 5, 11, 58), UnitPrice=10.79, CustomerID=None, Country='United Kingdom'),\n",
       " Row(InvoiceNo='580612', StockCode='23300', Description='GARDENERS KNEELING PAD CUP OF TEA ', Quantity=12, InvoiceDate=datetime.datetime(2011, 12, 5, 11, 58), UnitPrice=3.29, CustomerID=None, Country='United Kingdom'),\n",
       " Row(InvoiceNo='580612', StockCode='23301', Description='GARDENERS KNEELING PAD KEEP CALM ', Quantity=34, InvoiceDate=datetime.datetime(2011, 12, 5, 11, 58), UnitPrice=3.29, CustomerID=None, Country='United Kingdom'),\n",
       " Row(InvoiceNo='580612', StockCode='23302', Description='KNEELING MAT HOUSEWORK  DESIGN', Quantity=1, InvoiceDate=datetime.datetime(2011, 12, 5, 11, 58), UnitPrice=3.29, CustomerID=None, Country='United Kingdom'),\n",
       " Row(InvoiceNo='580612', StockCode='23311', Description='VINTAGE CHRISTMAS STOCKING ', Quantity=6, InvoiceDate=datetime.datetime(2011, 12, 5, 11, 58), UnitPrice=4.96, CustomerID=None, Country='United Kingdom'),\n",
       " Row(InvoiceNo='580612', StockCode='23328', Description='SET 6 SCHOOL MILK BOTTLES IN CRATE', Quantity=7, InvoiceDate=datetime.datetime(2011, 12, 5, 11, 58), UnitPrice=7.46, CustomerID=None, Country='United Kingdom'),\n",
       " Row(InvoiceNo='580612', StockCode='23343', Description='JUMBO BAG VINTAGE CHRISTMAS ', Quantity=1, InvoiceDate=datetime.datetime(2011, 12, 5, 11, 58), UnitPrice=4.13, CustomerID=None, Country='United Kingdom'),\n",
       " Row(InvoiceNo='580612', StockCode='23344', Description=\"JUMBO BAG 50'S CHRISTMAS \", Quantity=1, InvoiceDate=datetime.datetime(2011, 12, 5, 11, 58), UnitPrice=4.13, CustomerID=None, Country='United Kingdom'),\n",
       " Row(InvoiceNo='580612', StockCode='23349', Description='ROLL WRAP VINTAGE CHRISTMAS', Quantity=6, InvoiceDate=datetime.datetime(2011, 12, 5, 11, 58), UnitPrice=2.46, CustomerID=None, Country='United Kingdom'),\n",
       " Row(InvoiceNo='580612', StockCode='23351', Description=\"ROLL WRAP 50'S CHRISTMAS\", Quantity=15, InvoiceDate=datetime.datetime(2011, 12, 5, 11, 58), UnitPrice=2.46, CustomerID=None, Country='United Kingdom'),\n",
       " Row(InvoiceNo='580612', StockCode='23352', Description=\"ROLL WRAP 50'S RED CHRISTMAS \", Quantity=6, InvoiceDate=datetime.datetime(2011, 12, 5, 11, 58), UnitPrice=2.46, CustomerID=None, Country='United Kingdom'),\n",
       " Row(InvoiceNo='580612', StockCode='23353', Description='6 GIFT TAGS VINTAGE CHRISTMAS ', Quantity=5, InvoiceDate=datetime.datetime(2011, 12, 5, 11, 58), UnitPrice=1.63, CustomerID=None, Country='United Kingdom'),\n",
       " Row(InvoiceNo='580612', StockCode='23354', Description=\"6 GIFT TAGS 50'S CHRISTMAS \", Quantity=8, InvoiceDate=datetime.datetime(2011, 12, 5, 11, 58), UnitPrice=1.63, CustomerID=None, Country='United Kingdom'),\n",
       " Row(InvoiceNo='580612', StockCode='23370', Description='SET 36 COLOURING PENCILS DOILY', Quantity=1, InvoiceDate=datetime.datetime(2011, 12, 5, 11, 58), UnitPrice=1.25, CustomerID=None, Country='United Kingdom'),\n",
       " Row(InvoiceNo='580612', StockCode='23379', Description='PACK OF 12 RED APPLE TISSUES', Quantity=1, InvoiceDate=datetime.datetime(2011, 12, 5, 11, 58), UnitPrice=0.83, CustomerID=None, Country='United Kingdom'),\n",
       " Row(InvoiceNo='580612', StockCode='23382', Description='BOX OF 6 CHRISTMAS CAKE DECORATIONS', Quantity=5, InvoiceDate=datetime.datetime(2011, 12, 5, 11, 58), UnitPrice=7.46, CustomerID=None, Country='United Kingdom'),\n",
       " Row(InvoiceNo='580612', StockCode='23403', Description='LETTER HOLDER HOME SWEET HOME', Quantity=1, InvoiceDate=datetime.datetime(2011, 12, 5, 11, 58), UnitPrice=7.46, CustomerID=None, Country='United Kingdom'),\n",
       " Row(InvoiceNo='580612', StockCode='23406', Description='HOME SWEET HOME KEY HOLDER', Quantity=2, InvoiceDate=datetime.datetime(2011, 12, 5, 11, 58), UnitPrice=12.46, CustomerID=None, Country='United Kingdom'),\n",
       " Row(InvoiceNo='580612', StockCode='23426', Description='METAL SIGN DROP YOUR PANTS', Quantity=1, InvoiceDate=datetime.datetime(2011, 12, 5, 11, 58), UnitPrice=5.79, CustomerID=None, Country='United Kingdom'),\n",
       " Row(InvoiceNo='580612', StockCode='23428', Description='IVORY RETRO KITCHEN WALL CLOCK', Quantity=1, InvoiceDate=datetime.datetime(2011, 12, 5, 11, 58), UnitPrice=16.63, CustomerID=None, Country='United Kingdom'),\n",
       " Row(InvoiceNo='580612', StockCode='23489', Description='VINTAGE BELLS GARLAND', Quantity=2, InvoiceDate=datetime.datetime(2011, 12, 5, 11, 58), UnitPrice=5.79, CustomerID=None, Country='United Kingdom'),\n",
       " Row(InvoiceNo='580612', StockCode='23494', Description='VINTAGE DOILY DELUXE SEWING KIT ', Quantity=2, InvoiceDate=datetime.datetime(2011, 12, 5, 11, 58), UnitPrice=12.46, CustomerID=None, Country='United Kingdom'),\n",
       " Row(InvoiceNo='580612', StockCode='23501', Description='KEY RING BASEBALL BOOT UNION JACK', Quantity=1, InvoiceDate=datetime.datetime(2011, 12, 5, 11, 58), UnitPrice=2.46, CustomerID=None, Country='United Kingdom'),\n",
       " Row(InvoiceNo='580612', StockCode='23505', Description='PLAYING CARDS I LOVE LONDON ', Quantity=1, InvoiceDate=datetime.datetime(2011, 12, 5, 11, 58), UnitPrice=2.46, CustomerID=None, Country='United Kingdom'),\n",
       " Row(InvoiceNo='580612', StockCode='23534', Description='WALL ART STOP FOR TEA ', Quantity=3, InvoiceDate=datetime.datetime(2011, 12, 5, 11, 58), UnitPrice=12.46, CustomerID=None, Country='United Kingdom'),\n",
       " Row(InvoiceNo='580612', StockCode='23535', Description='WALL ART BICYCLE SAFETY', Quantity=1, InvoiceDate=datetime.datetime(2011, 12, 5, 11, 58), UnitPrice=12.46, CustomerID=None, Country='United Kingdom'),\n",
       " Row(InvoiceNo='580612', StockCode='23541', Description='WALL ART CLASSIC PUDDINGS ', Quantity=2, InvoiceDate=datetime.datetime(2011, 12, 5, 11, 58), UnitPrice=12.46, CustomerID=None, Country='United Kingdom'),\n",
       " Row(InvoiceNo='580612', StockCode='23559', Description='WOODLAND BUNNIES LOLLY MAKERS', Quantity=1, InvoiceDate=datetime.datetime(2011, 12, 5, 11, 58), UnitPrice=4.13, CustomerID=None, Country='United Kingdom'),\n",
       " Row(InvoiceNo='580612', StockCode='23564', Description='EGG CUP MILKMAID INGRID', Quantity=1, InvoiceDate=datetime.datetime(2011, 12, 5, 11, 58), UnitPrice=2.46, CustomerID=None, Country='United Kingdom'),\n",
       " Row(InvoiceNo='580612', StockCode='23565', Description='EGG CUP MILKMAID HELGA ', Quantity=1, InvoiceDate=datetime.datetime(2011, 12, 5, 11, 58), UnitPrice=2.46, CustomerID=None, Country='United Kingdom'),\n",
       " Row(InvoiceNo='580612', StockCode='23566', Description='EGG CUP MILKMAID HEIDI', Quantity=1, InvoiceDate=datetime.datetime(2011, 12, 5, 11, 58), UnitPrice=2.46, CustomerID=None, Country='United Kingdom'),\n",
       " Row(InvoiceNo='580612', StockCode='23571', Description='TRADITIONAL NAUGHTS & CROSSES', Quantity=1, InvoiceDate=datetime.datetime(2011, 12, 5, 11, 58), UnitPrice=3.29, CustomerID=None, Country='United Kingdom'),\n",
       " Row(InvoiceNo='580612', StockCode='37340', Description='MULTICOLOUR SPRING FLOWER MUG', Quantity=6, InvoiceDate=datetime.datetime(2011, 12, 5, 11, 58), UnitPrice=1.38, CustomerID=None, Country='United Kingdom'),\n",
       " Row(InvoiceNo='580612', StockCode='48116', Description='DOORMAT MULTICOLOUR STRIPE', Quantity=6, InvoiceDate=datetime.datetime(2011, 12, 5, 11, 58), UnitPrice=14.13, CustomerID=None, Country='United Kingdom'),\n",
       " Row(InvoiceNo='580612', StockCode='48138', Description='DOORMAT UNION FLAG', Quantity=3, InvoiceDate=datetime.datetime(2011, 12, 5, 11, 58), UnitPrice=14.13, CustomerID=None, Country='United Kingdom'),\n",
       " Row(InvoiceNo='580612', StockCode='48194', Description='DOORMAT HEARTS', Quantity=1, InvoiceDate=datetime.datetime(2011, 12, 5, 11, 58), UnitPrice=14.13, CustomerID=None, Country='United Kingdom'),\n",
       " Row(InvoiceNo='580612', StockCode='71053', Description='WHITE MOROCCAN METAL LANTERN', Quantity=1, InvoiceDate=datetime.datetime(2011, 12, 5, 11, 58), UnitPrice=8.29, CustomerID=None, Country='United Kingdom'),\n",
       " Row(InvoiceNo='580612', StockCode='72349b', Description='SET/6 PURPLE BUTTERFLY T-LIGHTS', Quantity=1, InvoiceDate=datetime.datetime(2011, 12, 5, 11, 58), UnitPrice=4.13, CustomerID=None, Country='United Kingdom'),\n",
       " Row(InvoiceNo='580612', StockCode='72801d', Description='4 SKY BLUE DINNER CANDLES', Quantity=1, InvoiceDate=datetime.datetime(2011, 12, 5, 11, 58), UnitPrice=2.46, CustomerID=None, Country='United Kingdom'),\n",
       " Row(InvoiceNo='580612', StockCode='79321', Description='CHILLI LIGHTS', Quantity=5, InvoiceDate=datetime.datetime(2011, 12, 5, 11, 58), UnitPrice=12.46, CustomerID=None, Country='United Kingdom'),\n",
       " Row(InvoiceNo='580612', StockCode='82001s', Description='SILVER RECORD COVER FRAME', Quantity=3, InvoiceDate=datetime.datetime(2011, 12, 5, 11, 58), UnitPrice=7.46, CustomerID=None, Country='United Kingdom'),\n",
       " Row(InvoiceNo='580612', StockCode='82482', Description='WOODEN PICTURE FRAME WHITE FINISH', Quantity=5, InvoiceDate=datetime.datetime(2011, 12, 5, 11, 58), UnitPrice=4.96, CustomerID=None, Country='United Kingdom'),\n",
       " Row(InvoiceNo='580612', StockCode='82494l', Description='WOODEN FRAME ANTIQUE WHITE ', Quantity=1, InvoiceDate=datetime.datetime(2011, 12, 5, 11, 58), UnitPrice=8.29, CustomerID=None, Country='United Kingdom'),\n",
       " Row(InvoiceNo='580612', StockCode='82578', Description='KITCHEN METAL SIGN', Quantity=1, InvoiceDate=datetime.datetime(2011, 12, 5, 11, 58), UnitPrice=1.25, CustomerID=None, Country='United Kingdom'),\n",
       " Row(InvoiceNo='580612', StockCode='82580', Description='BATHROOM METAL SIGN', Quantity=1, InvoiceDate=datetime.datetime(2011, 12, 5, 11, 58), UnitPrice=1.25, CustomerID=None, Country='United Kingdom'),\n",
       " Row(InvoiceNo='580612', StockCode='82581', Description='TOILET METAL SIGN', Quantity=2, InvoiceDate=datetime.datetime(2011, 12, 5, 11, 58), UnitPrice=1.25, CustomerID=None, Country='United Kingdom'),\n",
       " Row(InvoiceNo='580612', StockCode='82600', Description='N0 SINGING METAL SIGN', Quantity=1, InvoiceDate=datetime.datetime(2011, 12, 5, 11, 58), UnitPrice=4.13, CustomerID=None, Country='United Kingdom'),\n",
       " Row(InvoiceNo='580612', StockCode='84032A', Description='CHARLIE+LOLA PINK HOT WATER BOTTLE', Quantity=2, InvoiceDate=datetime.datetime(2011, 12, 5, 11, 58), UnitPrice=5.79, CustomerID=None, Country='United Kingdom'),\n",
       " Row(InvoiceNo='580612', StockCode='84032B', Description='CHARLIE + LOLA RED HOT WATER BOTTLE', Quantity=7, InvoiceDate=datetime.datetime(2011, 12, 5, 11, 58), UnitPrice=3.29, CustomerID=None, Country='United Kingdom'),\n",
       " Row(InvoiceNo='580612', StockCode='84375', Description='SET OF 20 KIDS COOKIE CUTTERS', Quantity=3, InvoiceDate=datetime.datetime(2011, 12, 5, 11, 58), UnitPrice=4.13, CustomerID=None, Country='United Kingdom'),\n",
       " Row(InvoiceNo='580612', StockCode='84509a', Description='SET OF 4 ENGLISH ROSE PLACEMATS', Quantity=6, InvoiceDate=datetime.datetime(2011, 12, 5, 11, 58), UnitPrice=7.46, CustomerID=None, Country='United Kingdom'),\n",
       " Row(InvoiceNo='580612', StockCode='84509c', Description='SET OF 4 POLKADOT PLACEMATS ', Quantity=1, InvoiceDate=datetime.datetime(2011, 12, 5, 11, 58), UnitPrice=7.46, CustomerID=None, Country='United Kingdom'),\n",
       " Row(InvoiceNo='580612', StockCode='84884a', Description='ANT WHITE WIRE HEART SPIRAL', Quantity=2, InvoiceDate=datetime.datetime(2011, 12, 5, 11, 58), UnitPrice=8.29, CustomerID=None, Country='United Kingdom'),\n",
       " Row(InvoiceNo='580612', StockCode='84970l', Description='SINGLE HEART ZINC T-LIGHT HOLDER', Quantity=1, InvoiceDate=datetime.datetime(2011, 12, 5, 11, 58), UnitPrice=2.08, CustomerID=None, Country='United Kingdom'),\n",
       " Row(InvoiceNo='580612', StockCode='84970s', Description='HANGING HEART ZINC T-LIGHT HOLDER', Quantity=1, InvoiceDate=datetime.datetime(2011, 12, 5, 11, 58), UnitPrice=2.08, CustomerID=None, Country='United Kingdom'),\n",
       " Row(InvoiceNo='580612', StockCode='84988', Description='SET OF 72 PINK HEART PAPER DOILIES', Quantity=1, InvoiceDate=datetime.datetime(2011, 12, 5, 11, 58), UnitPrice=3.75, CustomerID=None, Country='United Kingdom'),\n",
       " Row(InvoiceNo='580612', StockCode='84993a', Description='75 GREEN PETIT FOUR CASES', Quantity=2, InvoiceDate=datetime.datetime(2011, 12, 5, 11, 58), UnitPrice=0.83, CustomerID=None, Country='United Kingdom'),\n",
       " Row(InvoiceNo='580612', StockCode='84997a', Description='CHILDRENS CUTLERY POLKADOT GREEN ', Quantity=1, InvoiceDate=datetime.datetime(2011, 12, 5, 11, 58), UnitPrice=8.29, CustomerID=None, Country='United Kingdom'),\n",
       " Row(InvoiceNo='580612', StockCode='84997b', Description='CHILDRENS CUTLERY RETROSPOT RED ', Quantity=2, InvoiceDate=datetime.datetime(2011, 12, 5, 11, 58), UnitPrice=8.29, CustomerID=None, Country='United Kingdom'),\n",
       " Row(InvoiceNo='580612', StockCode='85048', Description='15CM CHRISTMAS GLASS BALL 20 LIGHTS', Quantity=2, InvoiceDate=datetime.datetime(2011, 12, 5, 11, 58), UnitPrice=16.63, CustomerID=None, Country='United Kingdom'),\n",
       " Row(InvoiceNo='580612', StockCode='85049a', Description='TRADITIONAL CHRISTMAS RIBBONS', Quantity=8, InvoiceDate=datetime.datetime(2011, 12, 5, 11, 58), UnitPrice=3.29, CustomerID=None, Country='United Kingdom'),\n",
       " Row(InvoiceNo='580612', StockCode='85049e', Description='SCANDINAVIAN REDS RIBBONS', Quantity=2, InvoiceDate=datetime.datetime(2011, 12, 5, 11, 58), UnitPrice=3.29, CustomerID=None, Country='United Kingdom'),\n",
       " Row(InvoiceNo='580612', StockCode='85099B', Description='JUMBO BAG RED RETROSPOT', Quantity=7, InvoiceDate=datetime.datetime(2011, 12, 5, 11, 58), UnitPrice=4.13, CustomerID=None, Country='United Kingdom'),\n",
       " Row(InvoiceNo='580612', StockCode='85099C', Description='JUMBO  BAG BAROQUE BLACK WHITE', Quantity=4, InvoiceDate=datetime.datetime(2011, 12, 5, 11, 58), UnitPrice=4.13, CustomerID=None, Country='United Kingdom'),\n",
       " Row(InvoiceNo='580612', StockCode='85114b', Description='IVORY ENCHANTED FOREST PLACEMAT', Quantity=1, InvoiceDate=datetime.datetime(2011, 12, 5, 11, 58), UnitPrice=3.29, CustomerID=None, Country='United Kingdom'),\n",
       " Row(InvoiceNo='580612', StockCode='85114c', Description='RED ENCHANTED FOREST PLACEMAT', Quantity=1, InvoiceDate=datetime.datetime(2011, 12, 5, 11, 58), UnitPrice=3.29, CustomerID=None, Country='United Kingdom'),\n",
       " Row(InvoiceNo='580612', StockCode='85123a', Description='WHITE HANGING HEART T-LIGHT HOLDER', Quantity=3, InvoiceDate=datetime.datetime(2011, 12, 5, 11, 58), UnitPrice=6.63, CustomerID=None, Country='United Kingdom'),\n",
       " Row(InvoiceNo='580612', StockCode='85127', Description='SMALL SQUARE CUT GLASS CANDLESTICK', Quantity=1, InvoiceDate=datetime.datetime(2011, 12, 5, 11, 58), UnitPrice=9.96, CustomerID=None, Country='United Kingdom'),\n",
       " Row(InvoiceNo='580612', StockCode='85174', Description='S/4 CACTI CANDLES', Quantity=1, InvoiceDate=datetime.datetime(2011, 12, 5, 11, 58), UnitPrice=10.79, CustomerID=None, Country='United Kingdom'),\n",
       " Row(InvoiceNo='580612', StockCode='DOT', Description='DOTCOM POSTAGE', Quantity=1, InvoiceDate=datetime.datetime(2011, 12, 5, 11, 58), UnitPrice=2114.0, CustomerID=None, Country='United Kingdom'),\n",
       " Row(InvoiceNo='580612', StockCode='15056bl', Description='EDWARDIAN PARASOL BLACK', Quantity=3, InvoiceDate=datetime.datetime(2011, 12, 5, 11, 58), UnitPrice=12.46, CustomerID=None, Country='United Kingdom'),\n",
       " Row(InvoiceNo='580612', StockCode='20668', Description='DISCO BALL CHRISTMAS DECORATION', Quantity=6, InvoiceDate=datetime.datetime(2011, 12, 5, 11, 58), UnitPrice=0.42, CustomerID=None, Country='United Kingdom'),\n",
       " Row(InvoiceNo='580612', StockCode='20674', Description='GREEN POLKADOT BOWL', Quantity=1, InvoiceDate=datetime.datetime(2011, 12, 5, 11, 58), UnitPrice=2.46, CustomerID=None, Country='United Kingdom'),\n",
       " Row(InvoiceNo='580612', StockCode='20677', Description='PINK POLKADOT BOWL', Quantity=2, InvoiceDate=datetime.datetime(2011, 12, 5, 11, 58), UnitPrice=2.46, CustomerID=None, Country='United Kingdom'),\n",
       " Row(InvoiceNo='580612', StockCode='20679', Description='EDWARDIAN PARASOL RED', Quantity=2, InvoiceDate=datetime.datetime(2011, 12, 5, 11, 58), UnitPrice=12.46, CustomerID=None, Country='United Kingdom'),\n",
       " Row(InvoiceNo='580612', StockCode='20685', Description='DOORMAT RED RETROSPOT', Quantity=1, InvoiceDate=datetime.datetime(2011, 12, 5, 11, 58), UnitPrice=16.63, CustomerID=None, Country='United Kingdom'),\n",
       " Row(InvoiceNo='580612', StockCode='20712', Description='JUMBO BAG WOODLAND ANIMALS', Quantity=10, InvoiceDate=datetime.datetime(2011, 12, 5, 11, 58), UnitPrice=4.13, CustomerID=None, Country='United Kingdom'),\n",
       " Row(InvoiceNo='580612', StockCode='20713', Description='JUMBO BAG OWLS', Quantity=10, InvoiceDate=datetime.datetime(2011, 12, 5, 11, 58), UnitPrice=4.13, CustomerID=None, Country='United Kingdom'),\n",
       " Row(InvoiceNo='580612', StockCode='20717', Description='STRAWBERRY SHOPPER BAG', Quantity=1, InvoiceDate=datetime.datetime(2011, 12, 5, 11, 58), UnitPrice=2.46, CustomerID=None, Country='United Kingdom'),\n",
       " Row(InvoiceNo='580612', StockCode='20718', Description='RED RETROSPOT SHOPPER BAG', Quantity=2, InvoiceDate=datetime.datetime(2011, 12, 5, 11, 58), UnitPrice=3.29, CustomerID=None, Country='United Kingdom'),\n",
       " Row(InvoiceNo='580612', StockCode='20726', Description='LUNCH BAG WOODLAND', Quantity=4, InvoiceDate=datetime.datetime(2011, 12, 5, 11, 58), UnitPrice=4.13, CustomerID=None, Country='United Kingdom'),\n",
       " Row(InvoiceNo='580612', StockCode='20728', Description='LUNCH BAG CARS BLUE', Quantity=3, InvoiceDate=datetime.datetime(2011, 12, 5, 11, 58), UnitPrice=4.13, CustomerID=None, Country='United Kingdom'),\n",
       " Row(InvoiceNo='580612', StockCode='20961', Description='STRAWBERRY BATH SPONGE ', Quantity=1, InvoiceDate=datetime.datetime(2011, 12, 5, 11, 58), UnitPrice=2.46, CustomerID=None, Country='United Kingdom'),\n",
       " Row(InvoiceNo='580612', StockCode='20963', Description='APPLE BATH SPONGE', Quantity=2, InvoiceDate=datetime.datetime(2011, 12, 5, 11, 58), UnitPrice=2.46, CustomerID=None, Country='United Kingdom'),\n",
       " Row(InvoiceNo='580612', StockCode='20969', Description='RED FLORAL FELTCRAFT SHOULDER BAG', Quantity=1, InvoiceDate=datetime.datetime(2011, 12, 5, 11, 58), UnitPrice=7.46, CustomerID=None, Country='United Kingdom'),\n",
       " Row(InvoiceNo='580612', StockCode='21112', Description='SWISS ROLL TOWEL PINK  SPOTS', Quantity=1, InvoiceDate=datetime.datetime(2011, 12, 5, 11, 58), UnitPrice=5.79, CustomerID=None, Country='United Kingdom'),\n",
       " Row(InvoiceNo='580612', StockCode='21115', Description='ROSE CARAVAN DOORSTOP', Quantity=1, InvoiceDate=datetime.datetime(2011, 12, 5, 11, 58), UnitPrice=14.13, CustomerID=None, Country='United Kingdom'),\n",
       " Row(InvoiceNo='580612', StockCode='21137', Description='BLACK RECORD COVER FRAME', Quantity=4, InvoiceDate=datetime.datetime(2011, 12, 5, 11, 58), UnitPrice=7.46, CustomerID=None, Country='United Kingdom'),\n",
       " Row(InvoiceNo='580612', StockCode='21155', Description='RED RETROSPOT PEG BAG', Quantity=5, InvoiceDate=datetime.datetime(2011, 12, 5, 11, 58), UnitPrice=4.96, CustomerID=None, Country='United Kingdom'),\n",
       " Row(InvoiceNo='580612', StockCode='21156', Description='RETROSPOT CHILDRENS APRON', Quantity=1, InvoiceDate=datetime.datetime(2011, 12, 5, 11, 58), UnitPrice=4.13, CustomerID=None, Country='United Kingdom'),\n",
       " Row(InvoiceNo='580612', StockCode='21165', Description='BEWARE OF THE CAT METAL SIGN ', Quantity=1, InvoiceDate=datetime.datetime(2011, 12, 5, 11, 58), UnitPrice=4.13, CustomerID=None, Country='United Kingdom'),\n",
       " Row(InvoiceNo='580612', StockCode='21169', Description=\"YOU'RE CONFUSING ME METAL SIGN \", Quantity=1, InvoiceDate=datetime.datetime(2011, 12, 5, 11, 58), UnitPrice=4.13, CustomerID=None, Country='United Kingdom'),\n",
       " Row(InvoiceNo='580612', StockCode='21174', Description='POTTERING IN THE SHED METAL SIGN', Quantity=2, InvoiceDate=datetime.datetime(2011, 12, 5, 11, 58), UnitPrice=4.13, CustomerID=None, Country='United Kingdom'),\n",
       " Row(InvoiceNo='580612', StockCode='21175', Description='GIN AND TONIC DIET METAL SIGN', Quantity=1, InvoiceDate=datetime.datetime(2011, 12, 5, 11, 58), UnitPrice=4.96, CustomerID=None, Country='United Kingdom'),\n",
       " Row(InvoiceNo='580612', StockCode='21181', Description='PLEASE ONE PERSON METAL SIGN', Quantity=6, InvoiceDate=datetime.datetime(2011, 12, 5, 11, 58), UnitPrice=4.13, CustomerID=None, Country='United Kingdom'),\n",
       " Row(InvoiceNo='580612', StockCode='21189', Description='WHITE HONEYCOMB PAPER GARLAND ', Quantity=5, InvoiceDate=datetime.datetime(2011, 12, 5, 11, 58), UnitPrice=3.29, CustomerID=None, Country='United Kingdom'),\n",
       " Row(InvoiceNo='580612', StockCode='21191', Description='LARGE WHITE HONEYCOMB PAPER BELL  ', Quantity=1, InvoiceDate=datetime.datetime(2011, 12, 5, 11, 58), UnitPrice=4.13, CustomerID=None, Country='United Kingdom'),\n",
       " Row(InvoiceNo='580612', StockCode='21210', Description='SET OF 72 RETROSPOT PAPER  DOILIES', Quantity=2, InvoiceDate=datetime.datetime(2011, 12, 5, 11, 58), UnitPrice=3.75, CustomerID=None, Country='United Kingdom'),\n",
       " Row(InvoiceNo='580612', StockCode='21216', Description='SET 3 RETROSPOT TEA,COFFEE,SUGAR', Quantity=2, InvoiceDate=datetime.datetime(2011, 12, 5, 11, 58), UnitPrice=10.79, CustomerID=None, Country='United Kingdom'),\n",
       " Row(InvoiceNo='580612', StockCode='21217', Description='RED RETROSPOT ROUND CAKE TINS', Quantity=1, InvoiceDate=datetime.datetime(2011, 12, 5, 11, 58), UnitPrice=20.79, CustomerID=None, Country='United Kingdom'),\n",
       " Row(InvoiceNo='580612', StockCode='21218', Description='RED SPOTTY BISCUIT TIN', Quantity=4, InvoiceDate=datetime.datetime(2011, 12, 5, 11, 58), UnitPrice=8.29, CustomerID=None, Country='United Kingdom'),\n",
       " Row(InvoiceNo='580612', StockCode='21232', Description='STRAWBERRY CERAMIC TRINKET POT', Quantity=20, InvoiceDate=datetime.datetime(2011, 12, 5, 11, 58), UnitPrice=2.46, CustomerID=None, Country='United Kingdom'),\n",
       " Row(InvoiceNo='580612', StockCode='21245', Description='GREEN POLKADOT PLATE ', Quantity=1, InvoiceDate=datetime.datetime(2011, 12, 5, 11, 58), UnitPrice=3.29, CustomerID=None, Country='United Kingdom'),\n",
       " Row(InvoiceNo='580612', StockCode='21253', Description='SET OF PICTURE FRAME  STICKERS', Quantity=1, InvoiceDate=datetime.datetime(2011, 12, 5, 11, 58), UnitPrice=5.79, CustomerID=None, Country='United Kingdom'),\n",
       " Row(InvoiceNo='580612', StockCode='21257', Description='VICTORIAN SEWING BOX MEDIUM', Quantity=3, InvoiceDate=datetime.datetime(2011, 12, 5, 11, 58), UnitPrice=15.79, CustomerID=None, Country='United Kingdom'),\n",
       " Row(InvoiceNo='580612', StockCode='21259', Description='VICTORIAN SEWING BOX SMALL ', Quantity=2, InvoiceDate=datetime.datetime(2011, 12, 5, 11, 58), UnitPrice=12.46, CustomerID=None, Country='United Kingdom'),\n",
       " Row(InvoiceNo='580612', StockCode='21284', Description='RETROSPOT CANDLE  SMALL', Quantity=2, InvoiceDate=datetime.datetime(2011, 12, 5, 11, 58), UnitPrice=3.29, CustomerID=None, Country='United Kingdom'),\n",
       " Row(InvoiceNo='580612', StockCode='21327', Description='SKULLS WRITING SET ', Quantity=3, InvoiceDate=datetime.datetime(2011, 12, 5, 11, 58), UnitPrice=2.46, CustomerID=None, Country='United Kingdom'),\n",
       " Row(InvoiceNo='580612', StockCode='21328', Description='BALLOONS  WRITING SET ', Quantity=1, InvoiceDate=datetime.datetime(2011, 12, 5, 11, 58), UnitPrice=3.29, CustomerID=None, Country='United Kingdom'),\n",
       " Row(InvoiceNo='580612', StockCode='21329', Description='DINOSAURS  WRITING SET ', Quantity=1, InvoiceDate=datetime.datetime(2011, 12, 5, 11, 58), UnitPrice=3.29, CustomerID=None, Country='United Kingdom'),\n",
       " Row(InvoiceNo='580612', StockCode='21411', Description='GINGHAM HEART  DOORSTOP RED', Quantity=2, InvoiceDate=datetime.datetime(2011, 12, 5, 11, 58), UnitPrice=8.29, CustomerID=None, Country='United Kingdom'),\n",
       " Row(InvoiceNo='580612', StockCode='21428', Description='SET3 BOOK BOX GREEN GINGHAM FLOWER ', Quantity=1, InvoiceDate=datetime.datetime(2011, 12, 5, 11, 58), UnitPrice=8.29, CustomerID=None, Country='United Kingdom'),\n",
       " Row(InvoiceNo='580612', StockCode='21430', Description='SET/3 RED GINGHAM ROSE STORAGE BOX', Quantity=6, InvoiceDate=datetime.datetime(2011, 12, 5, 11, 58), UnitPrice=7.46, CustomerID=None, Country='United Kingdom'),\n",
       " Row(InvoiceNo='580612', StockCode='21494', Description='ROTATING LEAVES T-LIGHT HOLDER', Quantity=1, InvoiceDate=datetime.datetime(2011, 12, 5, 11, 58), UnitPrice=5.79, CustomerID=None, Country='United Kingdom'),\n",
       " Row(InvoiceNo='580612', StockCode='21558', Description='SKULL LUNCH BOX WITH CUTLERY ', Quantity=1, InvoiceDate=datetime.datetime(2011, 12, 5, 11, 58), UnitPrice=4.96, CustomerID=None, Country='United Kingdom'),\n",
       " Row(InvoiceNo='580612', StockCode='21559', Description='STRAWBERRY LUNCH BOX WITH CUTLERY', Quantity=2, InvoiceDate=datetime.datetime(2011, 12, 5, 11, 58), UnitPrice=4.96, CustomerID=None, Country='United Kingdom'),\n",
       " Row(InvoiceNo='580612', StockCode='21679', Description='SKULLS  STICKERS', Quantity=2, InvoiceDate=datetime.datetime(2011, 12, 5, 11, 58), UnitPrice=1.63, CustomerID=None, Country='United Kingdom'),\n",
       " Row(InvoiceNo='580612', StockCode='21731', Description='RED TOADSTOOL LED NIGHT LIGHT', Quantity=5, InvoiceDate=datetime.datetime(2011, 12, 5, 11, 58), UnitPrice=4.13, CustomerID=None, Country='United Kingdom'),\n",
       " Row(InvoiceNo='580612', StockCode='21770', Description='OPEN CLOSED METAL SIGN', Quantity=1, InvoiceDate=datetime.datetime(2011, 12, 5, 11, 58), UnitPrice=9.96, CustomerID=None, Country='United Kingdom'),\n",
       " Row(InvoiceNo='580612', StockCode='21790', Description='VINTAGE SNAP CARDS', Quantity=2, InvoiceDate=datetime.datetime(2011, 12, 5, 11, 58), UnitPrice=1.63, CustomerID=None, Country='United Kingdom'),\n",
       " Row(InvoiceNo='580612', StockCode='21821', Description='GLITTER STAR GARLAND WITH BELLS ', Quantity=1, InvoiceDate=datetime.datetime(2011, 12, 5, 11, 58), UnitPrice=7.46, CustomerID=None, Country='United Kingdom'),\n",
       " Row(InvoiceNo='580612', StockCode='21832', Description='CHOCOLATE CALCULATOR', Quantity=1, InvoiceDate=datetime.datetime(2011, 12, 5, 11, 58), UnitPrice=3.29, CustomerID=None, Country='United Kingdom'),\n",
       " Row(InvoiceNo='580612', StockCode='21843', Description='RED RETROSPOT CAKE STAND', Quantity=2, InvoiceDate=datetime.datetime(2011, 12, 5, 11, 58), UnitPrice=20.79, CustomerID=None, Country='United Kingdom'),\n",
       " Row(InvoiceNo='580612', StockCode='21864', Description='UNION JACK FLAG PASSPORT COVER ', Quantity=3, InvoiceDate=datetime.datetime(2011, 12, 5, 11, 58), UnitPrice=4.13, CustomerID=None, Country='United Kingdom'),\n",
       " Row(InvoiceNo='580612', StockCode='21868', Description='POTTING SHED TEA MUG', Quantity=1, InvoiceDate=datetime.datetime(2011, 12, 5, 11, 58), UnitPrice=3.29, CustomerID=None, Country='United Kingdom'),\n",
       " Row(InvoiceNo='580612', StockCode='21876', Description='POTTERING MUG', Quantity=11, InvoiceDate=datetime.datetime(2011, 12, 5, 11, 58), UnitPrice=3.29, CustomerID=None, Country='United Kingdom'),\n",
       " Row(InvoiceNo='580612', StockCode='21888', Description='BINGO SET', Quantity=1, InvoiceDate=datetime.datetime(2011, 12, 5, 11, 58), UnitPrice=7.46, CustomerID=None, Country='United Kingdom'),\n",
       " Row(InvoiceNo='580612', StockCode='21901', Description='KEY FOB , BACK DOOR ', Quantity=1, InvoiceDate=datetime.datetime(2011, 12, 5, 11, 58), UnitPrice=1.63, CustomerID=None, Country='United Kingdom'),\n",
       " Row(InvoiceNo='580612', StockCode='21902', Description='KEY FOB , FRONT  DOOR ', Quantity=1, InvoiceDate=datetime.datetime(2011, 12, 5, 11, 58), UnitPrice=1.63, CustomerID=None, Country='United Kingdom'),\n",
       " Row(InvoiceNo='580612', StockCode='21916', Description='SET 12 RETRO WHITE CHALK STICKS', Quantity=3, InvoiceDate=datetime.datetime(2011, 12, 5, 11, 58), UnitPrice=0.79, CustomerID=None, Country='United Kingdom'),\n",
       " Row(InvoiceNo='580612', StockCode='21928', Description='JUMBO BAG SCANDINAVIAN BLUE PAISLEY', Quantity=1, InvoiceDate=datetime.datetime(2011, 12, 5, 11, 58), UnitPrice=4.13, CustomerID=None, Country='United Kingdom'),\n",
       " Row(InvoiceNo='580612', StockCode='21929', Description='JUMBO BAG PINK VINTAGE PAISLEY', Quantity=5, InvoiceDate=datetime.datetime(2011, 12, 5, 11, 58), UnitPrice=4.13, CustomerID=None, Country='United Kingdom'),\n",
       " Row(InvoiceNo='580612', StockCode='21930', Description='JUMBO STORAGE BAG SKULLS', Quantity=1, InvoiceDate=datetime.datetime(2011, 12, 5, 11, 58), UnitPrice=4.13, CustomerID=None, Country='United Kingdom'),\n",
       " Row(InvoiceNo='580612', StockCode='21931', Description='JUMBO STORAGE BAG SUKI', Quantity=7, InvoiceDate=datetime.datetime(2011, 12, 5, 11, 58), UnitPrice=4.13, CustomerID=None, Country='United Kingdom'),\n",
       " Row(InvoiceNo='580612', StockCode='21934', Description='SKULL SHOULDER BAG', Quantity=2, InvoiceDate=datetime.datetime(2011, 12, 5, 11, 58), UnitPrice=3.29, CustomerID=None, Country='United Kingdom'),\n",
       " Row(InvoiceNo='580612', StockCode='21935', Description='SUKI  SHOULDER BAG', Quantity=8, InvoiceDate=datetime.datetime(2011, 12, 5, 11, 58), UnitPrice=4.13, CustomerID=None, Country='United Kingdom'),\n",
       " Row(InvoiceNo='580612', StockCode='21949', Description='SET OF 6 STRAWBERRY CHOPSTICKS', Quantity=1, InvoiceDate=datetime.datetime(2011, 12, 5, 11, 58), UnitPrice=2.46, CustomerID=None, Country='United Kingdom'),\n",
       " Row(InvoiceNo='580612', StockCode='21974', Description='SET OF 36 PAISLEY FLOWER DOILIES', Quantity=1, InvoiceDate=datetime.datetime(2011, 12, 5, 11, 58), UnitPrice=3.75, CustomerID=None, Country='United Kingdom'),\n",
       " ...]"
      ]
     },
     "execution_count": 61,
     "metadata": {},
     "output_type": "execute_result"
    }
   ],
   "source": [
    "df.collect()"
   ]
  },
  {
   "cell_type": "code",
   "execution_count": 62,
   "metadata": {},
   "outputs": [
    {
     "data": {
      "text/plain": [
       "list"
      ]
     },
     "execution_count": 62,
     "metadata": {},
     "output_type": "execute_result"
    }
   ],
   "source": [
    "type(df.collect())"
   ]
  },
  {
   "cell_type": "markdown",
   "metadata": {},
   "source": [
    "`limit(num)` limits the result count to the specified number of rows"
   ]
  },
  {
   "cell_type": "code",
   "execution_count": 63,
   "metadata": {},
   "outputs": [
    {
     "data": {
      "text/plain": [
       "[Row(InvoiceNo='580538', StockCode='23084', Description='RABBIT NIGHT LIGHT', Quantity=48, InvoiceDate=datetime.datetime(2011, 12, 5, 8, 38), UnitPrice=1.79, CustomerID=14075.0, Country='United Kingdom'),\n",
       " Row(InvoiceNo='580538', StockCode='23077', Description='DOUGHNUT LIP GLOSS ', Quantity=20, InvoiceDate=datetime.datetime(2011, 12, 5, 8, 38), UnitPrice=1.25, CustomerID=14075.0, Country='United Kingdom'),\n",
       " Row(InvoiceNo='580538', StockCode='22906', Description='12 MESSAGE CARDS WITH ENVELOPES', Quantity=24, InvoiceDate=datetime.datetime(2011, 12, 5, 8, 38), UnitPrice=1.65, CustomerID=14075.0, Country='United Kingdom'),\n",
       " Row(InvoiceNo='580538', StockCode='21914', Description='BLUE HARMONICA IN BOX ', Quantity=24, InvoiceDate=datetime.datetime(2011, 12, 5, 8, 38), UnitPrice=1.25, CustomerID=14075.0, Country='United Kingdom'),\n",
       " Row(InvoiceNo='580538', StockCode='22467', Description='GUMBALL COAT RACK', Quantity=6, InvoiceDate=datetime.datetime(2011, 12, 5, 8, 38), UnitPrice=2.55, CustomerID=14075.0, Country='United Kingdom'),\n",
       " Row(InvoiceNo='580538', StockCode='21544', Description='SKULLS  WATER TRANSFER TATTOOS ', Quantity=48, InvoiceDate=datetime.datetime(2011, 12, 5, 8, 38), UnitPrice=0.85, CustomerID=14075.0, Country='United Kingdom'),\n",
       " Row(InvoiceNo='580538', StockCode='23126', Description='FELTCRAFT GIRL AMELIE KIT', Quantity=8, InvoiceDate=datetime.datetime(2011, 12, 5, 8, 38), UnitPrice=4.95, CustomerID=14075.0, Country='United Kingdom'),\n",
       " Row(InvoiceNo='580538', StockCode='21833', Description='CAMOUFLAGE LED TORCH', Quantity=24, InvoiceDate=datetime.datetime(2011, 12, 5, 8, 38), UnitPrice=1.69, CustomerID=14075.0, Country='United Kingdom'),\n",
       " Row(InvoiceNo='580539', StockCode='21479', Description='WHITE SKULL HOT WATER BOTTLE ', Quantity=4, InvoiceDate=datetime.datetime(2011, 12, 5, 8, 39), UnitPrice=4.25, CustomerID=18180.0, Country='United Kingdom'),\n",
       " Row(InvoiceNo='580539', StockCode='84030E', Description='ENGLISH ROSE HOT WATER BOTTLE', Quantity=4, InvoiceDate=datetime.datetime(2011, 12, 5, 8, 39), UnitPrice=4.25, CustomerID=18180.0, Country='United Kingdom')]"
      ]
     },
     "execution_count": 63,
     "metadata": {},
     "output_type": "execute_result"
    }
   ],
   "source": [
    "df.limit(10).collect()"
   ]
  },
  {
   "cell_type": "markdown",
   "metadata": {},
   "source": [
    "`take(num)` returns just the first *num* rows as a list of Row objects"
   ]
  },
  {
   "cell_type": "code",
   "execution_count": 64,
   "metadata": {},
   "outputs": [
    {
     "data": {
      "text/plain": [
       "[Row(InvoiceNo='580538', StockCode='23084', Description='RABBIT NIGHT LIGHT', Quantity=48, InvoiceDate=datetime.datetime(2011, 12, 5, 8, 38), UnitPrice=1.79, CustomerID=14075.0, Country='United Kingdom'),\n",
       " Row(InvoiceNo='580538', StockCode='23077', Description='DOUGHNUT LIP GLOSS ', Quantity=20, InvoiceDate=datetime.datetime(2011, 12, 5, 8, 38), UnitPrice=1.25, CustomerID=14075.0, Country='United Kingdom'),\n",
       " Row(InvoiceNo='580538', StockCode='22906', Description='12 MESSAGE CARDS WITH ENVELOPES', Quantity=24, InvoiceDate=datetime.datetime(2011, 12, 5, 8, 38), UnitPrice=1.65, CustomerID=14075.0, Country='United Kingdom')]"
      ]
     },
     "execution_count": 64,
     "metadata": {},
     "output_type": "execute_result"
    }
   ],
   "source": [
    "df.take(3)"
   ]
  },
  {
   "cell_type": "code",
   "execution_count": 65,
   "metadata": {},
   "outputs": [
    {
     "data": {
      "text/plain": [
       "list"
      ]
     },
     "execution_count": 65,
     "metadata": {},
     "output_type": "execute_result"
    }
   ],
   "source": [
    "type(df.take(3))"
   ]
  },
  {
   "cell_type": "markdown",
   "metadata": {},
   "source": [
    "If I just want the first row on top, I can do it this way."
   ]
  },
  {
   "cell_type": "code",
   "execution_count": 66,
   "metadata": {},
   "outputs": [
    {
     "data": {
      "text/plain": [
       "Row(InvoiceNo='580538', StockCode='23084', Description='RABBIT NIGHT LIGHT', Quantity=48, InvoiceDate=datetime.datetime(2011, 12, 5, 8, 38), UnitPrice=1.79, CustomerID=14075.0, Country='United Kingdom')"
      ]
     },
     "execution_count": 66,
     "metadata": {},
     "output_type": "execute_result"
    }
   ],
   "source": [
    "df.first()"
   ]
  },
  {
   "cell_type": "markdown",
   "metadata": {},
   "source": [
    "`toLocalIterator()` returns an iterator that contains all of the rows in this `DataFrame`. The iterator will consume as much memory as the largest partition in this `DataFrame`."
   ]
  },
  {
   "cell_type": "markdown",
   "metadata": {},
   "source": [
    "I think, that's enough for today."
   ]
  },
  {
   "cell_type": "code",
   "execution_count": null,
   "metadata": {},
   "outputs": [],
   "source": []
  }
 ],
 "metadata": {
  "kernelspec": {
   "display_name": "Python 3",
   "language": "python",
   "name": "python3"
  },
  "language_info": {
   "codemirror_mode": {
    "name": "ipython",
    "version": 3
   },
   "file_extension": ".py",
   "mimetype": "text/x-python",
   "name": "python",
   "nbconvert_exporter": "python",
   "pygments_lexer": "ipython3",
   "version": "3.7.7"
  }
 },
 "nbformat": 4,
 "nbformat_minor": 4
}